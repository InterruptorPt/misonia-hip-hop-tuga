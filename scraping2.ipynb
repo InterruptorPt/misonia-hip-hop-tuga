{
 "metadata": {
  "language_info": {
   "codemirror_mode": {
    "name": "ipython",
    "version": 3
   },
   "file_extension": ".py",
   "mimetype": "text/x-python",
   "name": "python",
   "nbconvert_exporter": "python",
   "pygments_lexer": "ipython3",
   "version": "3.7.7-final"
  },
  "orig_nbformat": 2,
  "kernelspec": {
   "name": "python37764bitbaseconda317a320067de44d78632809e320a2671",
   "display_name": "Python 3.7.7 64-bit ('base': conda)"
  }
 },
 "nbformat": 4,
 "nbformat_minor": 2,
 "cells": [
  {
   "cell_type": "code",
   "execution_count": 2,
   "metadata": {},
   "outputs": [],
   "source": [
    "import pandas as pd\n",
    "import numpy as np\n",
    "import json\n",
    "import os"
   ]
  },
  {
   "cell_type": "code",
   "execution_count": 23,
   "metadata": {},
   "outputs": [],
   "source": [
    "maindata = pd.DataFrame()  \n",
    "\n",
    "path = \"./5th batch\"\n",
    "\n",
    "for filename in os.listdir(path):\n",
    "    if filename.endswith(\".json\"): \n",
    "        with open(filename) as json_data:\n",
    "           \n",
    "            data = json.load(json_data)\n",
    "            \n",
    "            #getting songs\n",
    "            songs = data.get(\"songs\")\n",
    "            songs_df = pd.DataFrame(songs)\n",
    "             \n",
    "            #getting artist name and release date\n",
    "            songs_df[\"artist_name\"] = data.get(\"name\")\n",
    "            songs_df['date'] = [i.get(\"release_date\") for i in songs]\n",
    "\n",
    "            #getting album name\n",
    "            album_lst = [i.get(\"album\") for i in songs]\n",
    "            songs_df[\"album\"] = [i.get(\"name\") if i else \"---\" for i in album_lst]\n",
    "\n",
    "            #getting featured artist\n",
    "            featured_lists = [song.get(\"featured_artists\") for song in songs]\n",
    "            songs_df[\"featured_artists\"] = [[featured_artist[\"name\"] for featured_artist in featured_lst] for featured_lst in featured_lists]\n",
    "\n",
    "           \n",
    "            maindata = pd.concat([maindata, songs_df])\n",
    "              \n",
    "maindata = maindata[['artist_name', 'title', 'album', 'featured_artists', 'lyrics', 'date', 'url']]\n",
    "maindata5 = maindata\n",
    "#maindata.to_csv(\"teste.csv\")"
   ]
  },
  {
   "cell_type": "code",
   "execution_count": 24,
   "metadata": {},
   "outputs": [
    {
     "output_type": "execute_result",
     "data": {
      "text/plain": [
       "   artist_name                                 title  \\\n",
       "0    Da Weasel                         Re-Tratamento   \n",
       "1    Da Weasel                  Dialectos da Ternura   \n",
       "2    Da Weasel             Casa (Vem fazer de conta)   \n",
       "3    Da Weasel                           Toque-Toque   \n",
       "4    Da Weasel  Carrossel (Às vezes dá-me para isto)   \n",
       "..         ...                                   ...   \n",
       "82       Bispo                 Intro (Passo a Passo)   \n",
       "83       Bispo                                Saldos   \n",
       "84       Bispo                                Por Aí   \n",
       "85       Bispo                       Preto No Branco   \n",
       "86       Bispo                              Sem Rumo   \n",
       "\n",
       "                        album featured_artists  \\\n",
       "0               Re-Definições               []   \n",
       "1   Amor, Escárnio e Maldizer               []   \n",
       "2               Re-Definições     [Manel Cruz]   \n",
       "3   Amor, Escárnio e Maldizer               []   \n",
       "4               Re-Definições               []   \n",
       "..                        ...              ...   \n",
       "82    Passo a Passo [Mixtape]               []   \n",
       "83    Passo a Passo [Mixtape]         [Miacra]   \n",
       "84    Passo a Passo [Mixtape]               []   \n",
       "85    Passo a Passo [Mixtape]               []   \n",
       "86         Recomeço [Mixtape]               []   \n",
       "\n",
       "                                               lyrics        date  \\\n",
       "0   Vou levar-te para casa, tomar conta de ti\\nDar...        None   \n",
       "1                                                None        None   \n",
       "2                                                None        None   \n",
       "3                                                None        None   \n",
       "4   Andar de carrossel às 6 da manhã pode mudar a ...        None   \n",
       "..                                                ...         ...   \n",
       "82                                               None  2013-08-23   \n",
       "83                                               None  2013-08-23   \n",
       "84  Então qual é ó desaparecido?\\nJá à bués que um...  2013-08-23   \n",
       "85  Rosto trancado, olho vidrado\\nLágrimas escorre...  2013-08-23   \n",
       "86  Enquanto há tempo atua\\nA vida continua\\nEnqua...  2012-06-30   \n",
       "\n",
       "                                                  url  \n",
       "0   https://genius.com/Da-weasel-re-tratamento-lyrics  \n",
       "1   https://genius.com/Da-weasel-dialectos-da-tern...  \n",
       "2   https://genius.com/Da-weasel-casa-vem-fazer-de...  \n",
       "3     https://genius.com/Da-weasel-toque-toque-lyrics  \n",
       "4   https://genius.com/Da-weasel-carrossel-as-veze...  \n",
       "..                                                ...  \n",
       "82  https://genius.com/Bispo-intro-passo-a-passo-a...  \n",
       "83             https://genius.com/Bispo-saldos-lyrics  \n",
       "84             https://genius.com/Bispo-por-ai-lyrics  \n",
       "85    https://genius.com/Bispo-preto-no-branco-lyrics  \n",
       "86           https://genius.com/Bispo-sem-rumo-lyrics  \n",
       "\n",
       "[724 rows x 7 columns]"
      ],
      "text/html": "<div>\n<style scoped>\n    .dataframe tbody tr th:only-of-type {\n        vertical-align: middle;\n    }\n\n    .dataframe tbody tr th {\n        vertical-align: top;\n    }\n\n    .dataframe thead th {\n        text-align: right;\n    }\n</style>\n<table border=\"1\" class=\"dataframe\">\n  <thead>\n    <tr style=\"text-align: right;\">\n      <th></th>\n      <th>artist_name</th>\n      <th>title</th>\n      <th>album</th>\n      <th>featured_artists</th>\n      <th>lyrics</th>\n      <th>date</th>\n      <th>url</th>\n    </tr>\n  </thead>\n  <tbody>\n    <tr>\n      <th>0</th>\n      <td>Da Weasel</td>\n      <td>Re-Tratamento</td>\n      <td>Re-Definições</td>\n      <td>[]</td>\n      <td>Vou levar-te para casa, tomar conta de ti\\nDar...</td>\n      <td>None</td>\n      <td>https://genius.com/Da-weasel-re-tratamento-lyrics</td>\n    </tr>\n    <tr>\n      <th>1</th>\n      <td>Da Weasel</td>\n      <td>Dialectos da Ternura</td>\n      <td>Amor, Escárnio e Maldizer</td>\n      <td>[]</td>\n      <td>None</td>\n      <td>None</td>\n      <td>https://genius.com/Da-weasel-dialectos-da-tern...</td>\n    </tr>\n    <tr>\n      <th>2</th>\n      <td>Da Weasel</td>\n      <td>Casa (Vem fazer de conta)</td>\n      <td>Re-Definições</td>\n      <td>[Manel Cruz]</td>\n      <td>None</td>\n      <td>None</td>\n      <td>https://genius.com/Da-weasel-casa-vem-fazer-de...</td>\n    </tr>\n    <tr>\n      <th>3</th>\n      <td>Da Weasel</td>\n      <td>Toque-Toque</td>\n      <td>Amor, Escárnio e Maldizer</td>\n      <td>[]</td>\n      <td>None</td>\n      <td>None</td>\n      <td>https://genius.com/Da-weasel-toque-toque-lyrics</td>\n    </tr>\n    <tr>\n      <th>4</th>\n      <td>Da Weasel</td>\n      <td>Carrossel (Às vezes dá-me para isto)</td>\n      <td>Re-Definições</td>\n      <td>[]</td>\n      <td>Andar de carrossel às 6 da manhã pode mudar a ...</td>\n      <td>None</td>\n      <td>https://genius.com/Da-weasel-carrossel-as-veze...</td>\n    </tr>\n    <tr>\n      <th>...</th>\n      <td>...</td>\n      <td>...</td>\n      <td>...</td>\n      <td>...</td>\n      <td>...</td>\n      <td>...</td>\n      <td>...</td>\n    </tr>\n    <tr>\n      <th>82</th>\n      <td>Bispo</td>\n      <td>Intro (Passo a Passo)</td>\n      <td>Passo a Passo [Mixtape]</td>\n      <td>[]</td>\n      <td>None</td>\n      <td>2013-08-23</td>\n      <td>https://genius.com/Bispo-intro-passo-a-passo-a...</td>\n    </tr>\n    <tr>\n      <th>83</th>\n      <td>Bispo</td>\n      <td>Saldos</td>\n      <td>Passo a Passo [Mixtape]</td>\n      <td>[Miacra]</td>\n      <td>None</td>\n      <td>2013-08-23</td>\n      <td>https://genius.com/Bispo-saldos-lyrics</td>\n    </tr>\n    <tr>\n      <th>84</th>\n      <td>Bispo</td>\n      <td>Por Aí</td>\n      <td>Passo a Passo [Mixtape]</td>\n      <td>[]</td>\n      <td>Então qual é ó desaparecido?\\nJá à bués que um...</td>\n      <td>2013-08-23</td>\n      <td>https://genius.com/Bispo-por-ai-lyrics</td>\n    </tr>\n    <tr>\n      <th>85</th>\n      <td>Bispo</td>\n      <td>Preto No Branco</td>\n      <td>Passo a Passo [Mixtape]</td>\n      <td>[]</td>\n      <td>Rosto trancado, olho vidrado\\nLágrimas escorre...</td>\n      <td>2013-08-23</td>\n      <td>https://genius.com/Bispo-preto-no-branco-lyrics</td>\n    </tr>\n    <tr>\n      <th>86</th>\n      <td>Bispo</td>\n      <td>Sem Rumo</td>\n      <td>Recomeço [Mixtape]</td>\n      <td>[]</td>\n      <td>Enquanto há tempo atua\\nA vida continua\\nEnqua...</td>\n      <td>2012-06-30</td>\n      <td>https://genius.com/Bispo-sem-rumo-lyrics</td>\n    </tr>\n  </tbody>\n</table>\n<p>724 rows × 7 columns</p>\n</div>"
     },
     "metadata": {},
     "execution_count": 24
    }
   ],
   "source": [
    "maindata5"
   ]
  },
  {
   "cell_type": "code",
   "execution_count": 27,
   "metadata": {},
   "outputs": [],
   "source": [
    "tudo_junto = pd.concat([maindata1, maindata2, maindata3, maindata4, maindata5])\n",
    "tudo_junto.to_csv(\"tudo_junto.csv\")"
   ]
  }
 ]
}