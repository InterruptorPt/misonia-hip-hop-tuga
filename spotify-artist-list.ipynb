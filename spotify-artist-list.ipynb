{
 "metadata": {
  "language_info": {
   "codemirror_mode": {
    "name": "ipython",
    "version": 3
   },
   "file_extension": ".py",
   "mimetype": "text/x-python",
   "name": "python",
   "nbconvert_exporter": "python",
   "pygments_lexer": "ipython3",
   "version": "3.7.7-final"
  },
  "orig_nbformat": 2,
  "kernelspec": {
   "name": "python37764bitbaseconda317a320067de44d78632809e320a2671",
   "display_name": "Python 3.7.7 64-bit ('base': conda)"
  }
 },
 "nbformat": 4,
 "nbformat_minor": 2,
 "cells": [
  {
   "cell_type": "code",
   "execution_count": 1,
   "metadata": {},
   "outputs": [],
   "source": [
    "import spotipy\n",
    "from spotipy.oauth2 import SpotifyClientCredentials\n",
    "from dotenv import load_dotenv\n",
    "import os\n"
   ]
  },
  {
   "cell_type": "code",
   "execution_count": 2,
   "metadata": {},
   "outputs": [],
   "source": [
    "#API signin\n",
    "\n",
    "load_dotenv()\n",
    "\n",
    "spotifyId = os.environ.get(\"spotifyId\")\n",
    "spotifySecret = os.environ.get(\"spotifySecret\")\n",
    "\n",
    "ccm = SpotifyClientCredentials(client_id=spotifyId, client_secret=spotifySecret)\n",
    "sp = spotipy.Spotify(client_credentials_manager=ccm)"
   ]
  },
  {
   "cell_type": "code",
   "execution_count": 3,
   "metadata": {},
   "outputs": [
    {
     "output_type": "stream",
     "name": "stdout",
     "text": [
      "spotify:artist:2PfFLAyphfQi6oC15IRQLe\n"
     ]
    }
   ],
   "source": [
    "#teste Slow J\n",
    "\n",
    "results = sp.search(\"artist:slow-j\")\n",
    "artist_id = results['tracks']['items'][0]['artists'][0]['uri']\n",
    "print(artist_id)"
   ]
  },
  {
   "cell_type": "code",
   "execution_count": 5,
   "metadata": {},
   "outputs": [],
   "source": [
    "albums = sp.artist_albums(artist_id, country=\"PT\", limit=50)\n",
    "album_ids = [album['uri'] for album in albums['items']]"
   ]
  }
 ]
}