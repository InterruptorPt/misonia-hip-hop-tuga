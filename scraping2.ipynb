{
 "metadata": {
  "language_info": {
   "codemirror_mode": {
    "name": "ipython",
    "version": 3
   },
   "file_extension": ".py",
   "mimetype": "text/x-python",
   "name": "python",
   "nbconvert_exporter": "python",
   "pygments_lexer": "ipython3",
   "version": "3.7.7-final"
  },
  "orig_nbformat": 2,
  "kernelspec": {
   "name": "python37764bitbaseconda317a320067de44d78632809e320a2671",
   "display_name": "Python 3.7.7 64-bit ('base': conda)"
  }
 },
 "nbformat": 4,
 "nbformat_minor": 2,
 "cells": [
  {
   "cell_type": "code",
   "execution_count": 5,
   "metadata": {},
   "outputs": [],
   "source": [
    "import pandas as pd\n",
    "import numpy as np\n",
    "import json\n",
    "import os"
   ]
  },
  {
   "cell_type": "code",
   "execution_count": 45,
   "metadata": {},
   "outputs": [
    {
     "output_type": "execute_result",
     "data": {
      "text/plain": [
       "      artist_name                  title                    album  \\\n",
       "0   Força Suprema       Snifa Cada Linha                  FS4Life   \n",
       "1   Força Suprema                 4 Life                  FS4Life   \n",
       "2   Força Suprema                   Urna                  Caveira   \n",
       "3   Força Suprema                 Maluku                  FS4Life   \n",
       "4   Força Suprema    Deixa o Clima Rolar                  FS4Life   \n",
       "..            ...                    ...                      ...   \n",
       "82          Bispo  Intro (Passo a Passo)  Passo a Passo [Mixtape]   \n",
       "83          Bispo                 Saldos  Passo a Passo [Mixtape]   \n",
       "84          Bispo                 Por Aí  Passo a Passo [Mixtape]   \n",
       "85          Bispo        Preto No Branco  Passo a Passo [Mixtape]   \n",
       "86          Bispo               Sem Rumo       Recomeço [Mixtape]   \n",
       "\n",
       "     featured_artists                                             lyrics  \\\n",
       "0                  []  O que eu cozinho na minha cozinha\\nMano é dope...   \n",
       "1                  []                                               None   \n",
       "2   [Dope Boyz Muzic]                                               None   \n",
       "3                  []  Yo Deezy, enche ai uma beca o meu copo mô puto...   \n",
       "4      [Deezy (User)]  A ideia era ficar meia hora\\nBeber um copo, ch...   \n",
       "..                ...                                                ...   \n",
       "82                 []  Qual é Factor?\\nEntão?\\n'Tão, mete isso a grav...   \n",
       "83           [Miacra]  Já 'tá a gravar né?\\nCoração em saldos, saldos...   \n",
       "84                 []  Então qual é ó desaparecido?\\nJá à bués que um...   \n",
       "85                 []  Rosto trancado, olho vidrado\\nLágrimas escorre...   \n",
       "86                 []                                               None   \n",
       "\n",
       "          date                                                url  \n",
       "0   2014-09-08  https://genius.com/Forca-suprema-snifa-cada-li...  \n",
       "1   2014-08-25     https://genius.com/Forca-suprema-4-life-lyrics  \n",
       "2   2017-04-25       https://genius.com/Forca-suprema-urna-lyrics  \n",
       "3   2014-08-28     https://genius.com/Forca-suprema-maluku-lyrics  \n",
       "4   2014-09-03  https://genius.com/Forca-suprema-deixa-o-clima...  \n",
       "..         ...                                                ...  \n",
       "82  2013-08-23  https://genius.com/Bispo-intro-passo-a-passo-a...  \n",
       "83  2013-08-23             https://genius.com/Bispo-saldos-lyrics  \n",
       "84  2013-08-23             https://genius.com/Bispo-por-ai-lyrics  \n",
       "85  2013-08-23    https://genius.com/Bispo-preto-no-branco-lyrics  \n",
       "86  2012-06-30           https://genius.com/Bispo-sem-rumo-lyrics  \n",
       "\n",
       "[1682 rows x 7 columns]"
      ],
      "text/html": "<div>\n<style scoped>\n    .dataframe tbody tr th:only-of-type {\n        vertical-align: middle;\n    }\n\n    .dataframe tbody tr th {\n        vertical-align: top;\n    }\n\n    .dataframe thead th {\n        text-align: right;\n    }\n</style>\n<table border=\"1\" class=\"dataframe\">\n  <thead>\n    <tr style=\"text-align: right;\">\n      <th></th>\n      <th>artist_name</th>\n      <th>title</th>\n      <th>album</th>\n      <th>featured_artists</th>\n      <th>lyrics</th>\n      <th>date</th>\n      <th>url</th>\n    </tr>\n  </thead>\n  <tbody>\n    <tr>\n      <th>0</th>\n      <td>Força Suprema</td>\n      <td>Snifa Cada Linha</td>\n      <td>FS4Life</td>\n      <td>[]</td>\n      <td>O que eu cozinho na minha cozinha\\nMano é dope...</td>\n      <td>2014-09-08</td>\n      <td>https://genius.com/Forca-suprema-snifa-cada-li...</td>\n    </tr>\n    <tr>\n      <th>1</th>\n      <td>Força Suprema</td>\n      <td>4 Life</td>\n      <td>FS4Life</td>\n      <td>[]</td>\n      <td>None</td>\n      <td>2014-08-25</td>\n      <td>https://genius.com/Forca-suprema-4-life-lyrics</td>\n    </tr>\n    <tr>\n      <th>2</th>\n      <td>Força Suprema</td>\n      <td>Urna</td>\n      <td>Caveira</td>\n      <td>[Dope Boyz Muzic]</td>\n      <td>None</td>\n      <td>2017-04-25</td>\n      <td>https://genius.com/Forca-suprema-urna-lyrics</td>\n    </tr>\n    <tr>\n      <th>3</th>\n      <td>Força Suprema</td>\n      <td>Maluku</td>\n      <td>FS4Life</td>\n      <td>[]</td>\n      <td>Yo Deezy, enche ai uma beca o meu copo mô puto...</td>\n      <td>2014-08-28</td>\n      <td>https://genius.com/Forca-suprema-maluku-lyrics</td>\n    </tr>\n    <tr>\n      <th>4</th>\n      <td>Força Suprema</td>\n      <td>Deixa o Clima Rolar</td>\n      <td>FS4Life</td>\n      <td>[Deezy (User)]</td>\n      <td>A ideia era ficar meia hora\\nBeber um copo, ch...</td>\n      <td>2014-09-03</td>\n      <td>https://genius.com/Forca-suprema-deixa-o-clima...</td>\n    </tr>\n    <tr>\n      <th>...</th>\n      <td>...</td>\n      <td>...</td>\n      <td>...</td>\n      <td>...</td>\n      <td>...</td>\n      <td>...</td>\n      <td>...</td>\n    </tr>\n    <tr>\n      <th>82</th>\n      <td>Bispo</td>\n      <td>Intro (Passo a Passo)</td>\n      <td>Passo a Passo [Mixtape]</td>\n      <td>[]</td>\n      <td>Qual é Factor?\\nEntão?\\n'Tão, mete isso a grav...</td>\n      <td>2013-08-23</td>\n      <td>https://genius.com/Bispo-intro-passo-a-passo-a...</td>\n    </tr>\n    <tr>\n      <th>83</th>\n      <td>Bispo</td>\n      <td>Saldos</td>\n      <td>Passo a Passo [Mixtape]</td>\n      <td>[Miacra]</td>\n      <td>Já 'tá a gravar né?\\nCoração em saldos, saldos...</td>\n      <td>2013-08-23</td>\n      <td>https://genius.com/Bispo-saldos-lyrics</td>\n    </tr>\n    <tr>\n      <th>84</th>\n      <td>Bispo</td>\n      <td>Por Aí</td>\n      <td>Passo a Passo [Mixtape]</td>\n      <td>[]</td>\n      <td>Então qual é ó desaparecido?\\nJá à bués que um...</td>\n      <td>2013-08-23</td>\n      <td>https://genius.com/Bispo-por-ai-lyrics</td>\n    </tr>\n    <tr>\n      <th>85</th>\n      <td>Bispo</td>\n      <td>Preto No Branco</td>\n      <td>Passo a Passo [Mixtape]</td>\n      <td>[]</td>\n      <td>Rosto trancado, olho vidrado\\nLágrimas escorre...</td>\n      <td>2013-08-23</td>\n      <td>https://genius.com/Bispo-preto-no-branco-lyrics</td>\n    </tr>\n    <tr>\n      <th>86</th>\n      <td>Bispo</td>\n      <td>Sem Rumo</td>\n      <td>Recomeço [Mixtape]</td>\n      <td>[]</td>\n      <td>None</td>\n      <td>2012-06-30</td>\n      <td>https://genius.com/Bispo-sem-rumo-lyrics</td>\n    </tr>\n  </tbody>\n</table>\n<p>1682 rows × 7 columns</p>\n</div>"
     },
     "metadata": {},
     "execution_count": 45
    }
   ],
   "source": [
    "maindata = pd.DataFrame()  \n",
    "\n",
    "path = [\"../lyrics 1st round\", \"../2nd round\", \"../3rd batch\", \"../4th batch\", \"../5th batch\"]\n",
    "\n",
    "for filename in os.listdir():\n",
    "    if filename.endswith(\".json\"): \n",
    "        with open(filename) as json_data:\n",
    "           \n",
    "            data = json.load(json_data)\n",
    "            \n",
    "            #getting songs\n",
    "            songs = data.get(\"songs\")\n",
    "            songs_df = pd.DataFrame(songs)\n",
    "             \n",
    "            #getting artist name and release date\n",
    "            songs_df[\"artist_name\"] = data.get(\"name\")\n",
    "            songs_df['date'] = [i.get(\"release_date\") for i in songs]\n",
    "\n",
    "            #getting album name\n",
    "            album_lst = [i.get(\"album\") for i in songs]\n",
    "            songs_df[\"album\"] = [i.get(\"name\") if i else \"---\" for i in album_lst]\n",
    "\n",
    "            #getting featured artist\n",
    "            featured_lists = [song.get(\"featured_artists\") for song in songs]\n",
    "            songs_df[\"featured_artists\"] = [[featured_artist[\"name\"] for featured_artist in featured_lst] for featured_lst in featured_lists]\n",
    "\n",
    "           \n",
    "            maindata = pd.concat([maindata, songs_df])\n",
    "              \n",
    "maindata = maindata[['artist_name', 'title', 'album', 'featured_artists', 'lyrics', 'date', 'url']]\n",
    "maindata\n",
    "#maindata.to_csv(\"teste.csv\")"
   ]
  }
 ]
}