{
 "metadata": {
  "language_info": {
   "codemirror_mode": {
    "name": "ipython",
    "version": 3
   },
   "file_extension": ".py",
   "mimetype": "text/x-python",
   "name": "python",
   "nbconvert_exporter": "python",
   "pygments_lexer": "ipython3",
   "version": "3.7.7-final"
  },
  "orig_nbformat": 2,
  "kernelspec": {
   "name": "python37764bitbaseconda317a320067de44d78632809e320a2671",
   "display_name": "Python 3.7.7 64-bit ('base': conda)"
  }
 },
 "nbformat": 4,
 "nbformat_minor": 2,
 "cells": [
  {
   "cell_type": "code",
   "execution_count": 1,
   "metadata": {},
   "outputs": [],
   "source": [
    "import pandas as pd\n",
    "import numpy as np\n",
    "import matplotlib.pyplot as plt\n",
    "import tqdm\n",
    "import re\n",
    "import scipy.stats as st\n",
    "import nltk\n",
    "from nltk.corpus import stopwords\n",
    "from nltk.tokenize import word_tokenize"
   ]
  },
  {
   "cell_type": "code",
   "execution_count": 2,
   "metadata": {},
   "outputs": [
    {
     "output_type": "execute_result",
     "data": {
      "text/plain": [
       "<bound method DataFrame.info of      Unnamed: 0   artist_name                                          title  \\\n",
       "0             0  Mike El Nite                                     Dr. Bayard   \n",
       "1             1  Mike El Nite                                      Mambo nº1   \n",
       "2             2  Mike El Nite                                  Só badalhocas   \n",
       "3             3  Mike El Nite                                     Horizontes   \n",
       "4             4  Mike El Nite                                       T.U.G.A.   \n",
       "..          ...           ...                                            ...   \n",
       "271          77       ProfJam                                       Sumário*   \n",
       "272          78       ProfJam                                          Refém   \n",
       "273          79       ProfJam  ProfJam (Passatempo H2T Valete Campo Pequeno)   \n",
       "274          80       ProfJam                                        Espelho   \n",
       "275          81       ProfJam                              Cosp’Acapella #25   \n",
       "\n",
       "                              album  \\\n",
       "0                      Inter-Missão   \n",
       "1    Rusga para Concerto em G Menor   \n",
       "2                  Vaporetto Titano   \n",
       "3                      O Justiceiro   \n",
       "4                      O Justiceiro   \n",
       "..                              ...   \n",
       "271                             ---   \n",
       "272                             ---   \n",
       "273                             ---   \n",
       "274                             ---   \n",
       "275                             ---   \n",
       "\n",
       "                                                lyrics        date  \\\n",
       "0    Ice Burz on the track\\nAgora vais ver o que é ...  2018-05-07   \n",
       "1    Zona T, finest\\nYe ye Nite, Jam\\n2000 e...\\n\\n...  2013-12-16   \n",
       "2     Mike El Nite:\\nSó badalhocas nesta festa\\nCom...  2016-01-01   \n",
       "3    Uma obra que depressa viria a ser reconhecida ...  2016-04-22   \n",
       "4    Hey, vive a vida como uma festa\\nSob o vento d...  2016-04-22   \n",
       "..                                                 ...         ...   \n",
       "271  A lava que eu cuspi derreteu o microfone\\nE o ...         NaN   \n",
       "272  Já sei que sabes que eu sei, por isso vem\\nPor...  2012-01-01   \n",
       "273  Yeah é Profjam na faixa\\nContra-Cultura\\n30 de...         NaN   \n",
       "274                                                NaN  2013-12-30   \n",
       "275  Se entrasse fora do tempo, eu já nem estaria a...  2013-08-01   \n",
       "\n",
       "                                                   url  \n",
       "0     https://genius.com/Mike-el-nite-dr-bayard-lyrics  \n",
       "1     https://genius.com/Mike-el-nite-mambo-no1-lyrics  \n",
       "2    https://genius.com/Mike-el-nite-so-badalhocas-...  \n",
       "3    https://genius.com/Mike-el-nite-horizontes-lyrics  \n",
       "4          https://genius.com/Mike-el-nite-tuga-lyrics  \n",
       "..                                                 ...  \n",
       "271       https://genius.com/Profjam-sumario-annotated  \n",
       "272            https://genius.com/Profjam-refem-lyrics  \n",
       "273  https://genius.com/Profjam-profjam-passatempo-...  \n",
       "274          https://genius.com/Profjam-espelho-lyrics  \n",
       "275  https://genius.com/Profjam-cospacapella-25-lyrics  \n",
       "\n",
       "[276 rows x 7 columns]>"
      ]
     },
     "metadata": {},
     "execution_count": 2
    }
   ],
   "source": [
    "dataset = pd.read_csv(\"teste.csv\")\n",
    "dataset.info"
   ]
  },
  {
   "cell_type": "code",
   "execution_count": 3,
   "metadata": {},
   "outputs": [
    {
     "output_type": "execute_result",
     "data": {
      "text/plain": [
       "Unnamed: 0       0\n",
       "artist_name      0\n",
       "title            0\n",
       "album            0\n",
       "lyrics         131\n",
       "date            83\n",
       "url              0\n",
       "dtype: int64"
      ]
     },
     "metadata": {},
     "execution_count": 3
    }
   ],
   "source": [
    "#dataset.drop('Unnamed: 0', axis = 1, inplace = True)\n",
    "dataset.isna().sum()"
   ]
  },
  {
   "cell_type": "code",
   "execution_count": 4,
   "metadata": {},
   "outputs": [],
   "source": [
    "dataset['lyrics'] = dataset['lyrics'].fillna(value='')\n",
    "\n",
    "def remove_punct(s):\n",
    "    new_lyr = re.sub(r'[^\\w\\s]', '', s).lower()\n",
    "    new_lyr = re.sub(r'[\\n]', ' ', new_lyr).lower()\n",
    "    return new_lyr\n",
    "\n",
    "dataset.lyrics = dataset.lyrics.apply(remove_punct)"
   ]
  },
  {
   "cell_type": "code",
   "execution_count": 5,
   "metadata": {},
   "outputs": [],
   "source": [
    "#lyrics length\n",
    "dataset[\"lyrics_len\"] = [len(x) for x in dataset[\"lyrics\"]]"
   ]
  },
  {
   "cell_type": "code",
   "execution_count": 6,
   "metadata": {},
   "outputs": [],
   "source": [
    "# remover stopwords\n",
    "\n",
    "stopwords_pt = nltk.corpus.stopwords.words('portuguese')\n",
    "stopwords_pt.append(\"porque\")\n",
    "dataset['no_stopwords'] = dataset.apply(lambda x : ' '.join([word for word in x['lyrics'].split(' ') if word not in stopwords_pt]), axis = 1)"
   ]
  },
  {
   "cell_type": "code",
   "execution_count": 7,
   "metadata": {},
   "outputs": [
    {
     "output_type": "execute_result",
     "data": {
      "text/plain": [
       "     Unnamed: 0   artist_name                                          title  \\\n",
       "0             0  Mike El Nite                                     Dr. Bayard   \n",
       "1             1  Mike El Nite                                      Mambo nº1   \n",
       "2             2  Mike El Nite                                  Só badalhocas   \n",
       "3             3  Mike El Nite                                     Horizontes   \n",
       "4             4  Mike El Nite                                       T.U.G.A.   \n",
       "..          ...           ...                                            ...   \n",
       "271          77       ProfJam                                       Sumário*   \n",
       "272          78       ProfJam                                          Refém   \n",
       "273          79       ProfJam  ProfJam (Passatempo H2T Valete Campo Pequeno)   \n",
       "274          80       ProfJam                                        Espelho   \n",
       "275          81       ProfJam                              Cosp’Acapella #25   \n",
       "\n",
       "                              album  \\\n",
       "0                      Inter-Missão   \n",
       "1    Rusga para Concerto em G Menor   \n",
       "2                  Vaporetto Titano   \n",
       "3                      O Justiceiro   \n",
       "4                      O Justiceiro   \n",
       "..                              ...   \n",
       "271                             ---   \n",
       "272                             ---   \n",
       "273                             ---   \n",
       "274                             ---   \n",
       "275                             ---   \n",
       "\n",
       "                                                lyrics        date  \\\n",
       "0    ice burz on the track agora vais ver o que é b...  2018-05-07   \n",
       "1    zona t finest ye ye nite jam 2000 e  eu sou o ...  2013-12-16   \n",
       "2     mike el nite só badalhocas nesta festa como é...  2016-01-01   \n",
       "3    uma obra que depressa viria a ser reconhecida ...  2016-04-22   \n",
       "4    hey vive a vida como uma festa sob o vento da ...  2016-04-22   \n",
       "..                                                 ...         ...   \n",
       "271  a lava que eu cuspi derreteu o microfone e o q...         NaN   \n",
       "272  já sei que sabes que eu sei por isso vem por e...  2012-01-01   \n",
       "273  yeah é profjam na faixa contracultura 30 de no...         NaN   \n",
       "274                                                     2013-12-30   \n",
       "275  se entrasse fora do tempo eu já nem estaria aq...  2013-08-01   \n",
       "\n",
       "                                                   url  lyrics_len  \\\n",
       "0     https://genius.com/Mike-el-nite-dr-bayard-lyrics        4277   \n",
       "1     https://genius.com/Mike-el-nite-mambo-no1-lyrics        3004   \n",
       "2    https://genius.com/Mike-el-nite-so-badalhocas-...        2735   \n",
       "3    https://genius.com/Mike-el-nite-horizontes-lyrics        2923   \n",
       "4          https://genius.com/Mike-el-nite-tuga-lyrics        2628   \n",
       "..                                                 ...         ...   \n",
       "271       https://genius.com/Profjam-sumario-annotated        1449   \n",
       "272            https://genius.com/Profjam-refem-lyrics        1445   \n",
       "273  https://genius.com/Profjam-profjam-passatempo-...        1157   \n",
       "274          https://genius.com/Profjam-espelho-lyrics           0   \n",
       "275  https://genius.com/Profjam-cospacapella-25-lyrics        2008   \n",
       "\n",
       "                                          no_stopwords  \n",
       "0    ice burz on the track agora vais ver bom pra t...  \n",
       "1    zona t finest ye ye nite jam 2000  mike el nit...  \n",
       "2     mike el nite badalhocas nesta festa deixaram ...  \n",
       "3    obra depressa viria ser reconhecida pontos alt...  \n",
       "4    hey vive vida festa sob vento floresta adoro r...  \n",
       "..                                                 ...  \n",
       "271  lava cuspi derreteu microfone digo agora vai d...  \n",
       "272  sei sabes sei vem caminho sabes que estou bem ...  \n",
       "273  yeah profjam faixa contracultura 30 novembro c...  \n",
       "274                                                     \n",
       "275  entrasse tempo estaria aqui passatempo contrat...  \n",
       "\n",
       "[276 rows x 9 columns]"
      ],
      "text/html": "<div>\n<style scoped>\n    .dataframe tbody tr th:only-of-type {\n        vertical-align: middle;\n    }\n\n    .dataframe tbody tr th {\n        vertical-align: top;\n    }\n\n    .dataframe thead th {\n        text-align: right;\n    }\n</style>\n<table border=\"1\" class=\"dataframe\">\n  <thead>\n    <tr style=\"text-align: right;\">\n      <th></th>\n      <th>Unnamed: 0</th>\n      <th>artist_name</th>\n      <th>title</th>\n      <th>album</th>\n      <th>lyrics</th>\n      <th>date</th>\n      <th>url</th>\n      <th>lyrics_len</th>\n      <th>no_stopwords</th>\n    </tr>\n  </thead>\n  <tbody>\n    <tr>\n      <th>0</th>\n      <td>0</td>\n      <td>Mike El Nite</td>\n      <td>Dr. Bayard</td>\n      <td>Inter-Missão</td>\n      <td>ice burz on the track agora vais ver o que é b...</td>\n      <td>2018-05-07</td>\n      <td>https://genius.com/Mike-el-nite-dr-bayard-lyrics</td>\n      <td>4277</td>\n      <td>ice burz on the track agora vais ver bom pra t...</td>\n    </tr>\n    <tr>\n      <th>1</th>\n      <td>1</td>\n      <td>Mike El Nite</td>\n      <td>Mambo nº1</td>\n      <td>Rusga para Concerto em G Menor</td>\n      <td>zona t finest ye ye nite jam 2000 e  eu sou o ...</td>\n      <td>2013-12-16</td>\n      <td>https://genius.com/Mike-el-nite-mambo-no1-lyrics</td>\n      <td>3004</td>\n      <td>zona t finest ye ye nite jam 2000  mike el nit...</td>\n    </tr>\n    <tr>\n      <th>2</th>\n      <td>2</td>\n      <td>Mike El Nite</td>\n      <td>Só badalhocas</td>\n      <td>Vaporetto Titano</td>\n      <td>mike el nite só badalhocas nesta festa como é...</td>\n      <td>2016-01-01</td>\n      <td>https://genius.com/Mike-el-nite-so-badalhocas-...</td>\n      <td>2735</td>\n      <td>mike el nite badalhocas nesta festa deixaram ...</td>\n    </tr>\n    <tr>\n      <th>3</th>\n      <td>3</td>\n      <td>Mike El Nite</td>\n      <td>Horizontes</td>\n      <td>O Justiceiro</td>\n      <td>uma obra que depressa viria a ser reconhecida ...</td>\n      <td>2016-04-22</td>\n      <td>https://genius.com/Mike-el-nite-horizontes-lyrics</td>\n      <td>2923</td>\n      <td>obra depressa viria ser reconhecida pontos alt...</td>\n    </tr>\n    <tr>\n      <th>4</th>\n      <td>4</td>\n      <td>Mike El Nite</td>\n      <td>T.U.G.A.</td>\n      <td>O Justiceiro</td>\n      <td>hey vive a vida como uma festa sob o vento da ...</td>\n      <td>2016-04-22</td>\n      <td>https://genius.com/Mike-el-nite-tuga-lyrics</td>\n      <td>2628</td>\n      <td>hey vive vida festa sob vento floresta adoro r...</td>\n    </tr>\n    <tr>\n      <th>...</th>\n      <td>...</td>\n      <td>...</td>\n      <td>...</td>\n      <td>...</td>\n      <td>...</td>\n      <td>...</td>\n      <td>...</td>\n      <td>...</td>\n      <td>...</td>\n    </tr>\n    <tr>\n      <th>271</th>\n      <td>77</td>\n      <td>ProfJam</td>\n      <td>Sumário*</td>\n      <td>---</td>\n      <td>a lava que eu cuspi derreteu o microfone e o q...</td>\n      <td>NaN</td>\n      <td>https://genius.com/Profjam-sumario-annotated</td>\n      <td>1449</td>\n      <td>lava cuspi derreteu microfone digo agora vai d...</td>\n    </tr>\n    <tr>\n      <th>272</th>\n      <td>78</td>\n      <td>ProfJam</td>\n      <td>Refém</td>\n      <td>---</td>\n      <td>já sei que sabes que eu sei por isso vem por e...</td>\n      <td>2012-01-01</td>\n      <td>https://genius.com/Profjam-refem-lyrics</td>\n      <td>1445</td>\n      <td>sei sabes sei vem caminho sabes que estou bem ...</td>\n    </tr>\n    <tr>\n      <th>273</th>\n      <td>79</td>\n      <td>ProfJam</td>\n      <td>ProfJam (Passatempo H2T Valete Campo Pequeno)</td>\n      <td>---</td>\n      <td>yeah é profjam na faixa contracultura 30 de no...</td>\n      <td>NaN</td>\n      <td>https://genius.com/Profjam-profjam-passatempo-...</td>\n      <td>1157</td>\n      <td>yeah profjam faixa contracultura 30 novembro c...</td>\n    </tr>\n    <tr>\n      <th>274</th>\n      <td>80</td>\n      <td>ProfJam</td>\n      <td>Espelho</td>\n      <td>---</td>\n      <td></td>\n      <td>2013-12-30</td>\n      <td>https://genius.com/Profjam-espelho-lyrics</td>\n      <td>0</td>\n      <td></td>\n    </tr>\n    <tr>\n      <th>275</th>\n      <td>81</td>\n      <td>ProfJam</td>\n      <td>Cosp’Acapella #25</td>\n      <td>---</td>\n      <td>se entrasse fora do tempo eu já nem estaria aq...</td>\n      <td>2013-08-01</td>\n      <td>https://genius.com/Profjam-cospacapella-25-lyrics</td>\n      <td>2008</td>\n      <td>entrasse tempo estaria aqui passatempo contrat...</td>\n    </tr>\n  </tbody>\n</table>\n<p>276 rows × 9 columns</p>\n</div>"
     },
     "metadata": {},
     "execution_count": 7
    }
   ],
   "source": [
    "dataset"
   ]
  },
  {
   "cell_type": "code",
   "execution_count": 8,
   "metadata": {},
   "outputs": [
    {
     "output_type": "execute_result",
     "data": {
      "text/plain": [
       "     Unnamed: 0   artist_name                                          title  \\\n",
       "0             0  Mike El Nite                                     Dr. Bayard   \n",
       "1             1  Mike El Nite                                      Mambo nº1   \n",
       "2             2  Mike El Nite                                  Só badalhocas   \n",
       "3             3  Mike El Nite                                     Horizontes   \n",
       "4             4  Mike El Nite                                       T.U.G.A.   \n",
       "..          ...           ...                                            ...   \n",
       "271          77       ProfJam                                       Sumário*   \n",
       "272          78       ProfJam                                          Refém   \n",
       "273          79       ProfJam  ProfJam (Passatempo H2T Valete Campo Pequeno)   \n",
       "274          80       ProfJam                                        Espelho   \n",
       "275          81       ProfJam                              Cosp’Acapella #25   \n",
       "\n",
       "                              album  \\\n",
       "0                      Inter-Missão   \n",
       "1    Rusga para Concerto em G Menor   \n",
       "2                  Vaporetto Titano   \n",
       "3                      O Justiceiro   \n",
       "4                      O Justiceiro   \n",
       "..                              ...   \n",
       "271                             ---   \n",
       "272                             ---   \n",
       "273                             ---   \n",
       "274                             ---   \n",
       "275                             ---   \n",
       "\n",
       "                                                lyrics        date  \\\n",
       "0    ice burz on the track agora vais ver o que é b...  2018-05-07   \n",
       "1    zona t finest ye ye nite jam 2000 e  eu sou o ...  2013-12-16   \n",
       "2     mike el nite só badalhocas nesta festa como é...  2016-01-01   \n",
       "3    uma obra que depressa viria a ser reconhecida ...  2016-04-22   \n",
       "4    hey vive a vida como uma festa sob o vento da ...  2016-04-22   \n",
       "..                                                 ...         ...   \n",
       "271  a lava que eu cuspi derreteu o microfone e o q...         NaN   \n",
       "272  já sei que sabes que eu sei por isso vem por e...  2012-01-01   \n",
       "273  yeah é profjam na faixa contracultura 30 de no...         NaN   \n",
       "274                                                     2013-12-30   \n",
       "275  se entrasse fora do tempo eu já nem estaria aq...  2013-08-01   \n",
       "\n",
       "                                                   url  lyrics_len  \\\n",
       "0     https://genius.com/Mike-el-nite-dr-bayard-lyrics        4277   \n",
       "1     https://genius.com/Mike-el-nite-mambo-no1-lyrics        3004   \n",
       "2    https://genius.com/Mike-el-nite-so-badalhocas-...        2735   \n",
       "3    https://genius.com/Mike-el-nite-horizontes-lyrics        2923   \n",
       "4          https://genius.com/Mike-el-nite-tuga-lyrics        2628   \n",
       "..                                                 ...         ...   \n",
       "271       https://genius.com/Profjam-sumario-annotated        1449   \n",
       "272            https://genius.com/Profjam-refem-lyrics        1445   \n",
       "273  https://genius.com/Profjam-profjam-passatempo-...        1157   \n",
       "274          https://genius.com/Profjam-espelho-lyrics           0   \n",
       "275  https://genius.com/Profjam-cospacapella-25-lyrics        2008   \n",
       "\n",
       "                                          no_stopwords  \\\n",
       "0    ice burz on the track agora vais ver bom pra t...   \n",
       "1    zona t finest ye ye nite jam 2000  mike el nit...   \n",
       "2     mike el nite badalhocas nesta festa deixaram ...   \n",
       "3    obra depressa viria ser reconhecida pontos alt...   \n",
       "4    hey vive vida festa sob vento floresta adoro r...   \n",
       "..                                                 ...   \n",
       "271  lava cuspi derreteu microfone digo agora vai d...   \n",
       "272  sei sabes sei vem caminho sabes que estou bem ...   \n",
       "273  yeah profjam faixa contracultura 30 novembro c...   \n",
       "274                                                      \n",
       "275  entrasse tempo estaria aqui passatempo contrat...   \n",
       "\n",
       "                                                tokens  \n",
       "0    [ice, burz, on, the, track, agora, vais, ver, ...  \n",
       "1    [zona, t, finest, ye, ye, nite, jam, 2000, mik...  \n",
       "2    [mike, el, nite, badalhocas, nesta, festa, dei...  \n",
       "3    [obra, depressa, viria, ser, reconhecida, pont...  \n",
       "4    [hey, vive, vida, festa, sob, vento, floresta,...  \n",
       "..                                                 ...  \n",
       "271  [lava, cuspi, derreteu, microfone, digo, agora...  \n",
       "272  [sei, sabes, sei, vem, caminho, sabes, que, es...  \n",
       "273  [yeah, profjam, faixa, contracultura, 30, nove...  \n",
       "274                                                 []  \n",
       "275  [entrasse, tempo, estaria, aqui, passatempo, c...  \n",
       "\n",
       "[276 rows x 10 columns]"
      ],
      "text/html": "<div>\n<style scoped>\n    .dataframe tbody tr th:only-of-type {\n        vertical-align: middle;\n    }\n\n    .dataframe tbody tr th {\n        vertical-align: top;\n    }\n\n    .dataframe thead th {\n        text-align: right;\n    }\n</style>\n<table border=\"1\" class=\"dataframe\">\n  <thead>\n    <tr style=\"text-align: right;\">\n      <th></th>\n      <th>Unnamed: 0</th>\n      <th>artist_name</th>\n      <th>title</th>\n      <th>album</th>\n      <th>lyrics</th>\n      <th>date</th>\n      <th>url</th>\n      <th>lyrics_len</th>\n      <th>no_stopwords</th>\n      <th>tokens</th>\n    </tr>\n  </thead>\n  <tbody>\n    <tr>\n      <th>0</th>\n      <td>0</td>\n      <td>Mike El Nite</td>\n      <td>Dr. Bayard</td>\n      <td>Inter-Missão</td>\n      <td>ice burz on the track agora vais ver o que é b...</td>\n      <td>2018-05-07</td>\n      <td>https://genius.com/Mike-el-nite-dr-bayard-lyrics</td>\n      <td>4277</td>\n      <td>ice burz on the track agora vais ver bom pra t...</td>\n      <td>[ice, burz, on, the, track, agora, vais, ver, ...</td>\n    </tr>\n    <tr>\n      <th>1</th>\n      <td>1</td>\n      <td>Mike El Nite</td>\n      <td>Mambo nº1</td>\n      <td>Rusga para Concerto em G Menor</td>\n      <td>zona t finest ye ye nite jam 2000 e  eu sou o ...</td>\n      <td>2013-12-16</td>\n      <td>https://genius.com/Mike-el-nite-mambo-no1-lyrics</td>\n      <td>3004</td>\n      <td>zona t finest ye ye nite jam 2000  mike el nit...</td>\n      <td>[zona, t, finest, ye, ye, nite, jam, 2000, mik...</td>\n    </tr>\n    <tr>\n      <th>2</th>\n      <td>2</td>\n      <td>Mike El Nite</td>\n      <td>Só badalhocas</td>\n      <td>Vaporetto Titano</td>\n      <td>mike el nite só badalhocas nesta festa como é...</td>\n      <td>2016-01-01</td>\n      <td>https://genius.com/Mike-el-nite-so-badalhocas-...</td>\n      <td>2735</td>\n      <td>mike el nite badalhocas nesta festa deixaram ...</td>\n      <td>[mike, el, nite, badalhocas, nesta, festa, dei...</td>\n    </tr>\n    <tr>\n      <th>3</th>\n      <td>3</td>\n      <td>Mike El Nite</td>\n      <td>Horizontes</td>\n      <td>O Justiceiro</td>\n      <td>uma obra que depressa viria a ser reconhecida ...</td>\n      <td>2016-04-22</td>\n      <td>https://genius.com/Mike-el-nite-horizontes-lyrics</td>\n      <td>2923</td>\n      <td>obra depressa viria ser reconhecida pontos alt...</td>\n      <td>[obra, depressa, viria, ser, reconhecida, pont...</td>\n    </tr>\n    <tr>\n      <th>4</th>\n      <td>4</td>\n      <td>Mike El Nite</td>\n      <td>T.U.G.A.</td>\n      <td>O Justiceiro</td>\n      <td>hey vive a vida como uma festa sob o vento da ...</td>\n      <td>2016-04-22</td>\n      <td>https://genius.com/Mike-el-nite-tuga-lyrics</td>\n      <td>2628</td>\n      <td>hey vive vida festa sob vento floresta adoro r...</td>\n      <td>[hey, vive, vida, festa, sob, vento, floresta,...</td>\n    </tr>\n    <tr>\n      <th>...</th>\n      <td>...</td>\n      <td>...</td>\n      <td>...</td>\n      <td>...</td>\n      <td>...</td>\n      <td>...</td>\n      <td>...</td>\n      <td>...</td>\n      <td>...</td>\n      <td>...</td>\n    </tr>\n    <tr>\n      <th>271</th>\n      <td>77</td>\n      <td>ProfJam</td>\n      <td>Sumário*</td>\n      <td>---</td>\n      <td>a lava que eu cuspi derreteu o microfone e o q...</td>\n      <td>NaN</td>\n      <td>https://genius.com/Profjam-sumario-annotated</td>\n      <td>1449</td>\n      <td>lava cuspi derreteu microfone digo agora vai d...</td>\n      <td>[lava, cuspi, derreteu, microfone, digo, agora...</td>\n    </tr>\n    <tr>\n      <th>272</th>\n      <td>78</td>\n      <td>ProfJam</td>\n      <td>Refém</td>\n      <td>---</td>\n      <td>já sei que sabes que eu sei por isso vem por e...</td>\n      <td>2012-01-01</td>\n      <td>https://genius.com/Profjam-refem-lyrics</td>\n      <td>1445</td>\n      <td>sei sabes sei vem caminho sabes que estou bem ...</td>\n      <td>[sei, sabes, sei, vem, caminho, sabes, que, es...</td>\n    </tr>\n    <tr>\n      <th>273</th>\n      <td>79</td>\n      <td>ProfJam</td>\n      <td>ProfJam (Passatempo H2T Valete Campo Pequeno)</td>\n      <td>---</td>\n      <td>yeah é profjam na faixa contracultura 30 de no...</td>\n      <td>NaN</td>\n      <td>https://genius.com/Profjam-profjam-passatempo-...</td>\n      <td>1157</td>\n      <td>yeah profjam faixa contracultura 30 novembro c...</td>\n      <td>[yeah, profjam, faixa, contracultura, 30, nove...</td>\n    </tr>\n    <tr>\n      <th>274</th>\n      <td>80</td>\n      <td>ProfJam</td>\n      <td>Espelho</td>\n      <td>---</td>\n      <td></td>\n      <td>2013-12-30</td>\n      <td>https://genius.com/Profjam-espelho-lyrics</td>\n      <td>0</td>\n      <td></td>\n      <td>[]</td>\n    </tr>\n    <tr>\n      <th>275</th>\n      <td>81</td>\n      <td>ProfJam</td>\n      <td>Cosp’Acapella #25</td>\n      <td>---</td>\n      <td>se entrasse fora do tempo eu já nem estaria aq...</td>\n      <td>2013-08-01</td>\n      <td>https://genius.com/Profjam-cospacapella-25-lyrics</td>\n      <td>2008</td>\n      <td>entrasse tempo estaria aqui passatempo contrat...</td>\n      <td>[entrasse, tempo, estaria, aqui, passatempo, c...</td>\n    </tr>\n  </tbody>\n</table>\n<p>276 rows × 10 columns</p>\n</div>"
     },
     "metadata": {},
     "execution_count": 8
    }
   ],
   "source": [
    "dataset['tokens'] = dataset['no_stopwords'].apply(nltk.word_tokenize) # THIS IS THE MOST EFFICIENT\n",
    "dataset"
   ]
  },
  {
   "cell_type": "code",
   "execution_count": 9,
   "metadata": {},
   "outputs": [
    {
     "output_type": "execute_result",
     "data": {
      "text/plain": [
       "     Unnamed: 0              term  \\\n",
       "0             1    abafa-palhinha   \n",
       "1             4         abananado   \n",
       "2            11            à beça   \n",
       "3            13        abichanado   \n",
       "4            20  abono de família   \n",
       "..          ...               ...   \n",
       "715        6508             xarro   \n",
       "716        6511           xibungo   \n",
       "717        6512          xilindró   \n",
       "718        6518              xulo   \n",
       "719        6524             zuate   \n",
       "\n",
       "                                           description              level  \\\n",
       "0               &bullet; homossexual masculino passivo   calão carroceiro   \n",
       "1                    admirado, aturdido e sem palavras          coloquial   \n",
       "2                                 em grande quantidade          coloquial   \n",
       "3               &bullet; homossexual masculino passivo              calão   \n",
       "4                 órgão sexual masculino, pénis, pênis          coloquial   \n",
       "..                                                 ...                ...   \n",
       "715                                                NaN          coloquial   \n",
       "716             &bullet; homossexual masculino passivo   calão carroceiro   \n",
       "717                                             cadeia          coloquial   \n",
       "718                                              é um:   calão carroceiro   \n",
       "719  referente à região das nádegas ou ânus, freque...              calão   \n",
       "\n",
       "                                               synonym  scale  \n",
       "0     arrombado; paneleiro; larilas; lelé; bicha; b...      3  \n",
       "1     estupefacto; azuratado; aturdido; embasbacado...      1  \n",
       "2                                                  NaN      1  \n",
       "3     arrombado; paneleiro; larilas; lelé; bicha; b...      2  \n",
       "4                                                  NaN      1  \n",
       "..                                                 ...    ...  \n",
       "715                            cavalo; heroína; charro      1  \n",
       "716   arrombado; paneleiro; larilas; lelé; bicha; b...      3  \n",
       "717   pildra; choça; prisão; prisa; calabouço; masm...      1  \n",
       "718                                               none      3  \n",
       "719   bunda; alcofa; cu; peida; rabo; bilha; trasei...      2  \n",
       "\n",
       "[720 rows x 6 columns]"
      ],
      "text/html": "<div>\n<style scoped>\n    .dataframe tbody tr th:only-of-type {\n        vertical-align: middle;\n    }\n\n    .dataframe tbody tr th {\n        vertical-align: top;\n    }\n\n    .dataframe thead th {\n        text-align: right;\n    }\n</style>\n<table border=\"1\" class=\"dataframe\">\n  <thead>\n    <tr style=\"text-align: right;\">\n      <th></th>\n      <th>Unnamed: 0</th>\n      <th>term</th>\n      <th>description</th>\n      <th>level</th>\n      <th>synonym</th>\n      <th>scale</th>\n    </tr>\n  </thead>\n  <tbody>\n    <tr>\n      <th>0</th>\n      <td>1</td>\n      <td>abafa-palhinha</td>\n      <td>&amp;bullet; homossexual masculino passivo</td>\n      <td>calão carroceiro</td>\n      <td>arrombado; paneleiro; larilas; lelé; bicha; b...</td>\n      <td>3</td>\n    </tr>\n    <tr>\n      <th>1</th>\n      <td>4</td>\n      <td>abananado</td>\n      <td>admirado, aturdido e sem palavras</td>\n      <td>coloquial</td>\n      <td>estupefacto; azuratado; aturdido; embasbacado...</td>\n      <td>1</td>\n    </tr>\n    <tr>\n      <th>2</th>\n      <td>11</td>\n      <td>à beça</td>\n      <td>em grande quantidade</td>\n      <td>coloquial</td>\n      <td>NaN</td>\n      <td>1</td>\n    </tr>\n    <tr>\n      <th>3</th>\n      <td>13</td>\n      <td>abichanado</td>\n      <td>&amp;bullet; homossexual masculino passivo</td>\n      <td>calão</td>\n      <td>arrombado; paneleiro; larilas; lelé; bicha; b...</td>\n      <td>2</td>\n    </tr>\n    <tr>\n      <th>4</th>\n      <td>20</td>\n      <td>abono de família</td>\n      <td>órgão sexual masculino, pénis, pênis</td>\n      <td>coloquial</td>\n      <td>NaN</td>\n      <td>1</td>\n    </tr>\n    <tr>\n      <th>...</th>\n      <td>...</td>\n      <td>...</td>\n      <td>...</td>\n      <td>...</td>\n      <td>...</td>\n      <td>...</td>\n    </tr>\n    <tr>\n      <th>715</th>\n      <td>6508</td>\n      <td>xarro</td>\n      <td>NaN</td>\n      <td>coloquial</td>\n      <td>cavalo; heroína; charro</td>\n      <td>1</td>\n    </tr>\n    <tr>\n      <th>716</th>\n      <td>6511</td>\n      <td>xibungo</td>\n      <td>&amp;bullet; homossexual masculino passivo</td>\n      <td>calão carroceiro</td>\n      <td>arrombado; paneleiro; larilas; lelé; bicha; b...</td>\n      <td>3</td>\n    </tr>\n    <tr>\n      <th>717</th>\n      <td>6512</td>\n      <td>xilindró</td>\n      <td>cadeia</td>\n      <td>coloquial</td>\n      <td>pildra; choça; prisão; prisa; calabouço; masm...</td>\n      <td>1</td>\n    </tr>\n    <tr>\n      <th>718</th>\n      <td>6518</td>\n      <td>xulo</td>\n      <td>é um:</td>\n      <td>calão carroceiro</td>\n      <td>none</td>\n      <td>3</td>\n    </tr>\n    <tr>\n      <th>719</th>\n      <td>6524</td>\n      <td>zuate</td>\n      <td>referente à região das nádegas ou ânus, freque...</td>\n      <td>calão</td>\n      <td>bunda; alcofa; cu; peida; rabo; bilha; trasei...</td>\n      <td>2</td>\n    </tr>\n  </tbody>\n</table>\n<p>720 rows × 6 columns</p>\n</div>"
     },
     "metadata": {},
     "execution_count": 9
    }
   ],
   "source": [
    "dicionario = pd.read_csv(\"dicionario_limpo.csv\")\n",
    "dicionario"
   ]
  },
  {
   "cell_type": "code",
   "execution_count": 10,
   "metadata": {
    "tags": []
   },
   "outputs": [],
   "source": [
    "lyrics_sets = dataset[\"tokens\"]\n",
    "swear_words = list(dicionario[\"term\"])\n",
    "scores = pd.Series(dicionario.scale.values,index=dicionario.term).to_dict()\n",
    "score_data = []\n",
    "swear_words_by_song = []\n",
    "\n",
    "for lyrics in lyrics_sets:\n",
    "  total_swear_score = 0\n",
    "  swear_words_in_lyrics = [token for token in lyrics if token in swear_words]\n",
    "\n",
    "  for swear in swear_words_in_lyrics:\n",
    "      total_swear_score += scores.get(swear)\n",
    "\n",
    "  swear_words_by_song.append(swear_words_in_lyrics)\n",
    "  score_data.append(total_swear_score)\n",
    "\n",
    "dataset[\"swears\"] = swear_words_by_song\n",
    "dataset[\"score\"] = score_data"
   ]
  },
  {
   "cell_type": "code",
   "execution_count": 11,
   "metadata": {},
   "outputs": [
    {
     "output_type": "execute_result",
     "data": {
      "text/plain": [
       "     Unnamed: 0   artist_name                                          title  \\\n",
       "0             0  Mike El Nite                                     Dr. Bayard   \n",
       "1             1  Mike El Nite                                      Mambo nº1   \n",
       "2             2  Mike El Nite                                  Só badalhocas   \n",
       "3             3  Mike El Nite                                     Horizontes   \n",
       "4             4  Mike El Nite                                       T.U.G.A.   \n",
       "..          ...           ...                                            ...   \n",
       "271          77       ProfJam                                       Sumário*   \n",
       "272          78       ProfJam                                          Refém   \n",
       "273          79       ProfJam  ProfJam (Passatempo H2T Valete Campo Pequeno)   \n",
       "274          80       ProfJam                                        Espelho   \n",
       "275          81       ProfJam                              Cosp’Acapella #25   \n",
       "\n",
       "                              album  \\\n",
       "0                      Inter-Missão   \n",
       "1    Rusga para Concerto em G Menor   \n",
       "2                  Vaporetto Titano   \n",
       "3                      O Justiceiro   \n",
       "4                      O Justiceiro   \n",
       "..                              ...   \n",
       "271                             ---   \n",
       "272                             ---   \n",
       "273                             ---   \n",
       "274                             ---   \n",
       "275                             ---   \n",
       "\n",
       "                                                lyrics        date  \\\n",
       "0    ice burz on the track agora vais ver o que é b...  2018-05-07   \n",
       "1    zona t finest ye ye nite jam 2000 e  eu sou o ...  2013-12-16   \n",
       "2     mike el nite só badalhocas nesta festa como é...  2016-01-01   \n",
       "3    uma obra que depressa viria a ser reconhecida ...  2016-04-22   \n",
       "4    hey vive a vida como uma festa sob o vento da ...  2016-04-22   \n",
       "..                                                 ...         ...   \n",
       "271  a lava que eu cuspi derreteu o microfone e o q...         NaN   \n",
       "272  já sei que sabes que eu sei por isso vem por e...  2012-01-01   \n",
       "273  yeah é profjam na faixa contracultura 30 de no...         NaN   \n",
       "274                                                     2013-12-30   \n",
       "275  se entrasse fora do tempo eu já nem estaria aq...  2013-08-01   \n",
       "\n",
       "                                                   url  lyrics_len  \\\n",
       "0     https://genius.com/Mike-el-nite-dr-bayard-lyrics        4277   \n",
       "1     https://genius.com/Mike-el-nite-mambo-no1-lyrics        3004   \n",
       "2    https://genius.com/Mike-el-nite-so-badalhocas-...        2735   \n",
       "3    https://genius.com/Mike-el-nite-horizontes-lyrics        2923   \n",
       "4          https://genius.com/Mike-el-nite-tuga-lyrics        2628   \n",
       "..                                                 ...         ...   \n",
       "271       https://genius.com/Profjam-sumario-annotated        1449   \n",
       "272            https://genius.com/Profjam-refem-lyrics        1445   \n",
       "273  https://genius.com/Profjam-profjam-passatempo-...        1157   \n",
       "274          https://genius.com/Profjam-espelho-lyrics           0   \n",
       "275  https://genius.com/Profjam-cospacapella-25-lyrics        2008   \n",
       "\n",
       "                                          no_stopwords  \\\n",
       "0    ice burz on the track agora vais ver bom pra t...   \n",
       "1    zona t finest ye ye nite jam 2000  mike el nit...   \n",
       "2     mike el nite badalhocas nesta festa deixaram ...   \n",
       "3    obra depressa viria ser reconhecida pontos alt...   \n",
       "4    hey vive vida festa sob vento floresta adoro r...   \n",
       "..                                                 ...   \n",
       "271  lava cuspi derreteu microfone digo agora vai d...   \n",
       "272  sei sabes sei vem caminho sabes que estou bem ...   \n",
       "273  yeah profjam faixa contracultura 30 novembro c...   \n",
       "274                                                      \n",
       "275  entrasse tempo estaria aqui passatempo contrat...   \n",
       "\n",
       "                                                tokens  \\\n",
       "0    [ice, burz, on, the, track, agora, vais, ver, ...   \n",
       "1    [zona, t, finest, ye, ye, nite, jam, 2000, mik...   \n",
       "2    [mike, el, nite, badalhocas, nesta, festa, dei...   \n",
       "3    [obra, depressa, viria, ser, reconhecida, pont...   \n",
       "4    [hey, vive, vida, festa, sob, vento, floresta,...   \n",
       "..                                                 ...   \n",
       "271  [lava, cuspi, derreteu, microfone, digo, agora...   \n",
       "272  [sei, sabes, sei, vem, caminho, sabes, que, es...   \n",
       "273  [yeah, profjam, faixa, contracultura, 30, nove...   \n",
       "274                                                 []   \n",
       "275  [entrasse, tempo, estaria, aqui, passatempo, c...   \n",
       "\n",
       "                                                swears  score  \n",
       "0                      [vaca, tipo, tipo, tipo, pinto]      6  \n",
       "1    [puta, merda, tipo, gay, tipo, piço, tipo, tip...     18  \n",
       "2         [puta, foder, vaca, cu, puta, rabo, putaria]     19  \n",
       "3                 [caralho, merda, azeite, tipo, tipo]     10  \n",
       "4                                 [gato, tipo, mágico]      3  \n",
       "..                                                 ...    ...  \n",
       "271                      [foda, puto, pau, foda, foda]     16  \n",
       "272                                                 []      0  \n",
       "273                                             [tipo]      1  \n",
       "274                                                 []      0  \n",
       "275             [puto, puto, bomba, bomba, puto, tipo]      9  \n",
       "\n",
       "[276 rows x 12 columns]"
      ],
      "text/html": "<div>\n<style scoped>\n    .dataframe tbody tr th:only-of-type {\n        vertical-align: middle;\n    }\n\n    .dataframe tbody tr th {\n        vertical-align: top;\n    }\n\n    .dataframe thead th {\n        text-align: right;\n    }\n</style>\n<table border=\"1\" class=\"dataframe\">\n  <thead>\n    <tr style=\"text-align: right;\">\n      <th></th>\n      <th>Unnamed: 0</th>\n      <th>artist_name</th>\n      <th>title</th>\n      <th>album</th>\n      <th>lyrics</th>\n      <th>date</th>\n      <th>url</th>\n      <th>lyrics_len</th>\n      <th>no_stopwords</th>\n      <th>tokens</th>\n      <th>swears</th>\n      <th>score</th>\n    </tr>\n  </thead>\n  <tbody>\n    <tr>\n      <th>0</th>\n      <td>0</td>\n      <td>Mike El Nite</td>\n      <td>Dr. Bayard</td>\n      <td>Inter-Missão</td>\n      <td>ice burz on the track agora vais ver o que é b...</td>\n      <td>2018-05-07</td>\n      <td>https://genius.com/Mike-el-nite-dr-bayard-lyrics</td>\n      <td>4277</td>\n      <td>ice burz on the track agora vais ver bom pra t...</td>\n      <td>[ice, burz, on, the, track, agora, vais, ver, ...</td>\n      <td>[vaca, tipo, tipo, tipo, pinto]</td>\n      <td>6</td>\n    </tr>\n    <tr>\n      <th>1</th>\n      <td>1</td>\n      <td>Mike El Nite</td>\n      <td>Mambo nº1</td>\n      <td>Rusga para Concerto em G Menor</td>\n      <td>zona t finest ye ye nite jam 2000 e  eu sou o ...</td>\n      <td>2013-12-16</td>\n      <td>https://genius.com/Mike-el-nite-mambo-no1-lyrics</td>\n      <td>3004</td>\n      <td>zona t finest ye ye nite jam 2000  mike el nit...</td>\n      <td>[zona, t, finest, ye, ye, nite, jam, 2000, mik...</td>\n      <td>[puta, merda, tipo, gay, tipo, piço, tipo, tip...</td>\n      <td>18</td>\n    </tr>\n    <tr>\n      <th>2</th>\n      <td>2</td>\n      <td>Mike El Nite</td>\n      <td>Só badalhocas</td>\n      <td>Vaporetto Titano</td>\n      <td>mike el nite só badalhocas nesta festa como é...</td>\n      <td>2016-01-01</td>\n      <td>https://genius.com/Mike-el-nite-so-badalhocas-...</td>\n      <td>2735</td>\n      <td>mike el nite badalhocas nesta festa deixaram ...</td>\n      <td>[mike, el, nite, badalhocas, nesta, festa, dei...</td>\n      <td>[puta, foder, vaca, cu, puta, rabo, putaria]</td>\n      <td>19</td>\n    </tr>\n    <tr>\n      <th>3</th>\n      <td>3</td>\n      <td>Mike El Nite</td>\n      <td>Horizontes</td>\n      <td>O Justiceiro</td>\n      <td>uma obra que depressa viria a ser reconhecida ...</td>\n      <td>2016-04-22</td>\n      <td>https://genius.com/Mike-el-nite-horizontes-lyrics</td>\n      <td>2923</td>\n      <td>obra depressa viria ser reconhecida pontos alt...</td>\n      <td>[obra, depressa, viria, ser, reconhecida, pont...</td>\n      <td>[caralho, merda, azeite, tipo, tipo]</td>\n      <td>10</td>\n    </tr>\n    <tr>\n      <th>4</th>\n      <td>4</td>\n      <td>Mike El Nite</td>\n      <td>T.U.G.A.</td>\n      <td>O Justiceiro</td>\n      <td>hey vive a vida como uma festa sob o vento da ...</td>\n      <td>2016-04-22</td>\n      <td>https://genius.com/Mike-el-nite-tuga-lyrics</td>\n      <td>2628</td>\n      <td>hey vive vida festa sob vento floresta adoro r...</td>\n      <td>[hey, vive, vida, festa, sob, vento, floresta,...</td>\n      <td>[gato, tipo, mágico]</td>\n      <td>3</td>\n    </tr>\n    <tr>\n      <th>...</th>\n      <td>...</td>\n      <td>...</td>\n      <td>...</td>\n      <td>...</td>\n      <td>...</td>\n      <td>...</td>\n      <td>...</td>\n      <td>...</td>\n      <td>...</td>\n      <td>...</td>\n      <td>...</td>\n      <td>...</td>\n    </tr>\n    <tr>\n      <th>271</th>\n      <td>77</td>\n      <td>ProfJam</td>\n      <td>Sumário*</td>\n      <td>---</td>\n      <td>a lava que eu cuspi derreteu o microfone e o q...</td>\n      <td>NaN</td>\n      <td>https://genius.com/Profjam-sumario-annotated</td>\n      <td>1449</td>\n      <td>lava cuspi derreteu microfone digo agora vai d...</td>\n      <td>[lava, cuspi, derreteu, microfone, digo, agora...</td>\n      <td>[foda, puto, pau, foda, foda]</td>\n      <td>16</td>\n    </tr>\n    <tr>\n      <th>272</th>\n      <td>78</td>\n      <td>ProfJam</td>\n      <td>Refém</td>\n      <td>---</td>\n      <td>já sei que sabes que eu sei por isso vem por e...</td>\n      <td>2012-01-01</td>\n      <td>https://genius.com/Profjam-refem-lyrics</td>\n      <td>1445</td>\n      <td>sei sabes sei vem caminho sabes que estou bem ...</td>\n      <td>[sei, sabes, sei, vem, caminho, sabes, que, es...</td>\n      <td>[]</td>\n      <td>0</td>\n    </tr>\n    <tr>\n      <th>273</th>\n      <td>79</td>\n      <td>ProfJam</td>\n      <td>ProfJam (Passatempo H2T Valete Campo Pequeno)</td>\n      <td>---</td>\n      <td>yeah é profjam na faixa contracultura 30 de no...</td>\n      <td>NaN</td>\n      <td>https://genius.com/Profjam-profjam-passatempo-...</td>\n      <td>1157</td>\n      <td>yeah profjam faixa contracultura 30 novembro c...</td>\n      <td>[yeah, profjam, faixa, contracultura, 30, nove...</td>\n      <td>[tipo]</td>\n      <td>1</td>\n    </tr>\n    <tr>\n      <th>274</th>\n      <td>80</td>\n      <td>ProfJam</td>\n      <td>Espelho</td>\n      <td>---</td>\n      <td></td>\n      <td>2013-12-30</td>\n      <td>https://genius.com/Profjam-espelho-lyrics</td>\n      <td>0</td>\n      <td></td>\n      <td>[]</td>\n      <td>[]</td>\n      <td>0</td>\n    </tr>\n    <tr>\n      <th>275</th>\n      <td>81</td>\n      <td>ProfJam</td>\n      <td>Cosp’Acapella #25</td>\n      <td>---</td>\n      <td>se entrasse fora do tempo eu já nem estaria aq...</td>\n      <td>2013-08-01</td>\n      <td>https://genius.com/Profjam-cospacapella-25-lyrics</td>\n      <td>2008</td>\n      <td>entrasse tempo estaria aqui passatempo contrat...</td>\n      <td>[entrasse, tempo, estaria, aqui, passatempo, c...</td>\n      <td>[puto, puto, bomba, bomba, puto, tipo]</td>\n      <td>9</td>\n    </tr>\n  </tbody>\n</table>\n<p>276 rows × 12 columns</p>\n</div>"
     },
     "metadata": {},
     "execution_count": 11
    }
   ],
   "source": [
    "dataset"
   ]
  },
  {
   "cell_type": "code",
   "execution_count": 12,
   "metadata": {},
   "outputs": [],
   "source": [
    "plt.style.use('https://github.com/dhaitz/matplotlib-stylesheets/raw/master/pitayasmoothie-light.mplstyle')"
   ]
  },
  {
   "cell_type": "code",
   "execution_count": 27,
   "metadata": {},
   "outputs": [],
   "source": [
    "import pygal\n",
    "from IPython.display import display,SVG, HTML\n",
    "\n",
    "\n",
    "\n",
    "html_pygal = \"\"\"\n",
    "<!DOCTYPE html>\n",
    "<html>\n",
    "  <head>\n",
    "  <script type=\"text/javascript\" src=\"http://kozea.github.com/pygal.js/javascripts/svg.jquery.js\"></script>\n",
    "  <script type=\"text/javascript\" src=\"http://kozea.github.com/pygal.js/javascripts/pygal-tooltips.js\"></script>\n",
    "    <!-- ... -->\n",
    "  </head>\n",
    "  <body>\n",
    "    <figure>\n",
    "      {pygal_render}\n",
    "    </figure>\n",
    "  </body>\n",
    "</html>\n",
    "\"\"\""
   ]
  },
  {
   "cell_type": "code",
   "execution_count": 28,
   "metadata": {},
   "outputs": [
    {
     "output_type": "execute_result",
     "data": {
      "text/plain": [
       "artist_name\n",
       "Mike El Nite    5.218750\n",
       "ProfJam         4.207317\n",
       "Regula          3.650000\n",
       "Valete          4.134146\n",
       "Name: score, dtype: float64"
      ]
     },
     "metadata": {},
     "execution_count": 28
    }
   ],
   "source": [
    "mean_by_artist = dataset.groupby('artist_name')['score'].mean()\n",
    "mean_by_artist"
   ]
  },
  {
   "cell_type": "code",
   "execution_count": 31,
   "metadata": {},
   "outputs": [
    {
     "output_type": "execute_result",
     "data": {
      "text/plain": [
       "<IPython.core.display.HTML object>"
      ],
      "text/html": "\n<!DOCTYPE html>\n<html>\n  <head>\n  <script type=\"text/javascript\" src=\"http://kozea.github.com/pygal.js/javascripts/svg.jquery.js\"></script>\n  <script type=\"text/javascript\" src=\"http://kozea.github.com/pygal.js/javascripts/pygal-tooltips.js\"></script>\n    <!-- ... -->\n  </head>\n  <body>\n    <figure>\n      b'<?xml version=\\'1.0\\' encoding=\\'utf-8\\'?>\\n<svg xmlns=\"http://www.w3.org/2000/svg\" xmlns:xlink=\"http://www.w3.org/1999/xlink\" id=\"chart-00238906-4e1b-447b-84e5-d4be301df915\" class=\"pygal-chart\" viewBox=\"0 0 800 200\"><!--Generated with pygal 2.4.0 (lxml) \\xc2\\xa9Kozea 2012-2016 on 2020-11-21--><!--http://pygal.org--><!--http://github.com/Kozea/pygal--><defs><style type=\"text/css\">#chart-00238906-4e1b-447b-84e5-d4be301df915{-webkit-user-select:none;-webkit-font-smoothing:antialiased;font-family:Consolas,\"Liberation Mono\",Menlo,Courier,monospace}#chart-00238906-4e1b-447b-84e5-d4be301df915 .title{font-family:Consolas,\"Liberation Mono\",Menlo,Courier,monospace;font-size:16px}#chart-00238906-4e1b-447b-84e5-d4be301df915 .legends .legend text{font-family:Consolas,\"Liberation Mono\",Menlo,Courier,monospace;font-size:14px}#chart-00238906-4e1b-447b-84e5-d4be301df915 .axis text{font-family:Consolas,\"Liberation Mono\",Menlo,Courier,monospace;font-size:10px}#chart-00238906-4e1b-447b-84e5-d4be301df915 .axis text.major{font-family:Consolas,\"Liberation Mono\",Menlo,Courier,monospace;font-size:10px}#chart-00238906-4e1b-447b-84e5-d4be301df915 .text-overlay text.value{font-family:Consolas,\"Liberation Mono\",Menlo,Courier,monospace;font-size:16px}#chart-00238906-4e1b-447b-84e5-d4be301df915 .text-overlay text.label{font-family:Consolas,\"Liberation Mono\",Menlo,Courier,monospace;font-size:10px}#chart-00238906-4e1b-447b-84e5-d4be301df915 .tooltip{font-family:Consolas,\"Liberation Mono\",Menlo,Courier,monospace;font-size:14px}#chart-00238906-4e1b-447b-84e5-d4be301df915 text.no_data{font-family:Consolas,\"Liberation Mono\",Menlo,Courier,monospace;font-size:64px}\\n#chart-00238906-4e1b-447b-84e5-d4be301df915{background-color:rgba(249,249,249,1)}#chart-00238906-4e1b-447b-84e5-d4be301df915 path,#chart-00238906-4e1b-447b-84e5-d4be301df915 line,#chart-00238906-4e1b-447b-84e5-d4be301df915 rect,#chart-00238906-4e1b-447b-84e5-d4be301df915 circle{-webkit-transition:150ms;-moz-transition:150ms;transition:150ms}#chart-00238906-4e1b-447b-84e5-d4be301df915 .graph &gt; .background{fill:rgba(249,249,249,1)}#chart-00238906-4e1b-447b-84e5-d4be301df915 .plot &gt; .background{fill:rgba(255,255,255,1)}#chart-00238906-4e1b-447b-84e5-d4be301df915 .graph{fill:rgba(0,0,0,.87)}#chart-00238906-4e1b-447b-84e5-d4be301df915 text.no_data{fill:rgba(0,0,0,1)}#chart-00238906-4e1b-447b-84e5-d4be301df915 .title{fill:rgba(0,0,0,1)}#chart-00238906-4e1b-447b-84e5-d4be301df915 .legends .legend text{fill:rgba(0,0,0,.87)}#chart-00238906-4e1b-447b-84e5-d4be301df915 .legends .legend:hover text{fill:rgba(0,0,0,1)}#chart-00238906-4e1b-447b-84e5-d4be301df915 .axis .line{stroke:rgba(0,0,0,1)}#chart-00238906-4e1b-447b-84e5-d4be301df915 .axis .guide.line{stroke:rgba(0,0,0,.54)}#chart-00238906-4e1b-447b-84e5-d4be301df915 .axis .major.line{stroke:rgba(0,0,0,.87)}#chart-00238906-4e1b-447b-84e5-d4be301df915 .axis text.major{fill:rgba(0,0,0,1)}#chart-00238906-4e1b-447b-84e5-d4be301df915 .axis.y .guides:hover .guide.line,#chart-00238906-4e1b-447b-84e5-d4be301df915 .line-graph .axis.x .guides:hover .guide.line,#chart-00238906-4e1b-447b-84e5-d4be301df915 .stackedline-graph .axis.x .guides:hover .guide.line,#chart-00238906-4e1b-447b-84e5-d4be301df915 .xy-graph .axis.x .guides:hover .guide.line{stroke:rgba(0,0,0,1)}#chart-00238906-4e1b-447b-84e5-d4be301df915 .axis .guides:hover text{fill:rgba(0,0,0,1)}#chart-00238906-4e1b-447b-84e5-d4be301df915 .reactive{fill-opacity:.7;stroke-opacity:.8}#chart-00238906-4e1b-447b-84e5-d4be301df915 .ci{stroke:rgba(0,0,0,.87)}#chart-00238906-4e1b-447b-84e5-d4be301df915 .reactive.active,#chart-00238906-4e1b-447b-84e5-d4be301df915 .active .reactive{fill-opacity:.8;stroke-opacity:.9;stroke-width:4}#chart-00238906-4e1b-447b-84e5-d4be301df915 .ci .reactive.active{stroke-width:1.5}#chart-00238906-4e1b-447b-84e5-d4be301df915 .series text{fill:rgba(0,0,0,1)}#chart-00238906-4e1b-447b-84e5-d4be301df915 .tooltip rect{fill:rgba(255,255,255,1);stroke:rgba(0,0,0,1);-webkit-transition:opacity 150ms;-moz-transition:opacity 150ms;transition:opacity 150ms}#chart-00238906-4e1b-447b-84e5-d4be301df915 .tooltip .label{fill:rgba(0,0,0,.87)}#chart-00238906-4e1b-447b-84e5-d4be301df915 .tooltip .label{fill:rgba(0,0,0,.87)}#chart-00238906-4e1b-447b-84e5-d4be301df915 .tooltip .legend{font-size:.8em;fill:rgba(0,0,0,.54)}#chart-00238906-4e1b-447b-84e5-d4be301df915 .tooltip .x_label{font-size:.6em;fill:rgba(0,0,0,1)}#chart-00238906-4e1b-447b-84e5-d4be301df915 .tooltip .xlink{font-size:.5em;text-decoration:underline}#chart-00238906-4e1b-447b-84e5-d4be301df915 .tooltip .value{font-size:1.5em}#chart-00238906-4e1b-447b-84e5-d4be301df915 .bound{font-size:.5em}#chart-00238906-4e1b-447b-84e5-d4be301df915 .max-value{font-size:.75em;fill:rgba(0,0,0,.54)}#chart-00238906-4e1b-447b-84e5-d4be301df915 .map-element{fill:rgba(255,255,255,1);stroke:rgba(0,0,0,.54) !important}#chart-00238906-4e1b-447b-84e5-d4be301df915 .map-element .reactive{fill-opacity:inherit;stroke-opacity:inherit}#chart-00238906-4e1b-447b-84e5-d4be301df915 .color-0,#chart-00238906-4e1b-447b-84e5-d4be301df915 .color-0 a:visited{stroke:#F44336;fill:#F44336}#chart-00238906-4e1b-447b-84e5-d4be301df915 .color-1,#chart-00238906-4e1b-447b-84e5-d4be301df915 .color-1 a:visited{stroke:#3F51B5;fill:#3F51B5}#chart-00238906-4e1b-447b-84e5-d4be301df915 .color-2,#chart-00238906-4e1b-447b-84e5-d4be301df915 .color-2 a:visited{stroke:#009688;fill:#009688}#chart-00238906-4e1b-447b-84e5-d4be301df915 .color-3,#chart-00238906-4e1b-447b-84e5-d4be301df915 .color-3 a:visited{stroke:#FFC107;fill:#FFC107}#chart-00238906-4e1b-447b-84e5-d4be301df915 .text-overlay .color-0 text{fill:black}#chart-00238906-4e1b-447b-84e5-d4be301df915 .text-overlay .color-1 text{fill:black}#chart-00238906-4e1b-447b-84e5-d4be301df915 .text-overlay .color-2 text{fill:black}#chart-00238906-4e1b-447b-84e5-d4be301df915 .text-overlay .color-3 text{fill:black}\\n#chart-00238906-4e1b-447b-84e5-d4be301df915 text.no_data{text-anchor:middle}#chart-00238906-4e1b-447b-84e5-d4be301df915 .guide.line{fill:none}#chart-00238906-4e1b-447b-84e5-d4be301df915 .centered{text-anchor:middle}#chart-00238906-4e1b-447b-84e5-d4be301df915 .title{text-anchor:middle}#chart-00238906-4e1b-447b-84e5-d4be301df915 .legends .legend text{fill-opacity:1}#chart-00238906-4e1b-447b-84e5-d4be301df915 .axis.x text{text-anchor:middle}#chart-00238906-4e1b-447b-84e5-d4be301df915 .axis.x:not(.web) text[transform]{text-anchor:start}#chart-00238906-4e1b-447b-84e5-d4be301df915 .axis.x:not(.web) text[transform].backwards{text-anchor:end}#chart-00238906-4e1b-447b-84e5-d4be301df915 .axis.y text{text-anchor:end}#chart-00238906-4e1b-447b-84e5-d4be301df915 .axis.y text[transform].backwards{text-anchor:start}#chart-00238906-4e1b-447b-84e5-d4be301df915 .axis.y2 text{text-anchor:start}#chart-00238906-4e1b-447b-84e5-d4be301df915 .axis.y2 text[transform].backwards{text-anchor:end}#chart-00238906-4e1b-447b-84e5-d4be301df915 .axis .guide.line{stroke-dasharray:4,4}#chart-00238906-4e1b-447b-84e5-d4be301df915 .axis .major.guide.line{stroke-dasharray:6,6}#chart-00238906-4e1b-447b-84e5-d4be301df915 .horizontal .axis.y .guide.line,#chart-00238906-4e1b-447b-84e5-d4be301df915 .horizontal .axis.y2 .guide.line,#chart-00238906-4e1b-447b-84e5-d4be301df915 .vertical .axis.x .guide.line{opacity:0}#chart-00238906-4e1b-447b-84e5-d4be301df915 .horizontal .axis.always_show .guide.line,#chart-00238906-4e1b-447b-84e5-d4be301df915 .vertical .axis.always_show .guide.line{opacity:1 !important}#chart-00238906-4e1b-447b-84e5-d4be301df915 .axis.y .guides:hover .guide.line,#chart-00238906-4e1b-447b-84e5-d4be301df915 .axis.y2 .guides:hover .guide.line,#chart-00238906-4e1b-447b-84e5-d4be301df915 .axis.x .guides:hover .guide.line{opacity:1}#chart-00238906-4e1b-447b-84e5-d4be301df915 .axis .guides:hover text{opacity:1}#chart-00238906-4e1b-447b-84e5-d4be301df915 .nofill{fill:none}#chart-00238906-4e1b-447b-84e5-d4be301df915 .subtle-fill{fill-opacity:.2}#chart-00238906-4e1b-447b-84e5-d4be301df915 .dot{stroke-width:1px;fill-opacity:1}#chart-00238906-4e1b-447b-84e5-d4be301df915 .dot.active{stroke-width:5px}#chart-00238906-4e1b-447b-84e5-d4be301df915 .dot.negative{fill:transparent}#chart-00238906-4e1b-447b-84e5-d4be301df915 text,#chart-00238906-4e1b-447b-84e5-d4be301df915 tspan{stroke:none !important}#chart-00238906-4e1b-447b-84e5-d4be301df915 .series text.active{opacity:1}#chart-00238906-4e1b-447b-84e5-d4be301df915 .tooltip rect{fill-opacity:.95;stroke-width:.5}#chart-00238906-4e1b-447b-84e5-d4be301df915 .tooltip text{fill-opacity:1}#chart-00238906-4e1b-447b-84e5-d4be301df915 .showable{visibility:hidden}#chart-00238906-4e1b-447b-84e5-d4be301df915 .showable.shown{visibility:visible}#chart-00238906-4e1b-447b-84e5-d4be301df915 .gauge-background{fill:rgba(229,229,229,1);stroke:none}#chart-00238906-4e1b-447b-84e5-d4be301df915 .bg-lines{stroke:rgba(249,249,249,1);stroke-width:2px}</style><script type=\"text/javascript\">window.pygal = window.pygal || {};window.pygal.config = window.pygal.config || {};window.pygal.config[\\'00238906-4e1b-447b-84e5-d4be301df915\\'] = {\"allow_interruptions\": false, \"box_mode\": \"extremes\", \"classes\": [\"pygal-chart\"], \"css\": [\"file://style.css\", \"file://graph.css\"], \"defs\": [], \"disable_xml_declaration\": false, \"dots_size\": 2.5, \"dynamic_print_values\": false, \"explicit_size\": false, \"fill\": false, \"force_uri_protocol\": \"https\", \"formatter\": null, \"half_pie\": false, \"height\": 200, \"include_x_axis\": false, \"inner_radius\": 0, \"interpolate\": null, \"interpolation_parameters\": {}, \"interpolation_precision\": 250, \"inverse_y_axis\": false, \"js\": [\"//kozea.github.io/pygal.js/2.0.x/pygal-tooltips.min.js\"], \"legend_at_bottom\": false, \"legend_at_bottom_columns\": null, \"legend_box_size\": 12, \"logarithmic\": false, \"margin\": 20, \"margin_bottom\": null, \"margin_left\": null, \"margin_right\": null, \"margin_top\": null, \"max_scale\": 16, \"min_scale\": 4, \"missing_value_fill_truncation\": \"x\", \"no_data_text\": \"No data\", \"no_prefix\": false, \"order_min\": null, \"pretty_print\": false, \"print_labels\": false, \"print_values\": false, \"print_values_position\": \"center\", \"print_zeroes\": true, \"range\": null, \"rounded_bars\": null, \"secondary_range\": null, \"show_dots\": true, \"show_legend\": true, \"show_minor_x_labels\": true, \"show_minor_y_labels\": true, \"show_only_major_dots\": false, \"show_x_guides\": false, \"show_x_labels\": true, \"show_y_guides\": true, \"show_y_labels\": true, \"spacing\": 10, \"stack_from_top\": false, \"strict\": false, \"stroke\": true, \"stroke_style\": null, \"style\": {\"background\": \"rgba(249, 249, 249, 1)\", \"ci_colors\": [], \"colors\": [\"#F44336\", \"#3F51B5\", \"#009688\", \"#FFC107\", \"#FF5722\", \"#9C27B0\", \"#03A9F4\", \"#8BC34A\", \"#FF9800\", \"#E91E63\", \"#2196F3\", \"#4CAF50\", \"#FFEB3B\", \"#673AB7\", \"#00BCD4\", \"#CDDC39\", \"#9E9E9E\", \"#607D8B\"], \"font_family\": \"Consolas, \\\\\"Liberation Mono\\\\\", Menlo, Courier, monospace\", \"foreground\": \"rgba(0, 0, 0, .87)\", \"foreground_strong\": \"rgba(0, 0, 0, 1)\", \"foreground_subtle\": \"rgba(0, 0, 0, .54)\", \"guide_stroke_dasharray\": \"4,4\", \"label_font_family\": \"Consolas, \\\\\"Liberation Mono\\\\\", Menlo, Courier, monospace\", \"label_font_size\": 10, \"legend_font_family\": \"Consolas, \\\\\"Liberation Mono\\\\\", Menlo, Courier, monospace\", \"legend_font_size\": 14, \"major_guide_stroke_dasharray\": \"6,6\", \"major_label_font_family\": \"Consolas, \\\\\"Liberation Mono\\\\\", Menlo, Courier, monospace\", \"major_label_font_size\": 10, \"no_data_font_family\": \"Consolas, \\\\\"Liberation Mono\\\\\", Menlo, Courier, monospace\", \"no_data_font_size\": 64, \"opacity\": \".7\", \"opacity_hover\": \".8\", \"plot_background\": \"rgba(255, 255, 255, 1)\", \"stroke_opacity\": \".8\", \"stroke_opacity_hover\": \".9\", \"title_font_family\": \"Consolas, \\\\\"Liberation Mono\\\\\", Menlo, Courier, monospace\", \"title_font_size\": 16, \"tooltip_font_family\": \"Consolas, \\\\\"Liberation Mono\\\\\", Menlo, Courier, monospace\", \"tooltip_font_size\": 14, \"transition\": \"150ms\", \"value_background\": \"rgba(229, 229, 229, 1)\", \"value_colors\": [], \"value_font_family\": \"Consolas, \\\\\"Liberation Mono\\\\\", Menlo, Courier, monospace\", \"value_font_size\": 16, \"value_label_font_family\": \"Consolas, \\\\\"Liberation Mono\\\\\", Menlo, Courier, monospace\", \"value_label_font_size\": 10}, \"title\": \"Score medio de rudeness por rapper\", \"tooltip_border_radius\": 0, \"tooltip_fancy_mode\": true, \"truncate_label\": null, \"truncate_legend\": null, \"width\": 800, \"x_label_rotation\": 0, \"x_labels\": null, \"x_labels_major\": null, \"x_labels_major_count\": null, \"x_labels_major_every\": null, \"x_title\": null, \"xrange\": null, \"y_label_rotation\": 0, \"y_labels\": null, \"y_labels_major\": null, \"y_labels_major_count\": null, \"y_labels_major_every\": null, \"y_title\": null, \"zero\": 0, \"legends\": [\"Mike El Nite\", \"ProfJam\", \"Regula\", \"Valete\"]}</script><script type=\"text/javascript\" xlink:href=\"https://kozea.github.io/pygal.js/2.0.x/pygal-tooltips.min.js\"/></defs><title>Score medio de rudeness por rapper</title><g class=\"graph bar-graph vertical\"><rect x=\"0\" y=\"0\" width=\"800\" height=\"200\" class=\"background\"/><g transform=\"translate(162, 46)\" class=\"plot\"><rect x=\"0\" y=\"0\" width=\"617.2\" height=\"134\" class=\"background\"/><g class=\"axis y always_show\"><g class=\"guides\"><path d=\"M0.000000 131.423077 h617.200000\" class=\"axis major line\"/><text x=\"-5\" y=\"134.92307692307693\" class=\"major\">0</text><title>0</title></g><g class=\"guides\"><path d=\"M0.000000 106.733994 h617.200000\" class=\"guide line\"/><text x=\"-5\" y=\"110.23399355135882\" class=\"\">1</text><title>1</title></g><g class=\"guides\"><path d=\"M0.000000 82.044910 h617.200000\" class=\"guide line\"/><text x=\"-5\" y=\"85.54491017964071\" class=\"\">2</text><title>2</title></g><g class=\"guides\"><path d=\"M0.000000 57.355827 h617.200000\" class=\"guide line\"/><text x=\"-5\" y=\"60.85582680792261\" class=\"\">3</text><title>3</title></g><g class=\"guides\"><path d=\"M0.000000 32.666743 h617.200000\" class=\"guide line\"/><text x=\"-5\" y=\"36.16674343620451\" class=\"\">4</text><title>4</title></g><g class=\"guides\"><path d=\"M0.000000 7.977660 h617.200000\" class=\"major guide line\"/><text x=\"-5\" y=\"11.477660064486415\" class=\"major\">5</text><title>5</title></g></g><g class=\"series serie-0 color-0\"><g class=\"bars\"><g class=\"bar\"><rect x=\"55.31061538461539\" y=\"2.576923076923066\" rx=\"0\" ry=\"0\" width=\"114.89415384615386\" height=\"128.84615384615387\" class=\"rect reactive tooltip-trigger\"/><desc class=\"value\">5.21875</desc><desc class=\"x centered\">112.75769230769231</desc><desc class=\"y centered\">67.0</desc></g></g></g><g class=\"series serie-1 color-1\"><g class=\"bars\"><g class=\"bar\"><rect x=\"185.87215384615385\" y=\"27.54827493231174\" rx=\"0\" ry=\"0\" width=\"114.89415384615386\" height=\"103.87480199076519\" class=\"rect reactive tooltip-trigger\"/><desc class=\"value\">4.207317073</desc><desc class=\"x centered\">243.31923076923078</desc><desc class=\"y centered\">79.48567592769433</desc></g></g></g><g class=\"series serie-2 color-2\"><g class=\"bars\"><g class=\"bar\"><rect x=\"316.43369230769235\" y=\"41.30792261630586\" rx=\"0\" ry=\"0\" width=\"114.89415384615386\" height=\"90.11515430677107\" class=\"rect reactive tooltip-trigger\"/><desc class=\"value\">3.65</desc><desc class=\"x centered\">373.88076923076926</desc><desc class=\"y centered\">86.3654997696914</desc></g></g></g><g class=\"series serie-3 color-3\"><g class=\"bars\"><g class=\"bar\"><rect x=\"446.99523076923083\" y=\"29.354793227803313\" rx=\"0\" ry=\"0\" width=\"114.89415384615386\" height=\"102.06828369527362\" class=\"rect reactive tooltip-trigger\"/><desc class=\"value\">4.134146341</desc><desc class=\"x centered\">504.44230769230774</desc><desc class=\"y centered\">80.38893507544012</desc></g></g></g></g><g class=\"titles\"><text x=\"400.0\" y=\"26\" class=\"title plot_title\">Score medio de rudeness por rapper</text></g><g transform=\"translate(162, 46)\" class=\"plot overlay\"><g class=\"series serie-0 color-0\"/><g class=\"series serie-1 color-1\"/><g class=\"series serie-2 color-2\"/><g class=\"series serie-3 color-3\"/></g><g transform=\"translate(162, 46)\" class=\"plot text-overlay\"><g class=\"series serie-0 color-0\"/><g class=\"series serie-1 color-1\"/><g class=\"series serie-2 color-2\"/><g class=\"series serie-3 color-3\"/></g><g transform=\"translate(162, 46)\" class=\"plot tooltip-overlay\"><g transform=\"translate(0 0)\" style=\"opacity: 0\" class=\"tooltip\"><rect rx=\"0\" ry=\"0\" width=\"0\" height=\"0\" class=\"tooltip-box\"/><g class=\"text\"/></g></g><g transform=\"translate(10, 56)\" class=\"legends\"><g id=\"activate-serie-0\" class=\"legend reactive activate-serie\"><rect x=\"0.0\" y=\"1.0\" width=\"12\" height=\"12\" class=\"color-0 reactive\"/><text x=\"17.0\" y=\"11.2\">Mike El Nite</text></g><g id=\"activate-serie-1\" class=\"legend reactive activate-serie\"><rect x=\"0.0\" y=\"22.0\" width=\"12\" height=\"12\" class=\"color-1 reactive\"/><text x=\"17.0\" y=\"32.2\">ProfJam</text></g><g id=\"activate-serie-2\" class=\"legend reactive activate-serie\"><rect x=\"0.0\" y=\"43.0\" width=\"12\" height=\"12\" class=\"color-2 reactive\"/><text x=\"17.0\" y=\"53.2\">Regula</text></g><g id=\"activate-serie-3\" class=\"legend reactive activate-serie\"><rect x=\"0.0\" y=\"64.0\" width=\"12\" height=\"12\" class=\"color-3 reactive\"/><text x=\"17.0\" y=\"74.2\">Valete</text></g></g><g transform=\"translate(790, 56)\" class=\"legends\"/></g></svg>'\n    </figure>\n  </body>\n</html>\n"
     },
     "metadata": {},
     "execution_count": 31
    }
   ],
   "source": [
    "bar_chart = pygal.Bar(height=200)\n",
    "bar_chart.title = 'Score medio de rudeness por rapper'\n",
    "[bar_chart.add(x[0], x[1]) for x in mean_by_artist.items()]\n",
    "HTML(html_pygal.format(pygal_render=bar_chart.render()))\n",
    "\n",
    "\n"
   ]
  }
 ]
}