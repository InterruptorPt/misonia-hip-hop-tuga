{
 "metadata": {
  "language_info": {
   "codemirror_mode": {
    "name": "ipython",
    "version": 3
   },
   "file_extension": ".py",
   "mimetype": "text/x-python",
   "name": "python",
   "nbconvert_exporter": "python",
   "pygments_lexer": "ipython3",
   "version": "3.7.7-final"
  },
  "orig_nbformat": 2,
  "kernelspec": {
   "name": "python37764bitbaseconda317a320067de44d78632809e320a2671",
   "display_name": "Python 3.7.7 64-bit ('base': conda)"
  }
 },
 "nbformat": 4,
 "nbformat_minor": 2,
 "cells": [
  {
   "cell_type": "code",
   "execution_count": 1,
   "metadata": {},
   "outputs": [],
   "source": [
    "import pandas as pd\n",
    "import numpy as np\n",
    "from tqdm.notebook import tqdm\n",
    "from dotenv import load_dotenv\n",
    "import json\n",
    "import os\n",
    "import lyricsgenius as genius\n"
   ]
  },
  {
   "cell_type": "code",
   "execution_count": 2,
   "metadata": {},
   "outputs": [],
   "source": [
    "artist_list = [\"5-30\", \n",
    "\"9 Miller\",\n",
    "\"Holly Hood\",\n",
    "\"Mike El Nite\",\n",
    "\"Papillon\",\n",
    "\"SippinPurp\",\n",
    "\"Sir Scratch (PRT)\",\n",
    "\"Valas\",\n",
    "\"Valete\",\n",
    "\"Wet Bed Gang\"]\n"
   ]
  },
  {
   "cell_type": "code",
   "execution_count": 3,
   "metadata": {},
   "outputs": [],
   "source": [
    "load_dotenv()\n",
    "geniusCreds = os.environ.get(\"geniusCreds\")\n",
    "\n",
    "# \"(Acoustic)\", \"Rework\", \"(Live)\", \"(Demo)\", \"TBA\", \"FULL LENGTH\", \"Billboard\", \"BBC\", \"bootleg\", 'فارسی', \"Türkçe\", \"Aşk Şarkısı\", \"instrumental\"\n",
    "\n",
    "api = genius.Genius(geniusCreds, verbose =False, excluded_terms = [\"Remix\", \"edit\", \"feat\", \"Paassatempo\"], sleep_time=0.3, remove_section_headers = True, skip_non_songs = True)"
   ]
  },
  {
   "cell_type": "code",
   "execution_count": 4,
   "metadata": {},
   "outputs": [
    {
     "output_type": "display_data",
     "data": {
      "text/plain": "HBox(children=(HTML(value=''), FloatProgress(value=0.0, max=10.0), HTML(value='')))",
      "application/vnd.jupyter.widget-view+json": {
       "version_major": 2,
       "version_minor": 0,
       "model_id": "87bbb053ec544eaeb886f20d3c037acf"
      }
     },
     "metadata": {}
    },
    {
     "output_type": "stream",
     "name": "stdout",
     "text": [
      "Wrote `Lyrics_530.json`\n",
      "5-30 json saved\n",
      "Wrote `Lyrics_9Miller.json`\n",
      "9 Miller json saved\n",
      "Wrote `Lyrics_HollyHood.json`\n",
      "Holly Hood json saved\n",
      "Wrote `Lyrics_MikeElNite.json`\n",
      "Mike El Nite json saved\n",
      "Wrote `Lyrics_Papillon.json`\n",
      "Papillon json saved\n",
      "Wrote `Lyrics_SippinPurpp.json`\n",
      "SippinPurp json saved\n",
      "Wrote `Lyrics_SirScratchPRT.json`\n",
      "Sir Scratch (PRT) json saved\n",
      "Wrote `Lyrics_Valas.json`\n",
      "Valas json saved\n",
      "Wrote `Lyrics_Valete.json`\n",
      "Valete json saved\n",
      "Wrote `Lyrics_WetBedGang.json`\n",
      "Wet Bed Gang json saved\n",
      "\n"
     ]
    }
   ],
   "source": [
    "def crawler(lst):\n",
    "    for name in tqdm(lst):\n",
    "        try:\n",
    "            artist = api.search_artist(name, per_page=50)\n",
    "            artist.save_lyrics()\n",
    "            print(str(name) + \" json saved\")\n",
    "        except:\n",
    "            print(\"failed for\", name)\n",
    "            file = open(r\"not-working.txt\",\"a\")\n",
    "            file.write(name)\n",
    "            file.close()\n",
    "\n",
    "crawler(artist_list)"
   ]
  },
  {
   "source": [
    "## Construção do conjunto de dados"
   ],
   "cell_type": "markdown",
   "metadata": {}
  },
  {
   "cell_type": "code",
   "execution_count": 5,
   "metadata": {},
   "outputs": [
    {
     "output_type": "execute_result",
     "data": {
      "text/plain": [
       "     artist_name                           title  \\\n",
       "0   Mike El Nite                      Dr. Bayard   \n",
       "1   Mike El Nite                       Mambo nº1   \n",
       "2   Mike El Nite                   Só badalhocas   \n",
       "3   Mike El Nite                      Horizontes   \n",
       "4   Mike El Nite                        T.U.G.A.   \n",
       "..           ...                             ...   \n",
       "9          Valas                            Raíz   \n",
       "10         Valas                          Talvez   \n",
       "11         Valas                           Dia D   \n",
       "12         Valas                       El Dorado   \n",
       "13         Valas  Quando Me Chamas (Continuação)   \n",
       "\n",
       "                             album         featured_artists  \\\n",
       "0                     Inter-Missão  [SippinPurpp, Fínix MG]   \n",
       "1   Rusga para Concerto em G Menor                [ProfJam]   \n",
       "2                 Vaporetto Titano               [Da Chick]   \n",
       "3                     O Justiceiro                       []   \n",
       "4                     O Justiceiro                       []   \n",
       "..                             ...                      ...   \n",
       "9                  Raízes de Pedra                       []   \n",
       "10                        Check-In                       []   \n",
       "11                        Check-In                       []   \n",
       "12                        Check-In                [DJ Sims]   \n",
       "13                             ---                       []   \n",
       "\n",
       "                                               lyrics        date  \\\n",
       "0                                                None  2018-05-07   \n",
       "1                                                None  2013-12-16   \n",
       "2    Mike El Nite:\\nSó badalhocas nesta festa\\nCom...  2016-01-01   \n",
       "3                                                None  2016-04-22   \n",
       "4   Hey, vive a vida como uma festa\\nSob o vento d...  2016-04-22   \n",
       "..                                                ...         ...   \n",
       "9                                                None        None   \n",
       "10                                               None  2018-06-01   \n",
       "11                                               None  2018-06-01   \n",
       "12                                               None  2018-06-01   \n",
       "13  Deixa me dizer te pela primeira vez\\nNem sempr...        None   \n",
       "\n",
       "                                                  url  \n",
       "0    https://genius.com/Mike-el-nite-dr-bayard-lyrics  \n",
       "1    https://genius.com/Mike-el-nite-mambo-no1-lyrics  \n",
       "2   https://genius.com/Mike-el-nite-so-badalhocas-...  \n",
       "3   https://genius.com/Mike-el-nite-horizontes-lyrics  \n",
       "4         https://genius.com/Mike-el-nite-tuga-lyrics  \n",
       "..                                                ...  \n",
       "9                https://genius.com/Valas-raiz-lyrics  \n",
       "10             https://genius.com/Valas-talvez-lyrics  \n",
       "11              https://genius.com/Valas-dia-d-lyrics  \n",
       "12          https://genius.com/Valas-el-dorado-lyrics  \n",
       "13  https://genius.com/Valas-quando-me-chamas-cont...  \n",
       "\n",
       "[254 rows x 7 columns]"
      ],
      "text/html": "<div>\n<style scoped>\n    .dataframe tbody tr th:only-of-type {\n        vertical-align: middle;\n    }\n\n    .dataframe tbody tr th {\n        vertical-align: top;\n    }\n\n    .dataframe thead th {\n        text-align: right;\n    }\n</style>\n<table border=\"1\" class=\"dataframe\">\n  <thead>\n    <tr style=\"text-align: right;\">\n      <th></th>\n      <th>artist_name</th>\n      <th>title</th>\n      <th>album</th>\n      <th>featured_artists</th>\n      <th>lyrics</th>\n      <th>date</th>\n      <th>url</th>\n    </tr>\n  </thead>\n  <tbody>\n    <tr>\n      <th>0</th>\n      <td>Mike El Nite</td>\n      <td>Dr. Bayard</td>\n      <td>Inter-Missão</td>\n      <td>[SippinPurpp, Fínix MG]</td>\n      <td>None</td>\n      <td>2018-05-07</td>\n      <td>https://genius.com/Mike-el-nite-dr-bayard-lyrics</td>\n    </tr>\n    <tr>\n      <th>1</th>\n      <td>Mike El Nite</td>\n      <td>Mambo nº1</td>\n      <td>Rusga para Concerto em G Menor</td>\n      <td>[ProfJam]</td>\n      <td>None</td>\n      <td>2013-12-16</td>\n      <td>https://genius.com/Mike-el-nite-mambo-no1-lyrics</td>\n    </tr>\n    <tr>\n      <th>2</th>\n      <td>Mike El Nite</td>\n      <td>Só badalhocas</td>\n      <td>Vaporetto Titano</td>\n      <td>[Da Chick]</td>\n      <td>Mike El Nite:\\nSó badalhocas nesta festa\\nCom...</td>\n      <td>2016-01-01</td>\n      <td>https://genius.com/Mike-el-nite-so-badalhocas-...</td>\n    </tr>\n    <tr>\n      <th>3</th>\n      <td>Mike El Nite</td>\n      <td>Horizontes</td>\n      <td>O Justiceiro</td>\n      <td>[]</td>\n      <td>None</td>\n      <td>2016-04-22</td>\n      <td>https://genius.com/Mike-el-nite-horizontes-lyrics</td>\n    </tr>\n    <tr>\n      <th>4</th>\n      <td>Mike El Nite</td>\n      <td>T.U.G.A.</td>\n      <td>O Justiceiro</td>\n      <td>[]</td>\n      <td>Hey, vive a vida como uma festa\\nSob o vento d...</td>\n      <td>2016-04-22</td>\n      <td>https://genius.com/Mike-el-nite-tuga-lyrics</td>\n    </tr>\n    <tr>\n      <th>...</th>\n      <td>...</td>\n      <td>...</td>\n      <td>...</td>\n      <td>...</td>\n      <td>...</td>\n      <td>...</td>\n      <td>...</td>\n    </tr>\n    <tr>\n      <th>9</th>\n      <td>Valas</td>\n      <td>Raíz</td>\n      <td>Raízes de Pedra</td>\n      <td>[]</td>\n      <td>None</td>\n      <td>None</td>\n      <td>https://genius.com/Valas-raiz-lyrics</td>\n    </tr>\n    <tr>\n      <th>10</th>\n      <td>Valas</td>\n      <td>Talvez</td>\n      <td>Check-In</td>\n      <td>[]</td>\n      <td>None</td>\n      <td>2018-06-01</td>\n      <td>https://genius.com/Valas-talvez-lyrics</td>\n    </tr>\n    <tr>\n      <th>11</th>\n      <td>Valas</td>\n      <td>Dia D</td>\n      <td>Check-In</td>\n      <td>[]</td>\n      <td>None</td>\n      <td>2018-06-01</td>\n      <td>https://genius.com/Valas-dia-d-lyrics</td>\n    </tr>\n    <tr>\n      <th>12</th>\n      <td>Valas</td>\n      <td>El Dorado</td>\n      <td>Check-In</td>\n      <td>[DJ Sims]</td>\n      <td>None</td>\n      <td>2018-06-01</td>\n      <td>https://genius.com/Valas-el-dorado-lyrics</td>\n    </tr>\n    <tr>\n      <th>13</th>\n      <td>Valas</td>\n      <td>Quando Me Chamas (Continuação)</td>\n      <td>---</td>\n      <td>[]</td>\n      <td>Deixa me dizer te pela primeira vez\\nNem sempr...</td>\n      <td>None</td>\n      <td>https://genius.com/Valas-quando-me-chamas-cont...</td>\n    </tr>\n  </tbody>\n</table>\n<p>254 rows × 7 columns</p>\n</div>"
     },
     "metadata": {},
     "execution_count": 5
    }
   ],
   "source": [
    "#initailizing empty dataframe for concat each json info\n",
    "maindata = pd.DataFrame()    \n",
    "\n",
    "for filename in os.listdir():\n",
    "    if filename.endswith(\".json\"): \n",
    "        with open(filename) as json_data:\n",
    "           \n",
    "            data = json.load(json_data)\n",
    "            \n",
    "            #getting artist name and release date\n",
    "            songs = data.get(\"songs\")\n",
    "            songs_df = pd.DataFrame(songs)\n",
    "             \n",
    "            #getting artist name and release date\n",
    "            songs_df[\"artist_name\"] = data.get(\"name\")\n",
    "            songs_df['date'] = [i.get(\"release_date\") for i in songs]\n",
    "\n",
    "            #getting album name\n",
    "            album_lst = [i.get(\"album\") for i in songs]\n",
    "            songs_df[\"album\"] = [i.get(\"name\") if i else \"---\" for i in album_lst]\n",
    "\n",
    "            #getting featured artists\n",
    "            featured_lists = [song.get(\"featured_artists\") for song in songs]\n",
    "            songs_df[\"featured_artists\"] = [[featured_artist[\"name\"] for featured_artist in featured_lst] for featured_lst in featured_lists]\n",
    "         \n",
    "\n",
    "            maindata = pd.concat([maindata, songs_df])\n",
    "              \n",
    "maindata = maindata[['artist_name', 'title', 'album', 'featured_artists', 'lyrics', 'date', 'url']]\n",
    "\n",
    "   \n",
    "#maindata.to_csv(\"teste.csv\")\n",
    "maindata"
   ]
  },
  {
   "cell_type": "code",
   "execution_count": 6,
   "metadata": {},
   "outputs": [],
   "source": [
    "#adding crazy amount of json files fetched to prevent loss of lyrics\n",
    "\n",
    "maindata_batch = pd.read_csv(\"tudo_junto.csv\", parse_dates=[\"date\"])\n",
    "new_maindata = pd.concat([maindata, maindata_batch])"
   ]
  },
  {
   "cell_type": "code",
   "execution_count": 12,
   "metadata": {},
   "outputs": [
    {
     "output_type": "execute_result",
     "data": {
      "text/plain": [
       "Phoenix RDC              69\n",
       "Sam The Kid              58\n",
       "Valete                   54\n",
       "ProfJam                  49\n",
       "Boss AC                  47\n",
       "Bispo                    44\n",
       "Xeg                      43\n",
       "Jimmy P                  43\n",
       "Regula                   41\n",
       "Allen Halloween          38\n",
       "Dealema                  38\n",
       "LON3R JOHNY              37\n",
       "Da Weasel                36\n",
       "Dillaz                   35\n",
       "NGA                      35\n",
       "Piruka                   31\n",
       "GROGNation               31\n",
       "Alcool Club              30\n",
       "Wet Bed Gang             27\n",
       "Agir                     27\n",
       "Slow J                   26\n",
       "Conjunto Corona          26\n",
       "Keso                     24\n",
       "Mike El Nite             22\n",
       "Plutonio                 22\n",
       "Deejay Telio             20\n",
       "Kappa Jotta              20\n",
       "X-Tense                  18\n",
       "Sir Scratch (PRT)        17\n",
       "Papillon                 17\n",
       "Força Suprema            17\n",
       "Carlão (PacMan)          16\n",
       "Cálculo                  15\n",
       "Chico da Tina            15\n",
       "Estraca                  14\n",
       "Fínix MG                 13\n",
       "9 Miller                 13\n",
       "Waze                     13\n",
       "Valas                    13\n",
       "Holly Hood               12\n",
       "SippinPurpp              11\n",
       "Classe Crua              11\n",
       "Vado Más Ki Ás            9\n",
       "5-30                      7\n",
       "Deezy (Dope Muzik)        6\n",
       "ProfJam x benji price     6\n",
       "Gson                      2\n",
       "Name: artist_name, dtype: int64"
      ]
     },
     "metadata": {},
     "execution_count": 12
    }
   ],
   "source": [
    "check = new_maindata.drop_duplicates(subset=['artist_name', 'lyrics'])\n",
    "#check.to_csv(\"letras_final.csv\")\n",
    "#check.isna().sum()\n",
    "check[\"artist_name\"].value_counts()"
   ]
  },
  {
   "cell_type": "code",
   "execution_count": 16,
   "metadata": {},
   "outputs": [],
   "source": [
    "check.dropna(subset=['lyrics'], inplace=True)"
   ]
  },
  {
   "cell_type": "code",
   "execution_count": 18,
   "metadata": {},
   "outputs": [
    {
     "output_type": "execute_result",
     "data": {
      "text/plain": [
       "Phoenix RDC              68\n",
       "Sam The Kid              57\n",
       "Valete                   53\n",
       "ProfJam                  48\n",
       "Boss AC                  46\n",
       "Bispo                    43\n",
       "Xeg                      42\n",
       "Jimmy P                  42\n",
       "Regula                   40\n",
       "Allen Halloween          37\n",
       "Dealema                  37\n",
       "LON3R JOHNY              36\n",
       "Da Weasel                35\n",
       "Dillaz                   34\n",
       "NGA                      34\n",
       "Piruka                   30\n",
       "GROGNation               30\n",
       "Alcool Club              29\n",
       "Wet Bed Gang             26\n",
       "Agir                     26\n",
       "Slow J                   25\n",
       "Conjunto Corona          25\n",
       "Keso                     23\n",
       "Mike El Nite             21\n",
       "Plutonio                 21\n",
       "Deejay Telio             19\n",
       "Kappa Jotta              19\n",
       "X-Tense                  17\n",
       "Sir Scratch (PRT)        16\n",
       "Papillon                 16\n",
       "Força Suprema            16\n",
       "Carlão (PacMan)          15\n",
       "Cálculo                  14\n",
       "Chico da Tina            14\n",
       "Estraca                  13\n",
       "Fínix MG                 12\n",
       "9 Miller                 12\n",
       "Waze                     12\n",
       "Valas                    12\n",
       "Holly Hood               11\n",
       "SippinPurpp              10\n",
       "Classe Crua              10\n",
       "Vado Más Ki Ás            8\n",
       "5-30                      6\n",
       "Deezy (Dope Muzik)        5\n",
       "ProfJam x benji price     5\n",
       "Gson                      1\n",
       "Name: artist_name, dtype: int64"
      ]
     },
     "metadata": {},
     "execution_count": 18
    }
   ],
   "source": [
    "check[\"artist_name\"].value_counts()"
   ]
  },
  {
   "cell_type": "code",
   "execution_count": 19,
   "metadata": {},
   "outputs": [],
   "source": [
    "check.to_csv(\"letras_final.csv\")"
   ]
  }
 ]
}