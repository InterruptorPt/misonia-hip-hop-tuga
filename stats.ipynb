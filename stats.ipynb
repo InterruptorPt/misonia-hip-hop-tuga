{
 "metadata": {
  "language_info": {
   "codemirror_mode": {
    "name": "ipython",
    "version": 3
   },
   "file_extension": ".py",
   "mimetype": "text/x-python",
   "name": "python",
   "nbconvert_exporter": "python",
   "pygments_lexer": "ipython3",
   "version": "3.7.7-final"
  },
  "orig_nbformat": 2,
  "kernelspec": {
   "name": "python37764bitbaseconda317a320067de44d78632809e320a2671",
   "display_name": "Python 3.7.7 64-bit ('base': conda)"
  }
 },
 "nbformat": 4,
 "nbformat_minor": 2,
 "cells": [
  {
   "cell_type": "code",
   "execution_count": 1,
   "metadata": {},
   "outputs": [],
   "source": [
    "import pandas as pd\n",
    "import numpy as np\n",
    "import tqdm\n",
    "import re\n",
    "import scipy.stats as st\n",
    "import nltk\n",
    "from nltk.corpus import stopwords\n",
    "from nltk.tokenize import word_tokenize"
   ]
  },
  {
   "cell_type": "code",
   "execution_count": 2,
   "metadata": {},
   "outputs": [
    {
     "output_type": "execute_result",
     "data": {
      "text/plain": [
       "artist_name           0\n",
       "title                 0\n",
       "album                 0\n",
       "featured_artists      0\n",
       "lyrics                0\n",
       "date                273\n",
       "url                   0\n",
       "dtype: int64"
      ]
     },
     "metadata": {},
     "execution_count": 2
    }
   ],
   "source": [
    "dataset = pd.read_csv(\"letras_final.csv\", parse_dates=[\"date\"])\n",
    "dataset.drop(['Unnamed: 0', 'Unnamed: 0.1' ], axis = 1, inplace = True)\n",
    "dataset.isna().sum()"
   ]
  },
  {
   "cell_type": "code",
   "execution_count": 3,
   "metadata": {},
   "outputs": [
    {
     "output_type": "execute_result",
     "data": {
      "text/plain": [
       "Phoenix RDC              68\n",
       "Sam The Kid              57\n",
       "Valete                   53\n",
       "ProfJam                  48\n",
       "Boss AC                  46\n",
       "Bispo                    43\n",
       "Jimmy P                  42\n",
       "Xeg                      42\n",
       "Regula                   40\n",
       "Allen Halloween          37\n",
       "Dealema                  37\n",
       "LON3R JOHNY              36\n",
       "Da Weasel                35\n",
       "Dillaz                   34\n",
       "NGA                      34\n",
       "GROGNation               30\n",
       "Piruka                   30\n",
       "Alcool Club              29\n",
       "Agir                     26\n",
       "Wet Bed Gang             26\n",
       "Slow J                   25\n",
       "Conjunto Corona          25\n",
       "Keso                     23\n",
       "Mike El Nite             21\n",
       "Plutonio                 21\n",
       "Deejay Telio             19\n",
       "Kappa Jotta              19\n",
       "X-Tense                  17\n",
       "Papillon                 16\n",
       "Força Suprema            16\n",
       "Sir Scratch (PRT)        16\n",
       "Carlão (PacMan)          15\n",
       "Cálculo                  14\n",
       "Chico da Tina            14\n",
       "Estraca                  13\n",
       "Waze                     12\n",
       "Valas                    12\n",
       "9 Miller                 12\n",
       "Fínix MG                 12\n",
       "Holly Hood               11\n",
       "SippinPurpp              10\n",
       "Classe Crua              10\n",
       "Vado Más Ki Ás            8\n",
       "5-30                      6\n",
       "ProfJam x benji price     5\n",
       "Deezy (Dope Muzik)        5\n",
       "Gson                      1\n",
       "Name: artist_name, dtype: int64"
      ]
     },
     "metadata": {},
     "execution_count": 3
    }
   ],
   "source": [
    "dataset[\"artist_name\"].value_counts()"
   ]
  },
  {
   "cell_type": "code",
   "execution_count": 4,
   "metadata": {},
   "outputs": [],
   "source": [
    "#drop artists with less than 10 songs\n",
    "counts = dataset['artist_name'].value_counts()\n",
    "dataset = dataset[~dataset['artist_name'].isin(counts[counts < 10].index)]"
   ]
  },
  {
   "cell_type": "code",
   "execution_count": 5,
   "metadata": {},
   "outputs": [],
   "source": [
    "#Dropping Deejay Telio\n",
    "dataset = dataset.loc[dataset[\"artist_name\"] != \"Deejay Telio\"]"
   ]
  },
  {
   "cell_type": "code",
   "execution_count": 6,
   "metadata": {},
   "outputs": [],
   "source": [
    "dataset['lyrics'] = dataset['lyrics'].fillna(value='')\n",
    "\n",
    "def remove_punct(s):\n",
    "    new_lyr = re.sub(r'[^\\w\\s]', '', s).lower()\n",
    "    new_lyr = re.sub(r'[\\n]', ' ', new_lyr).lower()\n",
    "    return new_lyr\n",
    "\n",
    "dataset.lyrics = dataset.lyrics.apply(remove_punct)"
   ]
  },
  {
   "cell_type": "code",
   "execution_count": 7,
   "metadata": {},
   "outputs": [],
   "source": [
    "#lyrics length\n",
    "dataset[\"lyrics_len\"] = [len(x) for x in dataset[\"lyrics\"]]"
   ]
  },
  {
   "cell_type": "code",
   "execution_count": 8,
   "metadata": {},
   "outputs": [],
   "source": [
    "# remover stopwords e tokenizar\n",
    "\n",
    "stopwords_pt = nltk.corpus.stopwords.words('portuguese')\n",
    "stopwords_pt.append(\"porque\")\n",
    "dataset['no_stopwords'] = dataset.apply(lambda x : ' '.join([word for word in x['lyrics'].split(' ') if word not in stopwords_pt]), axis = 1)\n",
    "dataset['tokens'] = dataset['no_stopwords'].apply(nltk.word_tokenize)"
   ]
  },
  {
   "cell_type": "code",
   "execution_count": 9,
   "metadata": {},
   "outputs": [
    {
     "output_type": "execute_result",
     "data": {
      "text/plain": [
       "     Unnamed: 0              term  \\\n",
       "0             1    abafa-palhinha   \n",
       "1             4         abananado   \n",
       "2            11            à beça   \n",
       "3            13        abichanado   \n",
       "4            20  abono de família   \n",
       "..          ...               ...   \n",
       "715        6508             xarro   \n",
       "716        6511           xibungo   \n",
       "717        6512          xilindró   \n",
       "718        6518              xulo   \n",
       "719        6524             zuate   \n",
       "\n",
       "                                           description              level  \\\n",
       "0               &bullet; homossexual masculino passivo   calão carroceiro   \n",
       "1                    admirado, aturdido e sem palavras          coloquial   \n",
       "2                                 em grande quantidade          coloquial   \n",
       "3               &bullet; homossexual masculino passivo              calão   \n",
       "4                 órgão sexual masculino, pénis, pênis          coloquial   \n",
       "..                                                 ...                ...   \n",
       "715                                                NaN          coloquial   \n",
       "716             &bullet; homossexual masculino passivo   calão carroceiro   \n",
       "717                                             cadeia          coloquial   \n",
       "718                                              é um:   calão carroceiro   \n",
       "719  referente à região das nádegas ou ânus, freque...              calão   \n",
       "\n",
       "                                               synonym  scale  \n",
       "0     arrombado; paneleiro; larilas; lelé; bicha; b...      3  \n",
       "1     estupefacto; azuratado; aturdido; embasbacado...      1  \n",
       "2                                                  NaN      1  \n",
       "3     arrombado; paneleiro; larilas; lelé; bicha; b...      2  \n",
       "4                                                  NaN      1  \n",
       "..                                                 ...    ...  \n",
       "715                            cavalo; heroína; charro      1  \n",
       "716   arrombado; paneleiro; larilas; lelé; bicha; b...      3  \n",
       "717   pildra; choça; prisão; prisa; calabouço; masm...      1  \n",
       "718                                               none      3  \n",
       "719   bunda; alcofa; cu; peida; rabo; bilha; trasei...      2  \n",
       "\n",
       "[720 rows x 6 columns]"
      ],
      "text/html": "<div>\n<style scoped>\n    .dataframe tbody tr th:only-of-type {\n        vertical-align: middle;\n    }\n\n    .dataframe tbody tr th {\n        vertical-align: top;\n    }\n\n    .dataframe thead th {\n        text-align: right;\n    }\n</style>\n<table border=\"1\" class=\"dataframe\">\n  <thead>\n    <tr style=\"text-align: right;\">\n      <th></th>\n      <th>Unnamed: 0</th>\n      <th>term</th>\n      <th>description</th>\n      <th>level</th>\n      <th>synonym</th>\n      <th>scale</th>\n    </tr>\n  </thead>\n  <tbody>\n    <tr>\n      <th>0</th>\n      <td>1</td>\n      <td>abafa-palhinha</td>\n      <td>&amp;bullet; homossexual masculino passivo</td>\n      <td>calão carroceiro</td>\n      <td>arrombado; paneleiro; larilas; lelé; bicha; b...</td>\n      <td>3</td>\n    </tr>\n    <tr>\n      <th>1</th>\n      <td>4</td>\n      <td>abananado</td>\n      <td>admirado, aturdido e sem palavras</td>\n      <td>coloquial</td>\n      <td>estupefacto; azuratado; aturdido; embasbacado...</td>\n      <td>1</td>\n    </tr>\n    <tr>\n      <th>2</th>\n      <td>11</td>\n      <td>à beça</td>\n      <td>em grande quantidade</td>\n      <td>coloquial</td>\n      <td>NaN</td>\n      <td>1</td>\n    </tr>\n    <tr>\n      <th>3</th>\n      <td>13</td>\n      <td>abichanado</td>\n      <td>&amp;bullet; homossexual masculino passivo</td>\n      <td>calão</td>\n      <td>arrombado; paneleiro; larilas; lelé; bicha; b...</td>\n      <td>2</td>\n    </tr>\n    <tr>\n      <th>4</th>\n      <td>20</td>\n      <td>abono de família</td>\n      <td>órgão sexual masculino, pénis, pênis</td>\n      <td>coloquial</td>\n      <td>NaN</td>\n      <td>1</td>\n    </tr>\n    <tr>\n      <th>...</th>\n      <td>...</td>\n      <td>...</td>\n      <td>...</td>\n      <td>...</td>\n      <td>...</td>\n      <td>...</td>\n    </tr>\n    <tr>\n      <th>715</th>\n      <td>6508</td>\n      <td>xarro</td>\n      <td>NaN</td>\n      <td>coloquial</td>\n      <td>cavalo; heroína; charro</td>\n      <td>1</td>\n    </tr>\n    <tr>\n      <th>716</th>\n      <td>6511</td>\n      <td>xibungo</td>\n      <td>&amp;bullet; homossexual masculino passivo</td>\n      <td>calão carroceiro</td>\n      <td>arrombado; paneleiro; larilas; lelé; bicha; b...</td>\n      <td>3</td>\n    </tr>\n    <tr>\n      <th>717</th>\n      <td>6512</td>\n      <td>xilindró</td>\n      <td>cadeia</td>\n      <td>coloquial</td>\n      <td>pildra; choça; prisão; prisa; calabouço; masm...</td>\n      <td>1</td>\n    </tr>\n    <tr>\n      <th>718</th>\n      <td>6518</td>\n      <td>xulo</td>\n      <td>é um:</td>\n      <td>calão carroceiro</td>\n      <td>none</td>\n      <td>3</td>\n    </tr>\n    <tr>\n      <th>719</th>\n      <td>6524</td>\n      <td>zuate</td>\n      <td>referente à região das nádegas ou ânus, freque...</td>\n      <td>calão</td>\n      <td>bunda; alcofa; cu; peida; rabo; bilha; trasei...</td>\n      <td>2</td>\n    </tr>\n  </tbody>\n</table>\n<p>720 rows × 6 columns</p>\n</div>"
     },
     "metadata": {},
     "execution_count": 9
    }
   ],
   "source": [
    "dicionario = pd.read_csv(\"dicionario_limpo.csv\")\n",
    "dicionario"
   ]
  },
  {
   "cell_type": "code",
   "execution_count": 10,
   "metadata": {},
   "outputs": [],
   "source": [
    "#dropping irrelevant terms\n",
    "dicionario = dicionario.loc[dicionario[\"term\"] != \"vale\"]\n",
    "dicionario = dicionario.loc[dicionario[\"term\"] != \"pinto\"]\n",
    "dicionario = dicionario.loc[dicionario[\"term\"] != \"tipo\"]"
   ]
  },
  {
   "cell_type": "code",
   "execution_count": 11,
   "metadata": {
    "tags": []
   },
   "outputs": [],
   "source": [
    "#finding matches for swear words\n",
    "\n",
    "lyrics_sets = dataset[\"tokens\"]\n",
    "swear_words = list(dicionario[\"term\"])\n",
    "scores = pd.Series(dicionario.scale.values,index=dicionario.term).to_dict()\n",
    "score_data = []\n",
    "swear_words_by_song = []\n",
    "\n",
    "for lyrics in lyrics_sets:\n",
    "  total_swear_score = 0\n",
    "  swear_words_in_lyrics = [token for token in lyrics if token in swear_words]\n",
    "\n",
    "  for swear in swear_words_in_lyrics:\n",
    "      total_swear_score += scores.get(swear)\n",
    "\n",
    "  swear_words_by_song.append(swear_words_in_lyrics)\n",
    "  score_data.append(total_swear_score)\n",
    "\n",
    "dataset[\"swears\"] = swear_words_by_song\n",
    "dataset[\"score\"] = score_data"
   ]
  },
  {
   "cell_type": "code",
   "execution_count": 12,
   "metadata": {},
   "outputs": [
    {
     "output_type": "execute_result",
     "data": {
      "text/plain": [
       "artist_name\n",
       "9 Miller             17.666667\n",
       "Agir                  1.384615\n",
       "Alcool Club           6.034483\n",
       "Allen Halloween      11.945946\n",
       "Bispo                 8.767442\n",
       "Boss AC               2.173913\n",
       "Carlão (PacMan)       4.733333\n",
       "Chico da Tina        12.357143\n",
       "Classe Crua           5.400000\n",
       "Conjunto Corona       5.080000\n",
       "Cálculo               4.214286\n",
       "Da Weasel             3.371429\n",
       "Dealema               4.648649\n",
       "Dillaz                6.647059\n",
       "Estraca               3.615385\n",
       "Força Suprema         7.062500\n",
       "Fínix MG              6.333333\n",
       "GROGNation            7.366667\n",
       "Holly Hood            5.727273\n",
       "Jimmy P               2.309524\n",
       "Kappa Jotta           7.473684\n",
       "Keso                  5.565217\n",
       "LON3R JOHNY           2.472222\n",
       "Mike El Nite          5.190476\n",
       "NGA                   8.941176\n",
       "Papillon              5.687500\n",
       "Phoenix RDC           9.117647\n",
       "Piruka                6.800000\n",
       "Plutonio              3.238095\n",
       "ProfJam               7.125000\n",
       "Regula                8.025000\n",
       "Sam The Kid           5.438596\n",
       "SippinPurpp           5.400000\n",
       "Sir Scratch (PRT)     1.875000\n",
       "Slow J                2.840000\n",
       "Valas                 2.166667\n",
       "Valete                6.018868\n",
       "Waze                  1.916667\n",
       "Wet Bed Gang          8.115385\n",
       "X-Tense               9.235294\n",
       "Xeg                   7.642857\n",
       "Name: score, dtype: float64"
      ]
     },
     "metadata": {},
     "execution_count": 12
    }
   ],
   "source": [
    "mean_by_artist = dataset.groupby('artist_name')['score'].mean()\n",
    "mean_by_artist"
   ]
  },
  {
   "cell_type": "code",
   "execution_count": 13,
   "metadata": {},
   "outputs": [
    {
     "output_type": "execute_result",
     "data": {
      "text/plain": [
       "    Unnamed: 0             term                   description  \\\n",
       "0          525           boceta         órgão sexual feminino   \n",
       "1          977             cona         órgão sexual feminino   \n",
       "2          978           conaça         órgão sexual feminino   \n",
       "3         1106            crica         órgão sexual feminino   \n",
       "4         1957      entrefolhos         órgão sexual feminino   \n",
       "..         ...              ...                           ...   \n",
       "75        2586    fazer um bobó  &bullet; sexo oral masculino   \n",
       "76        2589  fazer um broche  &bullet; sexo oral masculino   \n",
       "77        2631          felácio  &bullet; sexo oral masculino   \n",
       "78        3441           mamada  &bullet; sexo oral masculino   \n",
       "79         608            cabra                         é um:   \n",
       "\n",
       "                              level  \\\n",
       "0                  calão carroceiro   \n",
       "1            calão muito carroceiro   \n",
       "2            calão muito carroceiro   \n",
       "3            calão muito carroceiro   \n",
       "4                             calão   \n",
       "..                              ...   \n",
       "75           calão muito carroceiro   \n",
       "76   calão estupidamente carroceiro   \n",
       "77                            calão   \n",
       "78           calão muito carroceiro   \n",
       "79                            calão   \n",
       "\n",
       "                                              synonym  scale  \n",
       "0    cona; pipi; pito; pitaço; pirona; rata; vagin...      3  \n",
       "1    pipi; pito; pitaço; pirona; rata; vagina; nin...      4  \n",
       "2    cona; pipi; pito; pitaço; pirona; rata; vagin...      4  \n",
       "3    cona; pipi; pito; pitaço; pirona; rata; vagin...      4  \n",
       "4    cona; pipi; pito; pitaço; pirona; rata; vagin...      2  \n",
       "..                                                ...    ...  \n",
       "75   fazer um broche; mamada; chupa-me a pichota; ...      4  \n",
       "76   fazer um bobó; mamada; chupa-me a pichota; fa...      5  \n",
       "77   fazer um broche; fazer um bobó; mamada; chupa...      2  \n",
       "78   fazer um broche; fazer um bobó; chupa-me a pi...      4  \n",
       "79                                  cabrão; cabrãozão      2  \n",
       "\n",
       "[80 rows x 6 columns]"
      ],
      "text/html": "<div>\n<style scoped>\n    .dataframe tbody tr th:only-of-type {\n        vertical-align: middle;\n    }\n\n    .dataframe tbody tr th {\n        vertical-align: top;\n    }\n\n    .dataframe thead th {\n        text-align: right;\n    }\n</style>\n<table border=\"1\" class=\"dataframe\">\n  <thead>\n    <tr style=\"text-align: right;\">\n      <th></th>\n      <th>Unnamed: 0</th>\n      <th>term</th>\n      <th>description</th>\n      <th>level</th>\n      <th>synonym</th>\n      <th>scale</th>\n    </tr>\n  </thead>\n  <tbody>\n    <tr>\n      <th>0</th>\n      <td>525</td>\n      <td>boceta</td>\n      <td>órgão sexual feminino</td>\n      <td>calão carroceiro</td>\n      <td>cona; pipi; pito; pitaço; pirona; rata; vagin...</td>\n      <td>3</td>\n    </tr>\n    <tr>\n      <th>1</th>\n      <td>977</td>\n      <td>cona</td>\n      <td>órgão sexual feminino</td>\n      <td>calão muito carroceiro</td>\n      <td>pipi; pito; pitaço; pirona; rata; vagina; nin...</td>\n      <td>4</td>\n    </tr>\n    <tr>\n      <th>2</th>\n      <td>978</td>\n      <td>conaça</td>\n      <td>órgão sexual feminino</td>\n      <td>calão muito carroceiro</td>\n      <td>cona; pipi; pito; pitaço; pirona; rata; vagin...</td>\n      <td>4</td>\n    </tr>\n    <tr>\n      <th>3</th>\n      <td>1106</td>\n      <td>crica</td>\n      <td>órgão sexual feminino</td>\n      <td>calão muito carroceiro</td>\n      <td>cona; pipi; pito; pitaço; pirona; rata; vagin...</td>\n      <td>4</td>\n    </tr>\n    <tr>\n      <th>4</th>\n      <td>1957</td>\n      <td>entrefolhos</td>\n      <td>órgão sexual feminino</td>\n      <td>calão</td>\n      <td>cona; pipi; pito; pitaço; pirona; rata; vagin...</td>\n      <td>2</td>\n    </tr>\n    <tr>\n      <th>...</th>\n      <td>...</td>\n      <td>...</td>\n      <td>...</td>\n      <td>...</td>\n      <td>...</td>\n      <td>...</td>\n    </tr>\n    <tr>\n      <th>75</th>\n      <td>2586</td>\n      <td>fazer um bobó</td>\n      <td>&amp;bullet; sexo oral masculino</td>\n      <td>calão muito carroceiro</td>\n      <td>fazer um broche; mamada; chupa-me a pichota; ...</td>\n      <td>4</td>\n    </tr>\n    <tr>\n      <th>76</th>\n      <td>2589</td>\n      <td>fazer um broche</td>\n      <td>&amp;bullet; sexo oral masculino</td>\n      <td>calão estupidamente carroceiro</td>\n      <td>fazer um bobó; mamada; chupa-me a pichota; fa...</td>\n      <td>5</td>\n    </tr>\n    <tr>\n      <th>77</th>\n      <td>2631</td>\n      <td>felácio</td>\n      <td>&amp;bullet; sexo oral masculino</td>\n      <td>calão</td>\n      <td>fazer um broche; fazer um bobó; mamada; chupa...</td>\n      <td>2</td>\n    </tr>\n    <tr>\n      <th>78</th>\n      <td>3441</td>\n      <td>mamada</td>\n      <td>&amp;bullet; sexo oral masculino</td>\n      <td>calão muito carroceiro</td>\n      <td>fazer um broche; fazer um bobó; chupa-me a pi...</td>\n      <td>4</td>\n    </tr>\n    <tr>\n      <th>79</th>\n      <td>608</td>\n      <td>cabra</td>\n      <td>é um:</td>\n      <td>calão</td>\n      <td>cabrão; cabrãozão</td>\n      <td>2</td>\n    </tr>\n  </tbody>\n</table>\n<p>80 rows × 6 columns</p>\n</div>"
     },
     "metadata": {},
     "execution_count": 13
    }
   ],
   "source": [
    "#filtering misogynistic terms\n",
    "lady_parts = dicionario[dicionario['description'].str.contains('órgão sexual feminino', na=False)]\n",
    "men_parts = dicionario[dicionario['description'].str.contains('órgão sexual masculino', na=False)]\n",
    "women_rude = dicionario[dicionario['synonym'].str.contains('prostituta', na=False)]\n",
    "oral_sex = dicionario[dicionario['description'].str.contains('sexo oral', na=False)]\n",
    "anal_sex = dicionario[dicionario['description'].str.contains('sexo anal', na=False)]\n",
    "semen = dicionario[dicionario['description'].str.contains('esperma', na=False)]\n",
    "cabra = dicionario[dicionario['term'].str.contains('cabra', na=False)]\n",
    "\n",
    "dicionario_misoginia = pd.concat([lady_parts, women_rude, men_parts, semen, oral_sex, cabra], ignore_index= True)\n",
    "dicionario_misoginia"
   ]
  },
  {
   "cell_type": "code",
   "execution_count": 14,
   "metadata": {},
   "outputs": [],
   "source": [
    "#dicionario[dicionario['description'].str.contains('insulto a árbitro', na=False)]"
   ]
  },
  {
   "cell_type": "code",
   "execution_count": 15,
   "metadata": {},
   "outputs": [],
   "source": [
    "lyrics_sets = dataset[\"tokens\"]\n",
    "misogynistic_words = list(dicionario_misoginia[\"term\"])\n",
    "\n",
    "misogyny_score = pd.Series(dicionario_misoginia.scale.values,index=dicionario_misoginia.term).to_dict()\n",
    "misogyny_score_data = []\n",
    "misogynistic_words_by_song = []\n",
    "\n",
    "for lyrics in lyrics_sets:\n",
    "  total_misogynistic_score = 0\n",
    "  misogynistic_words_in_lyrics = [token for token in lyrics if token in misogynistic_words]\n",
    "\n",
    "  for swear in misogynistic_words_in_lyrics:\n",
    "      total_misogynistic_score += misogyny_score.get(swear)\n",
    "\n",
    "  misogynistic_words_by_song.append(misogynistic_words_in_lyrics)\n",
    "  misogyny_score_data.append(total_misogynistic_score)\n",
    "\n",
    "dataset[\"misogynistic_swears\"] = misogynistic_words_by_song\n",
    "dataset[\"misogynistic_score\"] = misogyny_score_data"
   ]
  },
  {
   "cell_type": "code",
   "execution_count": 16,
   "metadata": {},
   "outputs": [
    {
     "output_type": "execute_result",
     "data": {
      "text/plain": [
       "0.6301641736378527"
      ]
     },
     "metadata": {},
     "execution_count": 16
    }
   ],
   "source": [
    "# correlating misogyny with swearing\n",
    "dataset['score'].corr(dataset[\"misogynistic_score\"])"
   ]
  },
  {
   "cell_type": "code",
   "execution_count": 17,
   "metadata": {},
   "outputs": [
    {
     "output_type": "execute_result",
     "data": {
      "text/plain": [
       "             score  misogynistic_score\n",
       "count  1127.000000         1127.000000\n",
       "mean      6.121562            1.233363\n",
       "std       9.840935            4.454389\n",
       "min       0.000000            0.000000\n",
       "25%       0.000000            0.000000\n",
       "50%       3.000000            0.000000\n",
       "75%       8.000000            0.000000\n",
       "max     127.000000           81.000000"
      ],
      "text/html": "<div>\n<style scoped>\n    .dataframe tbody tr th:only-of-type {\n        vertical-align: middle;\n    }\n\n    .dataframe tbody tr th {\n        vertical-align: top;\n    }\n\n    .dataframe thead th {\n        text-align: right;\n    }\n</style>\n<table border=\"1\" class=\"dataframe\">\n  <thead>\n    <tr style=\"text-align: right;\">\n      <th></th>\n      <th>score</th>\n      <th>misogynistic_score</th>\n    </tr>\n  </thead>\n  <tbody>\n    <tr>\n      <th>count</th>\n      <td>1127.000000</td>\n      <td>1127.000000</td>\n    </tr>\n    <tr>\n      <th>mean</th>\n      <td>6.121562</td>\n      <td>1.233363</td>\n    </tr>\n    <tr>\n      <th>std</th>\n      <td>9.840935</td>\n      <td>4.454389</td>\n    </tr>\n    <tr>\n      <th>min</th>\n      <td>0.000000</td>\n      <td>0.000000</td>\n    </tr>\n    <tr>\n      <th>25%</th>\n      <td>0.000000</td>\n      <td>0.000000</td>\n    </tr>\n    <tr>\n      <th>50%</th>\n      <td>3.000000</td>\n      <td>0.000000</td>\n    </tr>\n    <tr>\n      <th>75%</th>\n      <td>8.000000</td>\n      <td>0.000000</td>\n    </tr>\n    <tr>\n      <th>max</th>\n      <td>127.000000</td>\n      <td>81.000000</td>\n    </tr>\n  </tbody>\n</table>\n</div>"
     },
     "metadata": {},
     "execution_count": 17
    }
   ],
   "source": [
    "#describing swearing and misogyny scores\n",
    "columns_of_interest = ['score', 'misogynistic_score']\n",
    "two_columns_of_data = dataset[columns_of_interest]\n",
    "two_columns_of_data.describe()"
   ]
  },
  {
   "cell_type": "code",
   "execution_count": 18,
   "metadata": {},
   "outputs": [
    {
     "output_type": "execute_result",
     "data": {
      "text/plain": [
       "              Artista  Calão (média)  Calão (mediana)  Calão (máx)  \\\n",
       "0            9 Miller          17.67             14.0           44   \n",
       "1                Agir           1.38              0.0           13   \n",
       "2         Alcool Club           6.03              3.0           30   \n",
       "3     Allen Halloween          11.95              5.0           88   \n",
       "4               Bispo           8.77              6.0           70   \n",
       "5             Boss AC           2.17              1.0           23   \n",
       "6     Carlão (PacMan)           4.73              0.0           50   \n",
       "7       Chico da Tina          12.36              9.5           48   \n",
       "8         Classe Crua           5.40              3.5           18   \n",
       "9     Conjunto Corona           5.08              2.0           29   \n",
       "10            Cálculo           4.21              1.0           20   \n",
       "11          Da Weasel           3.37              2.0           23   \n",
       "12            Dealema           4.65              2.0           23   \n",
       "13             Dillaz           6.65              5.0           34   \n",
       "14            Estraca           3.62              2.0           17   \n",
       "15      Força Suprema           7.06              5.5           24   \n",
       "16           Fínix MG           6.33              5.0           14   \n",
       "17         GROGNation           7.37              5.0           48   \n",
       "18         Holly Hood           5.73              5.0           19   \n",
       "19            Jimmy P           2.31              0.0           17   \n",
       "20        Kappa Jotta           7.47              3.0           58   \n",
       "21               Keso           5.57              4.0           36   \n",
       "22        LON3R JOHNY           2.47              0.0           42   \n",
       "23       Mike El Nite           5.19              4.0           19   \n",
       "24                NGA           8.94              5.5          127   \n",
       "25           Papillon           5.69              4.5           25   \n",
       "26        Phoenix RDC           9.12              6.0           51   \n",
       "27             Piruka           6.80              5.5           18   \n",
       "28           Plutonio           3.24              1.0           21   \n",
       "29            ProfJam           7.12              4.0           78   \n",
       "30             Regula           8.02              6.0           28   \n",
       "31        Sam The Kid           5.44              2.0           36   \n",
       "32        SippinPurpp           5.40              2.0           22   \n",
       "33  Sir Scratch (PRT)           1.88              1.0            6   \n",
       "34             Slow J           2.84              0.0           19   \n",
       "35              Valas           2.17              0.5            9   \n",
       "36             Valete           6.02              3.0           29   \n",
       "37               Waze           1.92              1.0            6   \n",
       "38       Wet Bed Gang           8.12              5.0           25   \n",
       "39            X-Tense           9.24              7.0           24   \n",
       "40                Xeg           7.64              3.0          113   \n",
       "\n",
       "    Misoginia (média)  Misoginia (total)  Misoginia (máx)  \n",
       "0                6.83                 82               21  \n",
       "1                0.00                  0                0  \n",
       "2                2.10                 61               20  \n",
       "3                3.03                112               22  \n",
       "4                0.30                 13                3  \n",
       "5                0.52                 24                9  \n",
       "6                0.33                  5                2  \n",
       "7                2.79                 39               15  \n",
       "8                2.60                 26               12  \n",
       "9                1.68                 42               15  \n",
       "10               0.43                  6                3  \n",
       "11               0.46                 16                3  \n",
       "12               0.70                 26                8  \n",
       "13               1.76                 60               26  \n",
       "14               0.69                  9                7  \n",
       "15               0.50                  8                3  \n",
       "16               1.50                 18                5  \n",
       "17               1.93                 58                9  \n",
       "18               0.45                  5                3  \n",
       "19               0.40                 17                8  \n",
       "20               3.26                 62               54  \n",
       "21               0.78                 18               14  \n",
       "22               0.08                  3                3  \n",
       "23               0.95                 20                8  \n",
       "24               0.68                 23                6  \n",
       "25               1.50                 24               10  \n",
       "26               1.87                127               24  \n",
       "27               0.30                  9                4  \n",
       "28               0.86                 18                9  \n",
       "29               2.27                109               66  \n",
       "30               1.50                 60               10  \n",
       "31               0.72                 41                9  \n",
       "32               0.70                  7                5  \n",
       "33               0.31                  5                3  \n",
       "34               0.12                  3                3  \n",
       "35               0.67                  8                8  \n",
       "36               1.17                 62               24  \n",
       "37               0.00                  0                0  \n",
       "38               1.00                 26                6  \n",
       "39               0.71                 12                5  \n",
       "40               3.00                126               81  "
      ],
      "text/html": "<div>\n<style scoped>\n    .dataframe tbody tr th:only-of-type {\n        vertical-align: middle;\n    }\n\n    .dataframe tbody tr th {\n        vertical-align: top;\n    }\n\n    .dataframe thead th {\n        text-align: right;\n    }\n</style>\n<table border=\"1\" class=\"dataframe\">\n  <thead>\n    <tr style=\"text-align: right;\">\n      <th></th>\n      <th>Artista</th>\n      <th>Calão (média)</th>\n      <th>Calão (mediana)</th>\n      <th>Calão (máx)</th>\n      <th>Misoginia (média)</th>\n      <th>Misoginia (total)</th>\n      <th>Misoginia (máx)</th>\n    </tr>\n  </thead>\n  <tbody>\n    <tr>\n      <th>0</th>\n      <td>9 Miller</td>\n      <td>17.67</td>\n      <td>14.0</td>\n      <td>44</td>\n      <td>6.83</td>\n      <td>82</td>\n      <td>21</td>\n    </tr>\n    <tr>\n      <th>1</th>\n      <td>Agir</td>\n      <td>1.38</td>\n      <td>0.0</td>\n      <td>13</td>\n      <td>0.00</td>\n      <td>0</td>\n      <td>0</td>\n    </tr>\n    <tr>\n      <th>2</th>\n      <td>Alcool Club</td>\n      <td>6.03</td>\n      <td>3.0</td>\n      <td>30</td>\n      <td>2.10</td>\n      <td>61</td>\n      <td>20</td>\n    </tr>\n    <tr>\n      <th>3</th>\n      <td>Allen Halloween</td>\n      <td>11.95</td>\n      <td>5.0</td>\n      <td>88</td>\n      <td>3.03</td>\n      <td>112</td>\n      <td>22</td>\n    </tr>\n    <tr>\n      <th>4</th>\n      <td>Bispo</td>\n      <td>8.77</td>\n      <td>6.0</td>\n      <td>70</td>\n      <td>0.30</td>\n      <td>13</td>\n      <td>3</td>\n    </tr>\n    <tr>\n      <th>5</th>\n      <td>Boss AC</td>\n      <td>2.17</td>\n      <td>1.0</td>\n      <td>23</td>\n      <td>0.52</td>\n      <td>24</td>\n      <td>9</td>\n    </tr>\n    <tr>\n      <th>6</th>\n      <td>Carlão (PacMan)</td>\n      <td>4.73</td>\n      <td>0.0</td>\n      <td>50</td>\n      <td>0.33</td>\n      <td>5</td>\n      <td>2</td>\n    </tr>\n    <tr>\n      <th>7</th>\n      <td>Chico da Tina</td>\n      <td>12.36</td>\n      <td>9.5</td>\n      <td>48</td>\n      <td>2.79</td>\n      <td>39</td>\n      <td>15</td>\n    </tr>\n    <tr>\n      <th>8</th>\n      <td>Classe Crua</td>\n      <td>5.40</td>\n      <td>3.5</td>\n      <td>18</td>\n      <td>2.60</td>\n      <td>26</td>\n      <td>12</td>\n    </tr>\n    <tr>\n      <th>9</th>\n      <td>Conjunto Corona</td>\n      <td>5.08</td>\n      <td>2.0</td>\n      <td>29</td>\n      <td>1.68</td>\n      <td>42</td>\n      <td>15</td>\n    </tr>\n    <tr>\n      <th>10</th>\n      <td>Cálculo</td>\n      <td>4.21</td>\n      <td>1.0</td>\n      <td>20</td>\n      <td>0.43</td>\n      <td>6</td>\n      <td>3</td>\n    </tr>\n    <tr>\n      <th>11</th>\n      <td>Da Weasel</td>\n      <td>3.37</td>\n      <td>2.0</td>\n      <td>23</td>\n      <td>0.46</td>\n      <td>16</td>\n      <td>3</td>\n    </tr>\n    <tr>\n      <th>12</th>\n      <td>Dealema</td>\n      <td>4.65</td>\n      <td>2.0</td>\n      <td>23</td>\n      <td>0.70</td>\n      <td>26</td>\n      <td>8</td>\n    </tr>\n    <tr>\n      <th>13</th>\n      <td>Dillaz</td>\n      <td>6.65</td>\n      <td>5.0</td>\n      <td>34</td>\n      <td>1.76</td>\n      <td>60</td>\n      <td>26</td>\n    </tr>\n    <tr>\n      <th>14</th>\n      <td>Estraca</td>\n      <td>3.62</td>\n      <td>2.0</td>\n      <td>17</td>\n      <td>0.69</td>\n      <td>9</td>\n      <td>7</td>\n    </tr>\n    <tr>\n      <th>15</th>\n      <td>Força Suprema</td>\n      <td>7.06</td>\n      <td>5.5</td>\n      <td>24</td>\n      <td>0.50</td>\n      <td>8</td>\n      <td>3</td>\n    </tr>\n    <tr>\n      <th>16</th>\n      <td>Fínix MG</td>\n      <td>6.33</td>\n      <td>5.0</td>\n      <td>14</td>\n      <td>1.50</td>\n      <td>18</td>\n      <td>5</td>\n    </tr>\n    <tr>\n      <th>17</th>\n      <td>GROGNation</td>\n      <td>7.37</td>\n      <td>5.0</td>\n      <td>48</td>\n      <td>1.93</td>\n      <td>58</td>\n      <td>9</td>\n    </tr>\n    <tr>\n      <th>18</th>\n      <td>Holly Hood</td>\n      <td>5.73</td>\n      <td>5.0</td>\n      <td>19</td>\n      <td>0.45</td>\n      <td>5</td>\n      <td>3</td>\n    </tr>\n    <tr>\n      <th>19</th>\n      <td>Jimmy P</td>\n      <td>2.31</td>\n      <td>0.0</td>\n      <td>17</td>\n      <td>0.40</td>\n      <td>17</td>\n      <td>8</td>\n    </tr>\n    <tr>\n      <th>20</th>\n      <td>Kappa Jotta</td>\n      <td>7.47</td>\n      <td>3.0</td>\n      <td>58</td>\n      <td>3.26</td>\n      <td>62</td>\n      <td>54</td>\n    </tr>\n    <tr>\n      <th>21</th>\n      <td>Keso</td>\n      <td>5.57</td>\n      <td>4.0</td>\n      <td>36</td>\n      <td>0.78</td>\n      <td>18</td>\n      <td>14</td>\n    </tr>\n    <tr>\n      <th>22</th>\n      <td>LON3R JOHNY</td>\n      <td>2.47</td>\n      <td>0.0</td>\n      <td>42</td>\n      <td>0.08</td>\n      <td>3</td>\n      <td>3</td>\n    </tr>\n    <tr>\n      <th>23</th>\n      <td>Mike El Nite</td>\n      <td>5.19</td>\n      <td>4.0</td>\n      <td>19</td>\n      <td>0.95</td>\n      <td>20</td>\n      <td>8</td>\n    </tr>\n    <tr>\n      <th>24</th>\n      <td>NGA</td>\n      <td>8.94</td>\n      <td>5.5</td>\n      <td>127</td>\n      <td>0.68</td>\n      <td>23</td>\n      <td>6</td>\n    </tr>\n    <tr>\n      <th>25</th>\n      <td>Papillon</td>\n      <td>5.69</td>\n      <td>4.5</td>\n      <td>25</td>\n      <td>1.50</td>\n      <td>24</td>\n      <td>10</td>\n    </tr>\n    <tr>\n      <th>26</th>\n      <td>Phoenix RDC</td>\n      <td>9.12</td>\n      <td>6.0</td>\n      <td>51</td>\n      <td>1.87</td>\n      <td>127</td>\n      <td>24</td>\n    </tr>\n    <tr>\n      <th>27</th>\n      <td>Piruka</td>\n      <td>6.80</td>\n      <td>5.5</td>\n      <td>18</td>\n      <td>0.30</td>\n      <td>9</td>\n      <td>4</td>\n    </tr>\n    <tr>\n      <th>28</th>\n      <td>Plutonio</td>\n      <td>3.24</td>\n      <td>1.0</td>\n      <td>21</td>\n      <td>0.86</td>\n      <td>18</td>\n      <td>9</td>\n    </tr>\n    <tr>\n      <th>29</th>\n      <td>ProfJam</td>\n      <td>7.12</td>\n      <td>4.0</td>\n      <td>78</td>\n      <td>2.27</td>\n      <td>109</td>\n      <td>66</td>\n    </tr>\n    <tr>\n      <th>30</th>\n      <td>Regula</td>\n      <td>8.02</td>\n      <td>6.0</td>\n      <td>28</td>\n      <td>1.50</td>\n      <td>60</td>\n      <td>10</td>\n    </tr>\n    <tr>\n      <th>31</th>\n      <td>Sam The Kid</td>\n      <td>5.44</td>\n      <td>2.0</td>\n      <td>36</td>\n      <td>0.72</td>\n      <td>41</td>\n      <td>9</td>\n    </tr>\n    <tr>\n      <th>32</th>\n      <td>SippinPurpp</td>\n      <td>5.40</td>\n      <td>2.0</td>\n      <td>22</td>\n      <td>0.70</td>\n      <td>7</td>\n      <td>5</td>\n    </tr>\n    <tr>\n      <th>33</th>\n      <td>Sir Scratch (PRT)</td>\n      <td>1.88</td>\n      <td>1.0</td>\n      <td>6</td>\n      <td>0.31</td>\n      <td>5</td>\n      <td>3</td>\n    </tr>\n    <tr>\n      <th>34</th>\n      <td>Slow J</td>\n      <td>2.84</td>\n      <td>0.0</td>\n      <td>19</td>\n      <td>0.12</td>\n      <td>3</td>\n      <td>3</td>\n    </tr>\n    <tr>\n      <th>35</th>\n      <td>Valas</td>\n      <td>2.17</td>\n      <td>0.5</td>\n      <td>9</td>\n      <td>0.67</td>\n      <td>8</td>\n      <td>8</td>\n    </tr>\n    <tr>\n      <th>36</th>\n      <td>Valete</td>\n      <td>6.02</td>\n      <td>3.0</td>\n      <td>29</td>\n      <td>1.17</td>\n      <td>62</td>\n      <td>24</td>\n    </tr>\n    <tr>\n      <th>37</th>\n      <td>Waze</td>\n      <td>1.92</td>\n      <td>1.0</td>\n      <td>6</td>\n      <td>0.00</td>\n      <td>0</td>\n      <td>0</td>\n    </tr>\n    <tr>\n      <th>38</th>\n      <td>Wet Bed Gang</td>\n      <td>8.12</td>\n      <td>5.0</td>\n      <td>25</td>\n      <td>1.00</td>\n      <td>26</td>\n      <td>6</td>\n    </tr>\n    <tr>\n      <th>39</th>\n      <td>X-Tense</td>\n      <td>9.24</td>\n      <td>7.0</td>\n      <td>24</td>\n      <td>0.71</td>\n      <td>12</td>\n      <td>5</td>\n    </tr>\n    <tr>\n      <th>40</th>\n      <td>Xeg</td>\n      <td>7.64</td>\n      <td>3.0</td>\n      <td>113</td>\n      <td>3.00</td>\n      <td>126</td>\n      <td>81</td>\n    </tr>\n  </tbody>\n</table>\n</div>"
     },
     "metadata": {},
     "execution_count": 18
    }
   ],
   "source": [
    "#describing misogyny per artist\n",
    "\n",
    "misogyny_score_chart = pd.DataFrame()\n",
    "\n",
    "misogyny_score_chart[\"Calão (média)\"] = dataset.groupby([\"artist_name\"])[\"score\"].mean()\n",
    "misogyny_score_chart[\"Calão (mediana)\"] = dataset.groupby([\"artist_name\"])[\"score\"].median()\n",
    "misogyny_score_chart[\"Calão (máx)\"] = dataset.groupby([\"artist_name\"])[\"score\"].max()\n",
    "misogyny_score_chart[\"Misoginia (média)\"] = dataset.groupby([\"artist_name\"])[\"misogynistic_score\"].mean()\n",
    "misogyny_score_chart[\"Misoginia (total)\"] = dataset.groupby([\"artist_name\"])[\"misogynistic_score\"].sum()\n",
    "misogyny_score_chart[\"Misoginia (máx)\"] = dataset.groupby([\"artist_name\"])[\"misogynistic_score\"].max()\n",
    "misogyny_score_chart.reset_index(inplace=True)\n",
    "misogyny_score_chart.rename(columns={'artist_name': 'Artista'}, inplace = True)\n",
    "\n",
    "misogyny_score_chart = misogyny_score_chart.round(decimals=2)\n",
    "misogyny_score_chart.to_csv(\"misogyny_score_chart.csv\")\n",
    "misogyny_score_chart"
   ]
  },
  {
   "cell_type": "code",
   "execution_count": 45,
   "metadata": {},
   "outputs": [
    {
     "output_type": "execute_result",
     "data": {
      "text/plain": [
       "       artist_name               title               album featured_artists  \\\n",
       "0     Mike El Nite       Só badalhocas    Vaporetto Titano     ['Da Chick']   \n",
       "1     Mike El Nite            T.U.G.A.        O Justiceiro               []   \n",
       "2     Mike El Nite         Santa Maria        O Justiceiro               []   \n",
       "3     Mike El Nite             Funeral                 ---        ['Nerve']   \n",
       "4     Mike El Nite         Caixa Negra        Inter-Missão    ['J-K (Rap)']   \n",
       "...            ...                 ...                 ...              ...   \n",
       "1142       Jimmy P            Na Na Na  Momento da Verdade    ['Celso OPP']   \n",
       "1143       Jimmy P  Fonte da Juventude                  #1               []   \n",
       "1144       Jimmy P           Um Brinde        FVMILY F1RST               []   \n",
       "1145       Jimmy P               A Luz        FVMILY F1RST               []   \n",
       "1146       Jimmy P       Irmãos de Voz        FVMILY F1RST         ['Jepe']   \n",
       "\n",
       "                                                 lyrics       date  \\\n",
       "0      mike el nite só badalhocas nesta festa como é... 2016-01-01   \n",
       "1     hey vive a vida como uma festa sob o vento da ... 2016-04-22   \n",
       "2     tu és loucura és o meu prazer uma aventura que... 2016-04-22   \n",
       "3     é foi um foi um bom ano verdade mas isso não c... 2017-01-13   \n",
       "4     chamavamme desajeitado por não pintar dentro d... 2018-12-07   \n",
       "...                                                 ...        ...   \n",
       "1142  eu não tou pronto para um revés sou apenas mai...        NaT   \n",
       "1143  nunca há de haver ninguém que me ensine quem e...        NaT   \n",
       "1144  hoje eu faço um brinde a nós de tudo o que a v... 2015-02-20   \n",
       "1145  aqui ninguém derruba o que deus abençoou não o... 2015-02-26   \n",
       "1146  a pouca gente que eu sigo muitos me chamam de ... 2015-02-20   \n",
       "\n",
       "                                                    url  lyrics_len  \\\n",
       "0     https://genius.com/Mike-el-nite-so-badalhocas-...        2735   \n",
       "1           https://genius.com/Mike-el-nite-tuga-lyrics        2628   \n",
       "2     https://genius.com/Mike-el-nite-santa-maria-ly...        3079   \n",
       "3        https://genius.com/Mike-el-nite-funeral-lyrics        2850   \n",
       "4     https://genius.com/Mike-el-nite-caixa-negra-ly...        2789   \n",
       "...                                                 ...         ...   \n",
       "1142         https://genius.com/Jimmy-p-na-na-na-lyrics        1491   \n",
       "1143  https://genius.com/Jimmy-p-fonte-da-juventude-...        1945   \n",
       "1144        https://genius.com/Jimmy-p-um-brinde-lyrics        1232   \n",
       "1145            https://genius.com/Jimmy-p-a-luz-lyrics        2491   \n",
       "1146    https://genius.com/Jimmy-p-irmaos-de-voz-lyrics        2379   \n",
       "\n",
       "                                           no_stopwords  \\\n",
       "0      mike el nite badalhocas nesta festa deixaram ...   \n",
       "1     hey vive vida festa sob vento floresta adoro r...   \n",
       "2     és loucura és prazer aventura querer quero ter...   \n",
       "3     bom ano verdade chega nope vida presta  faço c...   \n",
       "4     chamavamme desajeitado pintar dentro margem qu...   \n",
       "...                                                 ...   \n",
       "1142  tou pronto revés apenas jovem procura ter mund...   \n",
       "1143  nunca haver ninguém ensine passei sofri demais...   \n",
       "1144  hoje faço brinde tudo vida deu ontem primavera...   \n",
       "1145  aqui ninguém derruba deus abençoou oh todos ve...   \n",
       "1146  pouca gente sigo muitos chamam irmão poucos sa...   \n",
       "\n",
       "                                                 tokens  \\\n",
       "0     [mike, el, nite, badalhocas, nesta, festa, dei...   \n",
       "1     [hey, vive, vida, festa, sob, vento, floresta,...   \n",
       "2     [és, loucura, és, prazer, aventura, querer, qu...   \n",
       "3     [bom, ano, verdade, chega, nope, vida, presta,...   \n",
       "4     [chamavamme, desajeitado, pintar, dentro, marg...   \n",
       "...                                                 ...   \n",
       "1142  [tou, pronto, revés, apenas, jovem, procura, t...   \n",
       "1143  [nunca, haver, ninguém, ensine, passei, sofri,...   \n",
       "1144  [hoje, faço, brinde, tudo, vida, deu, ontem, p...   \n",
       "1145  [aqui, ninguém, derruba, deus, abençoou, oh, t...   \n",
       "1146  [pouca, gente, sigo, muitos, chamam, irmão, po...   \n",
       "\n",
       "                                                 swears  score  \\\n",
       "0          [puta, foder, vaca, cu, puta, rabo, putaria]     19   \n",
       "1                                  [gato, tipo, mágico]      3   \n",
       "2     [cabra, oferecida, merda, tipo, tipo, tipo, tipo]     11   \n",
       "3                              [puto, puto, puta, tipo]      8   \n",
       "4           [vale, tipo, merda, tipo, mano, tipo, tipo]     10   \n",
       "...                                                 ...    ...   \n",
       "1142                                                 []      0   \n",
       "1143                                       [vale, vale]      4   \n",
       "1144                                             [puto]      2   \n",
       "1145                                                 []      0   \n",
       "1146                                      [vale, merda]      5   \n",
       "\n",
       "     misogynistic_swears  misogynistic_score  \n",
       "0     [puta, vaca, puta]                   8  \n",
       "1                     []                   0  \n",
       "2            [oferecida]                   2  \n",
       "3                 [puta]                   3  \n",
       "4                     []                   0  \n",
       "...                  ...                 ...  \n",
       "1142                  []                   0  \n",
       "1143                  []                   0  \n",
       "1144                  []                   0  \n",
       "1145                  []                   0  \n",
       "1146                  []                   0  \n",
       "\n",
       "[1127 rows x 14 columns]"
      ],
      "text/html": "<div>\n<style scoped>\n    .dataframe tbody tr th:only-of-type {\n        vertical-align: middle;\n    }\n\n    .dataframe tbody tr th {\n        vertical-align: top;\n    }\n\n    .dataframe thead th {\n        text-align: right;\n    }\n</style>\n<table border=\"1\" class=\"dataframe\">\n  <thead>\n    <tr style=\"text-align: right;\">\n      <th></th>\n      <th>artist_name</th>\n      <th>title</th>\n      <th>album</th>\n      <th>featured_artists</th>\n      <th>lyrics</th>\n      <th>date</th>\n      <th>url</th>\n      <th>lyrics_len</th>\n      <th>no_stopwords</th>\n      <th>tokens</th>\n      <th>swears</th>\n      <th>score</th>\n      <th>misogynistic_swears</th>\n      <th>misogynistic_score</th>\n    </tr>\n  </thead>\n  <tbody>\n    <tr>\n      <th>0</th>\n      <td>Mike El Nite</td>\n      <td>Só badalhocas</td>\n      <td>Vaporetto Titano</td>\n      <td>['Da Chick']</td>\n      <td>mike el nite só badalhocas nesta festa como é...</td>\n      <td>2016-01-01</td>\n      <td>https://genius.com/Mike-el-nite-so-badalhocas-...</td>\n      <td>2735</td>\n      <td>mike el nite badalhocas nesta festa deixaram ...</td>\n      <td>[mike, el, nite, badalhocas, nesta, festa, dei...</td>\n      <td>[puta, foder, vaca, cu, puta, rabo, putaria]</td>\n      <td>19</td>\n      <td>[puta, vaca, puta]</td>\n      <td>8</td>\n    </tr>\n    <tr>\n      <th>1</th>\n      <td>Mike El Nite</td>\n      <td>T.U.G.A.</td>\n      <td>O Justiceiro</td>\n      <td>[]</td>\n      <td>hey vive a vida como uma festa sob o vento da ...</td>\n      <td>2016-04-22</td>\n      <td>https://genius.com/Mike-el-nite-tuga-lyrics</td>\n      <td>2628</td>\n      <td>hey vive vida festa sob vento floresta adoro r...</td>\n      <td>[hey, vive, vida, festa, sob, vento, floresta,...</td>\n      <td>[gato, tipo, mágico]</td>\n      <td>3</td>\n      <td>[]</td>\n      <td>0</td>\n    </tr>\n    <tr>\n      <th>2</th>\n      <td>Mike El Nite</td>\n      <td>Santa Maria</td>\n      <td>O Justiceiro</td>\n      <td>[]</td>\n      <td>tu és loucura és o meu prazer uma aventura que...</td>\n      <td>2016-04-22</td>\n      <td>https://genius.com/Mike-el-nite-santa-maria-ly...</td>\n      <td>3079</td>\n      <td>és loucura és prazer aventura querer quero ter...</td>\n      <td>[és, loucura, és, prazer, aventura, querer, qu...</td>\n      <td>[cabra, oferecida, merda, tipo, tipo, tipo, tipo]</td>\n      <td>11</td>\n      <td>[oferecida]</td>\n      <td>2</td>\n    </tr>\n    <tr>\n      <th>3</th>\n      <td>Mike El Nite</td>\n      <td>Funeral</td>\n      <td>---</td>\n      <td>['Nerve']</td>\n      <td>é foi um foi um bom ano verdade mas isso não c...</td>\n      <td>2017-01-13</td>\n      <td>https://genius.com/Mike-el-nite-funeral-lyrics</td>\n      <td>2850</td>\n      <td>bom ano verdade chega nope vida presta  faço c...</td>\n      <td>[bom, ano, verdade, chega, nope, vida, presta,...</td>\n      <td>[puto, puto, puta, tipo]</td>\n      <td>8</td>\n      <td>[puta]</td>\n      <td>3</td>\n    </tr>\n    <tr>\n      <th>4</th>\n      <td>Mike El Nite</td>\n      <td>Caixa Negra</td>\n      <td>Inter-Missão</td>\n      <td>['J-K (Rap)']</td>\n      <td>chamavamme desajeitado por não pintar dentro d...</td>\n      <td>2018-12-07</td>\n      <td>https://genius.com/Mike-el-nite-caixa-negra-ly...</td>\n      <td>2789</td>\n      <td>chamavamme desajeitado pintar dentro margem qu...</td>\n      <td>[chamavamme, desajeitado, pintar, dentro, marg...</td>\n      <td>[vale, tipo, merda, tipo, mano, tipo, tipo]</td>\n      <td>10</td>\n      <td>[]</td>\n      <td>0</td>\n    </tr>\n    <tr>\n      <th>...</th>\n      <td>...</td>\n      <td>...</td>\n      <td>...</td>\n      <td>...</td>\n      <td>...</td>\n      <td>...</td>\n      <td>...</td>\n      <td>...</td>\n      <td>...</td>\n      <td>...</td>\n      <td>...</td>\n      <td>...</td>\n      <td>...</td>\n      <td>...</td>\n    </tr>\n    <tr>\n      <th>1142</th>\n      <td>Jimmy P</td>\n      <td>Na Na Na</td>\n      <td>Momento da Verdade</td>\n      <td>['Celso OPP']</td>\n      <td>eu não tou pronto para um revés sou apenas mai...</td>\n      <td>NaT</td>\n      <td>https://genius.com/Jimmy-p-na-na-na-lyrics</td>\n      <td>1491</td>\n      <td>tou pronto revés apenas jovem procura ter mund...</td>\n      <td>[tou, pronto, revés, apenas, jovem, procura, t...</td>\n      <td>[]</td>\n      <td>0</td>\n      <td>[]</td>\n      <td>0</td>\n    </tr>\n    <tr>\n      <th>1143</th>\n      <td>Jimmy P</td>\n      <td>Fonte da Juventude</td>\n      <td>#1</td>\n      <td>[]</td>\n      <td>nunca há de haver ninguém que me ensine quem e...</td>\n      <td>NaT</td>\n      <td>https://genius.com/Jimmy-p-fonte-da-juventude-...</td>\n      <td>1945</td>\n      <td>nunca haver ninguém ensine passei sofri demais...</td>\n      <td>[nunca, haver, ninguém, ensine, passei, sofri,...</td>\n      <td>[vale, vale]</td>\n      <td>4</td>\n      <td>[]</td>\n      <td>0</td>\n    </tr>\n    <tr>\n      <th>1144</th>\n      <td>Jimmy P</td>\n      <td>Um Brinde</td>\n      <td>FVMILY F1RST</td>\n      <td>[]</td>\n      <td>hoje eu faço um brinde a nós de tudo o que a v...</td>\n      <td>2015-02-20</td>\n      <td>https://genius.com/Jimmy-p-um-brinde-lyrics</td>\n      <td>1232</td>\n      <td>hoje faço brinde tudo vida deu ontem primavera...</td>\n      <td>[hoje, faço, brinde, tudo, vida, deu, ontem, p...</td>\n      <td>[puto]</td>\n      <td>2</td>\n      <td>[]</td>\n      <td>0</td>\n    </tr>\n    <tr>\n      <th>1145</th>\n      <td>Jimmy P</td>\n      <td>A Luz</td>\n      <td>FVMILY F1RST</td>\n      <td>[]</td>\n      <td>aqui ninguém derruba o que deus abençoou não o...</td>\n      <td>2015-02-26</td>\n      <td>https://genius.com/Jimmy-p-a-luz-lyrics</td>\n      <td>2491</td>\n      <td>aqui ninguém derruba deus abençoou oh todos ve...</td>\n      <td>[aqui, ninguém, derruba, deus, abençoou, oh, t...</td>\n      <td>[]</td>\n      <td>0</td>\n      <td>[]</td>\n      <td>0</td>\n    </tr>\n    <tr>\n      <th>1146</th>\n      <td>Jimmy P</td>\n      <td>Irmãos de Voz</td>\n      <td>FVMILY F1RST</td>\n      <td>['Jepe']</td>\n      <td>a pouca gente que eu sigo muitos me chamam de ...</td>\n      <td>2015-02-20</td>\n      <td>https://genius.com/Jimmy-p-irmaos-de-voz-lyrics</td>\n      <td>2379</td>\n      <td>pouca gente sigo muitos chamam irmão poucos sa...</td>\n      <td>[pouca, gente, sigo, muitos, chamam, irmão, po...</td>\n      <td>[vale, merda]</td>\n      <td>5</td>\n      <td>[]</td>\n      <td>0</td>\n    </tr>\n  </tbody>\n</table>\n<p>1127 rows × 14 columns</p>\n</div>"
     },
     "metadata": {},
     "execution_count": 45
    }
   ],
   "source": []
  },
  {
   "cell_type": "code",
   "execution_count": 19,
   "metadata": {},
   "outputs": [
    {
     "output_type": "execute_result",
     "data": {
      "text/plain": [
       "                                                   what    Artist  \\\n",
       "0     ((9 Miller, antes nunca nunca beefem sério faç...  9 Miller   \n",
       "1     ((9 Miller, aqui dá pa ver boy perco tempo toc...  9 Miller   \n",
       "2     ((9 Miller, coração espancado rusga goe venha ...  9 Miller   \n",
       "3     ((9 Miller, cuspir importante malta cospe pouc...  9 Miller   \n",
       "4     ((9 Miller, han agora anda tudo preocupado hip...  9 Miller   \n",
       "...                                                 ...       ...   \n",
       "1122  ((Xeg, yeh egotripping man contame histórias b...       Xeg   \n",
       "1123  ((Xeg, yeh niggas dont chill yeh boy xeg is ch...       Xeg   \n",
       "1124  ((Xeg, yo mariana andote mancar panorama dread...       Xeg   \n",
       "1125  ((Xeg, yo xeg remisturas vol1 bemvindos trabal...       Xeg   \n",
       "1126  ((Xeg, ás vezes penso comigo tudo ser feliz ou...       Xeg   \n",
       "\n",
       "                                                 Lyrics  \n",
       "0     antes nunca nunca beefem sério façam ser pesso...  \n",
       "1     aqui dá pa ver boy perco tempo toca guita filh...  \n",
       "2     coração espancado rusga goe venha cuspa prato ...  \n",
       "3     cuspir importante malta cospe pouco rua cospem...  \n",
       "4     han agora anda tudo preocupado hiphop sinceram...  \n",
       "...                                                 ...  \n",
       "1122  yeh egotripping man contame histórias boy quê ...  \n",
       "1123  yeh niggas dont chill yeh boy xeg is chilling ...  \n",
       "1124  yo mariana andote mancar panorama dreads andas...  \n",
       "1125  yo xeg remisturas vol1 bemvindos trabalho ediç...  \n",
       "1126  ás vezes penso comigo tudo ser feliz outras si...  \n",
       "\n",
       "[1127 rows x 3 columns]"
      ],
      "text/html": "<div>\n<style scoped>\n    .dataframe tbody tr th:only-of-type {\n        vertical-align: middle;\n    }\n\n    .dataframe tbody tr th {\n        vertical-align: top;\n    }\n\n    .dataframe thead th {\n        text-align: right;\n    }\n</style>\n<table border=\"1\" class=\"dataframe\">\n  <thead>\n    <tr style=\"text-align: right;\">\n      <th></th>\n      <th>what</th>\n      <th>Artist</th>\n      <th>Lyrics</th>\n    </tr>\n  </thead>\n  <tbody>\n    <tr>\n      <th>0</th>\n      <td>((9 Miller, antes nunca nunca beefem sério faç...</td>\n      <td>9 Miller</td>\n      <td>antes nunca nunca beefem sério façam ser pesso...</td>\n    </tr>\n    <tr>\n      <th>1</th>\n      <td>((9 Miller, aqui dá pa ver boy perco tempo toc...</td>\n      <td>9 Miller</td>\n      <td>aqui dá pa ver boy perco tempo toca guita filh...</td>\n    </tr>\n    <tr>\n      <th>2</th>\n      <td>((9 Miller, coração espancado rusga goe venha ...</td>\n      <td>9 Miller</td>\n      <td>coração espancado rusga goe venha cuspa prato ...</td>\n    </tr>\n    <tr>\n      <th>3</th>\n      <td>((9 Miller, cuspir importante malta cospe pouc...</td>\n      <td>9 Miller</td>\n      <td>cuspir importante malta cospe pouco rua cospem...</td>\n    </tr>\n    <tr>\n      <th>4</th>\n      <td>((9 Miller, han agora anda tudo preocupado hip...</td>\n      <td>9 Miller</td>\n      <td>han agora anda tudo preocupado hiphop sinceram...</td>\n    </tr>\n    <tr>\n      <th>...</th>\n      <td>...</td>\n      <td>...</td>\n      <td>...</td>\n    </tr>\n    <tr>\n      <th>1122</th>\n      <td>((Xeg, yeh egotripping man contame histórias b...</td>\n      <td>Xeg</td>\n      <td>yeh egotripping man contame histórias boy quê ...</td>\n    </tr>\n    <tr>\n      <th>1123</th>\n      <td>((Xeg, yeh niggas dont chill yeh boy xeg is ch...</td>\n      <td>Xeg</td>\n      <td>yeh niggas dont chill yeh boy xeg is chilling ...</td>\n    </tr>\n    <tr>\n      <th>1124</th>\n      <td>((Xeg, yo mariana andote mancar panorama dread...</td>\n      <td>Xeg</td>\n      <td>yo mariana andote mancar panorama dreads andas...</td>\n    </tr>\n    <tr>\n      <th>1125</th>\n      <td>((Xeg, yo xeg remisturas vol1 bemvindos trabal...</td>\n      <td>Xeg</td>\n      <td>yo xeg remisturas vol1 bemvindos trabalho ediç...</td>\n    </tr>\n    <tr>\n      <th>1126</th>\n      <td>((Xeg, ás vezes penso comigo tudo ser feliz ou...</td>\n      <td>Xeg</td>\n      <td>ás vezes penso comigo tudo ser feliz outras si...</td>\n    </tr>\n  </tbody>\n</table>\n<p>1127 rows × 3 columns</p>\n</div>"
     },
     "metadata": {},
     "execution_count": 19
    }
   ],
   "source": [
    "#dataset.to_csv(\"dataset.csv\")\n",
    "\n",
    "\n",
    "#describing unique words by artist\n",
    "artist_word_unique = pd.DataFrame()\n",
    "artist_word_unique[\"what\"] = dataset.groupby([\"artist_name\", \"no_stopwords\"])\n",
    "\n",
    "split_data = [list(i) for i in artist_word_unique[\"what\"]]\n",
    "artist_word_unique[\"Artist\"] = [i[0] for i in split_data]\n",
    "artist_word_unique[\"Lyrics\"] = [i[1] for i in artist_word_unique[\"Artist\"]]\n",
    "artist_word_unique[\"Artist\"] = [i[0] for i in artist_word_unique[\"Artist\"]]\n",
    "artist_word_unique"
   ]
  },
  {
   "cell_type": "code",
   "execution_count": 20,
   "metadata": {},
   "outputs": [
    {
     "output_type": "execute_result",
     "data": {
      "text/plain": [
       "               Artist  Number of Songs\n",
       "0         Phoenix RDC               68\n",
       "1         Sam The Kid               57\n",
       "2              Valete               53\n",
       "3             ProfJam               48\n",
       "4             Boss AC               46\n",
       "5               Bispo               43\n",
       "6             Jimmy P               42\n",
       "7                 Xeg               42\n",
       "8              Regula               40\n",
       "9     Allen Halloween               37\n",
       "10            Dealema               37\n",
       "11        LON3R JOHNY               36\n",
       "12          Da Weasel               35\n",
       "13                NGA               34\n",
       "14             Dillaz               34\n",
       "15             Piruka               30\n",
       "16         GROGNation               30\n",
       "17        Alcool Club               29\n",
       "18       Wet Bed Gang               26\n",
       "19               Agir               26\n",
       "20             Slow J               25\n",
       "21    Conjunto Corona               25\n",
       "22               Keso               23\n",
       "23       Mike El Nite               21\n",
       "24           Plutonio               21\n",
       "25        Kappa Jotta               19\n",
       "26            X-Tense               17\n",
       "27      Força Suprema               16\n",
       "28  Sir Scratch (PRT)               16\n",
       "29           Papillon               16\n",
       "30    Carlão (PacMan)               15\n",
       "31            Cálculo               14\n",
       "32      Chico da Tina               14\n",
       "33            Estraca               13\n",
       "34           9 Miller               12\n",
       "35               Waze               12\n",
       "36              Valas               12\n",
       "37           Fínix MG               12\n",
       "38         Holly Hood               11\n",
       "39        SippinPurpp               10\n",
       "40        Classe Crua               10"
      ],
      "text/html": "<div>\n<style scoped>\n    .dataframe tbody tr th:only-of-type {\n        vertical-align: middle;\n    }\n\n    .dataframe tbody tr th {\n        vertical-align: top;\n    }\n\n    .dataframe thead th {\n        text-align: right;\n    }\n</style>\n<table border=\"1\" class=\"dataframe\">\n  <thead>\n    <tr style=\"text-align: right;\">\n      <th></th>\n      <th>Artist</th>\n      <th>Number of Songs</th>\n    </tr>\n  </thead>\n  <tbody>\n    <tr>\n      <th>0</th>\n      <td>Phoenix RDC</td>\n      <td>68</td>\n    </tr>\n    <tr>\n      <th>1</th>\n      <td>Sam The Kid</td>\n      <td>57</td>\n    </tr>\n    <tr>\n      <th>2</th>\n      <td>Valete</td>\n      <td>53</td>\n    </tr>\n    <tr>\n      <th>3</th>\n      <td>ProfJam</td>\n      <td>48</td>\n    </tr>\n    <tr>\n      <th>4</th>\n      <td>Boss AC</td>\n      <td>46</td>\n    </tr>\n    <tr>\n      <th>5</th>\n      <td>Bispo</td>\n      <td>43</td>\n    </tr>\n    <tr>\n      <th>6</th>\n      <td>Jimmy P</td>\n      <td>42</td>\n    </tr>\n    <tr>\n      <th>7</th>\n      <td>Xeg</td>\n      <td>42</td>\n    </tr>\n    <tr>\n      <th>8</th>\n      <td>Regula</td>\n      <td>40</td>\n    </tr>\n    <tr>\n      <th>9</th>\n      <td>Allen Halloween</td>\n      <td>37</td>\n    </tr>\n    <tr>\n      <th>10</th>\n      <td>Dealema</td>\n      <td>37</td>\n    </tr>\n    <tr>\n      <th>11</th>\n      <td>LON3R JOHNY</td>\n      <td>36</td>\n    </tr>\n    <tr>\n      <th>12</th>\n      <td>Da Weasel</td>\n      <td>35</td>\n    </tr>\n    <tr>\n      <th>13</th>\n      <td>NGA</td>\n      <td>34</td>\n    </tr>\n    <tr>\n      <th>14</th>\n      <td>Dillaz</td>\n      <td>34</td>\n    </tr>\n    <tr>\n      <th>15</th>\n      <td>Piruka</td>\n      <td>30</td>\n    </tr>\n    <tr>\n      <th>16</th>\n      <td>GROGNation</td>\n      <td>30</td>\n    </tr>\n    <tr>\n      <th>17</th>\n      <td>Alcool Club</td>\n      <td>29</td>\n    </tr>\n    <tr>\n      <th>18</th>\n      <td>Wet Bed Gang</td>\n      <td>26</td>\n    </tr>\n    <tr>\n      <th>19</th>\n      <td>Agir</td>\n      <td>26</td>\n    </tr>\n    <tr>\n      <th>20</th>\n      <td>Slow J</td>\n      <td>25</td>\n    </tr>\n    <tr>\n      <th>21</th>\n      <td>Conjunto Corona</td>\n      <td>25</td>\n    </tr>\n    <tr>\n      <th>22</th>\n      <td>Keso</td>\n      <td>23</td>\n    </tr>\n    <tr>\n      <th>23</th>\n      <td>Mike El Nite</td>\n      <td>21</td>\n    </tr>\n    <tr>\n      <th>24</th>\n      <td>Plutonio</td>\n      <td>21</td>\n    </tr>\n    <tr>\n      <th>25</th>\n      <td>Kappa Jotta</td>\n      <td>19</td>\n    </tr>\n    <tr>\n      <th>26</th>\n      <td>X-Tense</td>\n      <td>17</td>\n    </tr>\n    <tr>\n      <th>27</th>\n      <td>Força Suprema</td>\n      <td>16</td>\n    </tr>\n    <tr>\n      <th>28</th>\n      <td>Sir Scratch (PRT)</td>\n      <td>16</td>\n    </tr>\n    <tr>\n      <th>29</th>\n      <td>Papillon</td>\n      <td>16</td>\n    </tr>\n    <tr>\n      <th>30</th>\n      <td>Carlão (PacMan)</td>\n      <td>15</td>\n    </tr>\n    <tr>\n      <th>31</th>\n      <td>Cálculo</td>\n      <td>14</td>\n    </tr>\n    <tr>\n      <th>32</th>\n      <td>Chico da Tina</td>\n      <td>14</td>\n    </tr>\n    <tr>\n      <th>33</th>\n      <td>Estraca</td>\n      <td>13</td>\n    </tr>\n    <tr>\n      <th>34</th>\n      <td>9 Miller</td>\n      <td>12</td>\n    </tr>\n    <tr>\n      <th>35</th>\n      <td>Waze</td>\n      <td>12</td>\n    </tr>\n    <tr>\n      <th>36</th>\n      <td>Valas</td>\n      <td>12</td>\n    </tr>\n    <tr>\n      <th>37</th>\n      <td>Fínix MG</td>\n      <td>12</td>\n    </tr>\n    <tr>\n      <th>38</th>\n      <td>Holly Hood</td>\n      <td>11</td>\n    </tr>\n    <tr>\n      <th>39</th>\n      <td>SippinPurpp</td>\n      <td>10</td>\n    </tr>\n    <tr>\n      <th>40</th>\n      <td>Classe Crua</td>\n      <td>10</td>\n    </tr>\n  </tbody>\n</table>\n</div>"
     },
     "metadata": {},
     "execution_count": 20
    }
   ],
   "source": [
    "vc = artist_word_unique.Artist.value_counts()\n",
    "vc = vc.reset_index()\n",
    "vc.rename(columns={'Artist':'Number of Songs', 'index': 'Artist'}, inplace=True)\n",
    "vc"
   ]
  },
  {
   "cell_type": "code",
   "execution_count": 21,
   "metadata": {},
   "outputs": [
    {
     "output_type": "error",
     "ename": "KeyError",
     "evalue": "'Pontuação total de misoginia'",
     "traceback": [
      "\u001b[0;31m---------------------------------------------------------------------------\u001b[0m",
      "\u001b[0;31mKeyError\u001b[0m                                  Traceback (most recent call last)",
      "\u001b[0;32m~/anaconda3/lib/python3.7/site-packages/pandas/core/indexes/base.py\u001b[0m in \u001b[0;36mget_loc\u001b[0;34m(self, key, method, tolerance)\u001b[0m\n\u001b[1;32m   2894\u001b[0m             \u001b[0;32mtry\u001b[0m\u001b[0;34m:\u001b[0m\u001b[0;34m\u001b[0m\u001b[0;34m\u001b[0m\u001b[0m\n\u001b[0;32m-> 2895\u001b[0;31m                 \u001b[0;32mreturn\u001b[0m \u001b[0mself\u001b[0m\u001b[0;34m.\u001b[0m\u001b[0m_engine\u001b[0m\u001b[0;34m.\u001b[0m\u001b[0mget_loc\u001b[0m\u001b[0;34m(\u001b[0m\u001b[0mcasted_key\u001b[0m\u001b[0;34m)\u001b[0m\u001b[0;34m\u001b[0m\u001b[0;34m\u001b[0m\u001b[0m\n\u001b[0m\u001b[1;32m   2896\u001b[0m             \u001b[0;32mexcept\u001b[0m \u001b[0mKeyError\u001b[0m \u001b[0;32mas\u001b[0m \u001b[0merr\u001b[0m\u001b[0;34m:\u001b[0m\u001b[0;34m\u001b[0m\u001b[0;34m\u001b[0m\u001b[0m\n",
      "\u001b[0;32mpandas/_libs/index.pyx\u001b[0m in \u001b[0;36mpandas._libs.index.IndexEngine.get_loc\u001b[0;34m()\u001b[0m\n",
      "\u001b[0;32mpandas/_libs/index.pyx\u001b[0m in \u001b[0;36mpandas._libs.index.IndexEngine.get_loc\u001b[0;34m()\u001b[0m\n",
      "\u001b[0;32mpandas/_libs/hashtable_class_helper.pxi\u001b[0m in \u001b[0;36mpandas._libs.hashtable.PyObjectHashTable.get_item\u001b[0;34m()\u001b[0m\n",
      "\u001b[0;32mpandas/_libs/hashtable_class_helper.pxi\u001b[0m in \u001b[0;36mpandas._libs.hashtable.PyObjectHashTable.get_item\u001b[0;34m()\u001b[0m\n",
      "\u001b[0;31mKeyError\u001b[0m: 'Pontuação total de misoginia'",
      "\nThe above exception was the direct cause of the following exception:\n",
      "\u001b[0;31mKeyError\u001b[0m                                  Traceback (most recent call last)",
      "\u001b[0;32m<ipython-input-21-5afdd3bb87ba>\u001b[0m in \u001b[0;36m<module>\u001b[0;34m\u001b[0m\n\u001b[1;32m     14\u001b[0m \u001b[0mreal_unique\u001b[0m\u001b[0;34m.\u001b[0m\u001b[0mrename\u001b[0m\u001b[0;34m(\u001b[0m\u001b[0mcolumns\u001b[0m\u001b[0;34m=\u001b[0m\u001b[0;34m{\u001b[0m\u001b[0;34m'Artist'\u001b[0m\u001b[0;34m:\u001b[0m \u001b[0;34m'Artista'\u001b[0m\u001b[0;34m,\u001b[0m \u001b[0;34m\"Number of Songs\"\u001b[0m\u001b[0;34m:\u001b[0m \u001b[0;34m'Nº de Canções'\u001b[0m\u001b[0;34m}\u001b[0m\u001b[0;34m,\u001b[0m \u001b[0minplace\u001b[0m \u001b[0;34m=\u001b[0m \u001b[0;32mTrue\u001b[0m\u001b[0;34m)\u001b[0m\u001b[0;34m\u001b[0m\u001b[0;34m\u001b[0m\u001b[0m\n\u001b[1;32m     15\u001b[0m \u001b[0mfinal_score\u001b[0m \u001b[0;34m=\u001b[0m \u001b[0mreal_unique\u001b[0m\u001b[0;34m.\u001b[0m\u001b[0mmerge\u001b[0m\u001b[0;34m(\u001b[0m\u001b[0mmisogyny_score_chart\u001b[0m\u001b[0;34m,\u001b[0m \u001b[0mhow\u001b[0m\u001b[0;34m=\u001b[0m\u001b[0;34m\"left\"\u001b[0m\u001b[0;34m,\u001b[0m \u001b[0mon\u001b[0m\u001b[0;34m=\u001b[0m\u001b[0;34m\"Artista\"\u001b[0m\u001b[0;34m)\u001b[0m\u001b[0;34m\u001b[0m\u001b[0;34m\u001b[0m\u001b[0m\n\u001b[0;32m---> 16\u001b[0;31m \u001b[0mfinal_score\u001b[0m\u001b[0;34m[\u001b[0m\u001b[0;34m\"Pontuação Final de Misoginia/Nº palavras\"\u001b[0m\u001b[0;34m]\u001b[0m \u001b[0;34m=\u001b[0m \u001b[0mfinal_score\u001b[0m\u001b[0;34m[\u001b[0m\u001b[0;34m\"Pontuação total de misoginia\"\u001b[0m\u001b[0;34m]\u001b[0m \u001b[0;34m/\u001b[0m \u001b[0mfinal_score\u001b[0m\u001b[0;34m[\u001b[0m\u001b[0;34m\"Palavras únicas\"\u001b[0m\u001b[0;34m]\u001b[0m\u001b[0;34m\u001b[0m\u001b[0;34m\u001b[0m\u001b[0m\n\u001b[0m\u001b[1;32m     17\u001b[0m \u001b[0mfinal_score\u001b[0m\u001b[0;34m[\u001b[0m\u001b[0;34m\"Pontuação Final de Misoginia/Canção\"\u001b[0m\u001b[0;34m]\u001b[0m \u001b[0;34m=\u001b[0m \u001b[0mfinal_score\u001b[0m\u001b[0;34m[\u001b[0m\u001b[0;34m\"Pontuação total de misoginia\"\u001b[0m\u001b[0;34m]\u001b[0m \u001b[0;34m/\u001b[0m \u001b[0mfinal_score\u001b[0m\u001b[0;34m[\u001b[0m\u001b[0;34m\"Nº de Canções\"\u001b[0m\u001b[0;34m]\u001b[0m\u001b[0;34m\u001b[0m\u001b[0;34m\u001b[0m\u001b[0m\n",
      "\u001b[0;32m~/anaconda3/lib/python3.7/site-packages/pandas/core/frame.py\u001b[0m in \u001b[0;36m__getitem__\u001b[0;34m(self, key)\u001b[0m\n\u001b[1;32m   2900\u001b[0m             \u001b[0;32mif\u001b[0m \u001b[0mself\u001b[0m\u001b[0;34m.\u001b[0m\u001b[0mcolumns\u001b[0m\u001b[0;34m.\u001b[0m\u001b[0mnlevels\u001b[0m \u001b[0;34m>\u001b[0m \u001b[0;36m1\u001b[0m\u001b[0;34m:\u001b[0m\u001b[0;34m\u001b[0m\u001b[0;34m\u001b[0m\u001b[0m\n\u001b[1;32m   2901\u001b[0m                 \u001b[0;32mreturn\u001b[0m \u001b[0mself\u001b[0m\u001b[0;34m.\u001b[0m\u001b[0m_getitem_multilevel\u001b[0m\u001b[0;34m(\u001b[0m\u001b[0mkey\u001b[0m\u001b[0;34m)\u001b[0m\u001b[0;34m\u001b[0m\u001b[0;34m\u001b[0m\u001b[0m\n\u001b[0;32m-> 2902\u001b[0;31m             \u001b[0mindexer\u001b[0m \u001b[0;34m=\u001b[0m \u001b[0mself\u001b[0m\u001b[0;34m.\u001b[0m\u001b[0mcolumns\u001b[0m\u001b[0;34m.\u001b[0m\u001b[0mget_loc\u001b[0m\u001b[0;34m(\u001b[0m\u001b[0mkey\u001b[0m\u001b[0;34m)\u001b[0m\u001b[0;34m\u001b[0m\u001b[0;34m\u001b[0m\u001b[0m\n\u001b[0m\u001b[1;32m   2903\u001b[0m             \u001b[0;32mif\u001b[0m \u001b[0mis_integer\u001b[0m\u001b[0;34m(\u001b[0m\u001b[0mindexer\u001b[0m\u001b[0;34m)\u001b[0m\u001b[0;34m:\u001b[0m\u001b[0;34m\u001b[0m\u001b[0;34m\u001b[0m\u001b[0m\n\u001b[1;32m   2904\u001b[0m                 \u001b[0mindexer\u001b[0m \u001b[0;34m=\u001b[0m \u001b[0;34m[\u001b[0m\u001b[0mindexer\u001b[0m\u001b[0;34m]\u001b[0m\u001b[0;34m\u001b[0m\u001b[0;34m\u001b[0m\u001b[0m\n",
      "\u001b[0;32m~/anaconda3/lib/python3.7/site-packages/pandas/core/indexes/base.py\u001b[0m in \u001b[0;36mget_loc\u001b[0;34m(self, key, method, tolerance)\u001b[0m\n\u001b[1;32m   2895\u001b[0m                 \u001b[0;32mreturn\u001b[0m \u001b[0mself\u001b[0m\u001b[0;34m.\u001b[0m\u001b[0m_engine\u001b[0m\u001b[0;34m.\u001b[0m\u001b[0mget_loc\u001b[0m\u001b[0;34m(\u001b[0m\u001b[0mcasted_key\u001b[0m\u001b[0;34m)\u001b[0m\u001b[0;34m\u001b[0m\u001b[0;34m\u001b[0m\u001b[0m\n\u001b[1;32m   2896\u001b[0m             \u001b[0;32mexcept\u001b[0m \u001b[0mKeyError\u001b[0m \u001b[0;32mas\u001b[0m \u001b[0merr\u001b[0m\u001b[0;34m:\u001b[0m\u001b[0;34m\u001b[0m\u001b[0;34m\u001b[0m\u001b[0m\n\u001b[0;32m-> 2897\u001b[0;31m                 \u001b[0;32mraise\u001b[0m \u001b[0mKeyError\u001b[0m\u001b[0;34m(\u001b[0m\u001b[0mkey\u001b[0m\u001b[0;34m)\u001b[0m \u001b[0;32mfrom\u001b[0m \u001b[0merr\u001b[0m\u001b[0;34m\u001b[0m\u001b[0;34m\u001b[0m\u001b[0m\n\u001b[0m\u001b[1;32m   2898\u001b[0m \u001b[0;34m\u001b[0m\u001b[0m\n\u001b[1;32m   2899\u001b[0m         \u001b[0;32mif\u001b[0m \u001b[0mtolerance\u001b[0m \u001b[0;32mis\u001b[0m \u001b[0;32mnot\u001b[0m \u001b[0;32mNone\u001b[0m\u001b[0;34m:\u001b[0m\u001b[0;34m\u001b[0m\u001b[0;34m\u001b[0m\u001b[0m\n",
      "\u001b[0;31mKeyError\u001b[0m: 'Pontuação total de misoginia'"
     ]
    }
   ],
   "source": [
    "#describing unique words by artist\n",
    "\n",
    "def myfunc(x):\n",
    "    s = [element for element in x]\n",
    "    return \" \".join(s)\n",
    "\n",
    "df_perfect = artist_word_unique.groupby(\"Artist\").agg({\"Lyrics\": lambda x: myfunc(x)})\n",
    "\n",
    "real_unique = df_perfect.Lyrics.apply(lambda x: len(set([i.strip() for i in x.split(\" \") if i != \"\"])))\n",
    "real_unique = real_unique.reset_index()\n",
    "real_unique.rename(columns={'Lyrics':'Palavras únicas'}, inplace=True)\n",
    "real_unique = real_unique.merge(vc, how=\"left\", on=\"Artist\")\n",
    "real_unique[\"ratio_unique\"] = real_unique[\"Palavras únicas\"] / real_unique[\"Number of Songs\"]\n",
    "real_unique.rename(columns={'Artist': 'Artista', \"Number of Songs\": 'Nº de Canções'}, inplace = True)\n",
    "final_score = real_unique.merge(misogyny_score_chart, how=\"left\", on=\"Artista\")\n",
    "final_score[\"Pontuação Final de Misoginia/Nº palavras\"] = final_score[\"Pontuação total de misoginia\"] / final_score[\"Palavras únicas\"]\n",
    "final_score[\"Pontuação Final de Misoginia/Canção\"] = final_score[\"Pontuação total de misoginia\"] / final_score[\"Nº de Canções\"]"
   ]
  },
  {
   "cell_type": "code",
   "execution_count": 104,
   "metadata": {},
   "outputs": [],
   "source": [
    "final_score.sort_values(by=\"Pontuação Final de Misoginia/Canção\", ascending = False)\n",
    "final_score.to_csv(\"classificação_final.csv\")"
   ]
  },
  {
   "cell_type": "code",
   "execution_count": 105,
   "metadata": {},
   "outputs": [
    {
     "output_type": "execute_result",
     "data": {
      "text/plain": [
       "       artist_name               title               album featured_artists  \\\n",
       "0     Mike El Nite       Só badalhocas    Vaporetto Titano     ['Da Chick']   \n",
       "1     Mike El Nite            T.U.G.A.        O Justiceiro               []   \n",
       "2     Mike El Nite         Santa Maria        O Justiceiro               []   \n",
       "3     Mike El Nite             Funeral                 ---        ['Nerve']   \n",
       "4     Mike El Nite         Caixa Negra        Inter-Missão    ['J-K (Rap)']   \n",
       "...            ...                 ...                 ...              ...   \n",
       "1142       Jimmy P            Na Na Na  Momento da Verdade    ['Celso OPP']   \n",
       "1143       Jimmy P  Fonte da Juventude                  #1               []   \n",
       "1144       Jimmy P           Um Brinde        FVMILY F1RST               []   \n",
       "1145       Jimmy P               A Luz        FVMILY F1RST               []   \n",
       "1146       Jimmy P       Irmãos de Voz        FVMILY F1RST         ['Jepe']   \n",
       "\n",
       "                                                 lyrics       date  \\\n",
       "0      mike el nite só badalhocas nesta festa como é... 2016-01-01   \n",
       "1     hey vive a vida como uma festa sob o vento da ... 2016-04-22   \n",
       "2     tu és loucura és o meu prazer uma aventura que... 2016-04-22   \n",
       "3     é foi um foi um bom ano verdade mas isso não c... 2017-01-13   \n",
       "4     chamavamme desajeitado por não pintar dentro d... 2018-12-07   \n",
       "...                                                 ...        ...   \n",
       "1142  eu não tou pronto para um revés sou apenas mai...        NaT   \n",
       "1143  nunca há de haver ninguém que me ensine quem e...        NaT   \n",
       "1144  hoje eu faço um brinde a nós de tudo o que a v... 2015-02-20   \n",
       "1145  aqui ninguém derruba o que deus abençoou não o... 2015-02-26   \n",
       "1146  a pouca gente que eu sigo muitos me chamam de ... 2015-02-20   \n",
       "\n",
       "                                                    url  lyrics_len  \\\n",
       "0     https://genius.com/Mike-el-nite-so-badalhocas-...        2735   \n",
       "1           https://genius.com/Mike-el-nite-tuga-lyrics        2628   \n",
       "2     https://genius.com/Mike-el-nite-santa-maria-ly...        3079   \n",
       "3        https://genius.com/Mike-el-nite-funeral-lyrics        2850   \n",
       "4     https://genius.com/Mike-el-nite-caixa-negra-ly...        2789   \n",
       "...                                                 ...         ...   \n",
       "1142         https://genius.com/Jimmy-p-na-na-na-lyrics        1491   \n",
       "1143  https://genius.com/Jimmy-p-fonte-da-juventude-...        1945   \n",
       "1144        https://genius.com/Jimmy-p-um-brinde-lyrics        1232   \n",
       "1145            https://genius.com/Jimmy-p-a-luz-lyrics        2491   \n",
       "1146    https://genius.com/Jimmy-p-irmaos-de-voz-lyrics        2379   \n",
       "\n",
       "                                           no_stopwords  \\\n",
       "0      mike el nite badalhocas nesta festa deixaram ...   \n",
       "1     hey vive vida festa sob vento floresta adoro r...   \n",
       "2     és loucura és prazer aventura querer quero ter...   \n",
       "3     bom ano verdade chega nope vida presta  faço c...   \n",
       "4     chamavamme desajeitado pintar dentro margem qu...   \n",
       "...                                                 ...   \n",
       "1142  tou pronto revés apenas jovem procura ter mund...   \n",
       "1143  nunca haver ninguém ensine passei sofri demais...   \n",
       "1144  hoje faço brinde tudo vida deu ontem primavera...   \n",
       "1145  aqui ninguém derruba deus abençoou oh todos ve...   \n",
       "1146  pouca gente sigo muitos chamam irmão poucos sa...   \n",
       "\n",
       "                                                 tokens  \\\n",
       "0     [mike, el, nite, badalhocas, nesta, festa, dei...   \n",
       "1     [hey, vive, vida, festa, sob, vento, floresta,...   \n",
       "2     [és, loucura, és, prazer, aventura, querer, qu...   \n",
       "3     [bom, ano, verdade, chega, nope, vida, presta,...   \n",
       "4     [chamavamme, desajeitado, pintar, dentro, marg...   \n",
       "...                                                 ...   \n",
       "1142  [tou, pronto, revés, apenas, jovem, procura, t...   \n",
       "1143  [nunca, haver, ninguém, ensine, passei, sofri,...   \n",
       "1144  [hoje, faço, brinde, tudo, vida, deu, ontem, p...   \n",
       "1145  [aqui, ninguém, derruba, deus, abençoou, oh, t...   \n",
       "1146  [pouca, gente, sigo, muitos, chamam, irmão, po...   \n",
       "\n",
       "                                                 swears  score  \\\n",
       "0          [puta, foder, vaca, cu, puta, rabo, putaria]     19   \n",
       "1                                  [gato, tipo, mágico]      3   \n",
       "2     [cabra, oferecida, merda, tipo, tipo, tipo, tipo]     11   \n",
       "3                              [puto, puto, puta, tipo]      8   \n",
       "4           [vale, tipo, merda, tipo, mano, tipo, tipo]     10   \n",
       "...                                                 ...    ...   \n",
       "1142                                                 []      0   \n",
       "1143                                       [vale, vale]      4   \n",
       "1144                                             [puto]      2   \n",
       "1145                                                 []      0   \n",
       "1146                                      [vale, merda]      5   \n",
       "\n",
       "     misogynistic_swears  misogynistic_score  \n",
       "0     [puta, vaca, puta]                   8  \n",
       "1                     []                   0  \n",
       "2     [cabra, oferecida]                   4  \n",
       "3                 [puta]                   3  \n",
       "4                     []                   0  \n",
       "...                  ...                 ...  \n",
       "1142                  []                   0  \n",
       "1143                  []                   0  \n",
       "1144                  []                   0  \n",
       "1145                  []                   0  \n",
       "1146                  []                   0  \n",
       "\n",
       "[1127 rows x 14 columns]"
      ],
      "text/html": "<div>\n<style scoped>\n    .dataframe tbody tr th:only-of-type {\n        vertical-align: middle;\n    }\n\n    .dataframe tbody tr th {\n        vertical-align: top;\n    }\n\n    .dataframe thead th {\n        text-align: right;\n    }\n</style>\n<table border=\"1\" class=\"dataframe\">\n  <thead>\n    <tr style=\"text-align: right;\">\n      <th></th>\n      <th>artist_name</th>\n      <th>title</th>\n      <th>album</th>\n      <th>featured_artists</th>\n      <th>lyrics</th>\n      <th>date</th>\n      <th>url</th>\n      <th>lyrics_len</th>\n      <th>no_stopwords</th>\n      <th>tokens</th>\n      <th>swears</th>\n      <th>score</th>\n      <th>misogynistic_swears</th>\n      <th>misogynistic_score</th>\n    </tr>\n  </thead>\n  <tbody>\n    <tr>\n      <th>0</th>\n      <td>Mike El Nite</td>\n      <td>Só badalhocas</td>\n      <td>Vaporetto Titano</td>\n      <td>['Da Chick']</td>\n      <td>mike el nite só badalhocas nesta festa como é...</td>\n      <td>2016-01-01</td>\n      <td>https://genius.com/Mike-el-nite-so-badalhocas-...</td>\n      <td>2735</td>\n      <td>mike el nite badalhocas nesta festa deixaram ...</td>\n      <td>[mike, el, nite, badalhocas, nesta, festa, dei...</td>\n      <td>[puta, foder, vaca, cu, puta, rabo, putaria]</td>\n      <td>19</td>\n      <td>[puta, vaca, puta]</td>\n      <td>8</td>\n    </tr>\n    <tr>\n      <th>1</th>\n      <td>Mike El Nite</td>\n      <td>T.U.G.A.</td>\n      <td>O Justiceiro</td>\n      <td>[]</td>\n      <td>hey vive a vida como uma festa sob o vento da ...</td>\n      <td>2016-04-22</td>\n      <td>https://genius.com/Mike-el-nite-tuga-lyrics</td>\n      <td>2628</td>\n      <td>hey vive vida festa sob vento floresta adoro r...</td>\n      <td>[hey, vive, vida, festa, sob, vento, floresta,...</td>\n      <td>[gato, tipo, mágico]</td>\n      <td>3</td>\n      <td>[]</td>\n      <td>0</td>\n    </tr>\n    <tr>\n      <th>2</th>\n      <td>Mike El Nite</td>\n      <td>Santa Maria</td>\n      <td>O Justiceiro</td>\n      <td>[]</td>\n      <td>tu és loucura és o meu prazer uma aventura que...</td>\n      <td>2016-04-22</td>\n      <td>https://genius.com/Mike-el-nite-santa-maria-ly...</td>\n      <td>3079</td>\n      <td>és loucura és prazer aventura querer quero ter...</td>\n      <td>[és, loucura, és, prazer, aventura, querer, qu...</td>\n      <td>[cabra, oferecida, merda, tipo, tipo, tipo, tipo]</td>\n      <td>11</td>\n      <td>[cabra, oferecida]</td>\n      <td>4</td>\n    </tr>\n    <tr>\n      <th>3</th>\n      <td>Mike El Nite</td>\n      <td>Funeral</td>\n      <td>---</td>\n      <td>['Nerve']</td>\n      <td>é foi um foi um bom ano verdade mas isso não c...</td>\n      <td>2017-01-13</td>\n      <td>https://genius.com/Mike-el-nite-funeral-lyrics</td>\n      <td>2850</td>\n      <td>bom ano verdade chega nope vida presta  faço c...</td>\n      <td>[bom, ano, verdade, chega, nope, vida, presta,...</td>\n      <td>[puto, puto, puta, tipo]</td>\n      <td>8</td>\n      <td>[puta]</td>\n      <td>3</td>\n    </tr>\n    <tr>\n      <th>4</th>\n      <td>Mike El Nite</td>\n      <td>Caixa Negra</td>\n      <td>Inter-Missão</td>\n      <td>['J-K (Rap)']</td>\n      <td>chamavamme desajeitado por não pintar dentro d...</td>\n      <td>2018-12-07</td>\n      <td>https://genius.com/Mike-el-nite-caixa-negra-ly...</td>\n      <td>2789</td>\n      <td>chamavamme desajeitado pintar dentro margem qu...</td>\n      <td>[chamavamme, desajeitado, pintar, dentro, marg...</td>\n      <td>[vale, tipo, merda, tipo, mano, tipo, tipo]</td>\n      <td>10</td>\n      <td>[]</td>\n      <td>0</td>\n    </tr>\n    <tr>\n      <th>...</th>\n      <td>...</td>\n      <td>...</td>\n      <td>...</td>\n      <td>...</td>\n      <td>...</td>\n      <td>...</td>\n      <td>...</td>\n      <td>...</td>\n      <td>...</td>\n      <td>...</td>\n      <td>...</td>\n      <td>...</td>\n      <td>...</td>\n      <td>...</td>\n    </tr>\n    <tr>\n      <th>1142</th>\n      <td>Jimmy P</td>\n      <td>Na Na Na</td>\n      <td>Momento da Verdade</td>\n      <td>['Celso OPP']</td>\n      <td>eu não tou pronto para um revés sou apenas mai...</td>\n      <td>NaT</td>\n      <td>https://genius.com/Jimmy-p-na-na-na-lyrics</td>\n      <td>1491</td>\n      <td>tou pronto revés apenas jovem procura ter mund...</td>\n      <td>[tou, pronto, revés, apenas, jovem, procura, t...</td>\n      <td>[]</td>\n      <td>0</td>\n      <td>[]</td>\n      <td>0</td>\n    </tr>\n    <tr>\n      <th>1143</th>\n      <td>Jimmy P</td>\n      <td>Fonte da Juventude</td>\n      <td>#1</td>\n      <td>[]</td>\n      <td>nunca há de haver ninguém que me ensine quem e...</td>\n      <td>NaT</td>\n      <td>https://genius.com/Jimmy-p-fonte-da-juventude-...</td>\n      <td>1945</td>\n      <td>nunca haver ninguém ensine passei sofri demais...</td>\n      <td>[nunca, haver, ninguém, ensine, passei, sofri,...</td>\n      <td>[vale, vale]</td>\n      <td>4</td>\n      <td>[]</td>\n      <td>0</td>\n    </tr>\n    <tr>\n      <th>1144</th>\n      <td>Jimmy P</td>\n      <td>Um Brinde</td>\n      <td>FVMILY F1RST</td>\n      <td>[]</td>\n      <td>hoje eu faço um brinde a nós de tudo o que a v...</td>\n      <td>2015-02-20</td>\n      <td>https://genius.com/Jimmy-p-um-brinde-lyrics</td>\n      <td>1232</td>\n      <td>hoje faço brinde tudo vida deu ontem primavera...</td>\n      <td>[hoje, faço, brinde, tudo, vida, deu, ontem, p...</td>\n      <td>[puto]</td>\n      <td>2</td>\n      <td>[]</td>\n      <td>0</td>\n    </tr>\n    <tr>\n      <th>1145</th>\n      <td>Jimmy P</td>\n      <td>A Luz</td>\n      <td>FVMILY F1RST</td>\n      <td>[]</td>\n      <td>aqui ninguém derruba o que deus abençoou não o...</td>\n      <td>2015-02-26</td>\n      <td>https://genius.com/Jimmy-p-a-luz-lyrics</td>\n      <td>2491</td>\n      <td>aqui ninguém derruba deus abençoou oh todos ve...</td>\n      <td>[aqui, ninguém, derruba, deus, abençoou, oh, t...</td>\n      <td>[]</td>\n      <td>0</td>\n      <td>[]</td>\n      <td>0</td>\n    </tr>\n    <tr>\n      <th>1146</th>\n      <td>Jimmy P</td>\n      <td>Irmãos de Voz</td>\n      <td>FVMILY F1RST</td>\n      <td>['Jepe']</td>\n      <td>a pouca gente que eu sigo muitos me chamam de ...</td>\n      <td>2015-02-20</td>\n      <td>https://genius.com/Jimmy-p-irmaos-de-voz-lyrics</td>\n      <td>2379</td>\n      <td>pouca gente sigo muitos chamam irmão poucos sa...</td>\n      <td>[pouca, gente, sigo, muitos, chamam, irmão, po...</td>\n      <td>[vale, merda]</td>\n      <td>5</td>\n      <td>[]</td>\n      <td>0</td>\n    </tr>\n  </tbody>\n</table>\n<p>1127 rows × 14 columns</p>\n</div>"
     },
     "metadata": {},
     "execution_count": 105
    }
   ],
   "source": [
    "dataset"
   ]
  },
  {
   "cell_type": "code",
   "execution_count": 106,
   "metadata": {},
   "outputs": [],
   "source": [
    "#palavras misóginas mais comuns\n",
    "\n",
    "misogynistic_words = list(dicionario_misoginia[\"term\"])\n",
    "\n",
    "def increase_word_count(dictionary, word):\n",
    "    dictionary[word] = (dictionary.get(word) or 0) + 1\n",
    "\n",
    "misogynistic_term_counts = {}\n",
    "\n",
    "misogynistic_swears = dataset[\"misogynistic_swears\"]\n",
    "\n",
    "all_misogynistic_swears_list = [token for token_list in misogynistic_swears for token in token_list]\n",
    "\n",
    "for word in all_misogynistic_swears_list:\n",
    "    increase_word_count(misogynistic_term_counts, word)\n",
    "\n",
    "misogynistic_term_counts = pd.DataFrame.from_dict(misogynistic_term_counts, orient=\"index\")\n",
    "#misogynistic_term_counts.to_csv(\"contagem_palavras_misoginas.csv\")"
   ]
  },
  {
   "cell_type": "code",
   "execution_count": 22,
   "metadata": {},
   "outputs": [
    {
     "output_type": "error",
     "ename": "NameError",
     "evalue": "name 'misogynistic_term_counts' is not defined",
     "traceback": [
      "\u001b[0;31m---------------------------------------------------------------------------\u001b[0m",
      "\u001b[0;31mNameError\u001b[0m                                 Traceback (most recent call last)",
      "\u001b[0;32m<ipython-input-22-76eeb9cf0911>\u001b[0m in \u001b[0;36m<module>\u001b[0;34m\u001b[0m\n\u001b[1;32m     17\u001b[0m \u001b[0mswear_term_counts\u001b[0m \u001b[0;34m=\u001b[0m \u001b[0mpd\u001b[0m\u001b[0;34m.\u001b[0m\u001b[0mDataFrame\u001b[0m\u001b[0;34m.\u001b[0m\u001b[0mfrom_dict\u001b[0m\u001b[0;34m(\u001b[0m\u001b[0mswear_term_counts\u001b[0m\u001b[0;34m,\u001b[0m \u001b[0morient\u001b[0m\u001b[0;34m=\u001b[0m\u001b[0;34m\"index\"\u001b[0m\u001b[0;34m)\u001b[0m\u001b[0;34m\u001b[0m\u001b[0;34m\u001b[0m\u001b[0m\n\u001b[1;32m     18\u001b[0m \u001b[0mswear_general_count\u001b[0m \u001b[0;34m=\u001b[0m \u001b[0mswear_term_counts\u001b[0m\u001b[0;34m.\u001b[0m\u001b[0mreset_index\u001b[0m\u001b[0;34m(\u001b[0m\u001b[0;34m)\u001b[0m\u001b[0;34m\u001b[0m\u001b[0;34m\u001b[0m\u001b[0m\n\u001b[0;32m---> 19\u001b[0;31m \u001b[0mmiso_general_count\u001b[0m \u001b[0;34m=\u001b[0m \u001b[0mmisogynistic_term_counts\u001b[0m\u001b[0;34m.\u001b[0m\u001b[0mreset_index\u001b[0m\u001b[0;34m(\u001b[0m\u001b[0;34m)\u001b[0m\u001b[0;34m\u001b[0m\u001b[0;34m\u001b[0m\u001b[0m\n\u001b[0m\u001b[1;32m     20\u001b[0m \u001b[0mswear_general_count\u001b[0m \u001b[0;34m=\u001b[0m \u001b[0mswear_general_count\u001b[0m\u001b[0;34m.\u001b[0m\u001b[0mmerge\u001b[0m\u001b[0;34m(\u001b[0m\u001b[0mmiso_general_count\u001b[0m\u001b[0;34m,\u001b[0m \u001b[0mhow\u001b[0m\u001b[0;34m=\u001b[0m\u001b[0;34m\"outer\"\u001b[0m\u001b[0;34m,\u001b[0m \u001b[0mon\u001b[0m\u001b[0;34m=\u001b[0m\u001b[0;34m\"index\"\u001b[0m\u001b[0;34m)\u001b[0m\u001b[0;34m\u001b[0m\u001b[0;34m\u001b[0m\u001b[0m\n\u001b[1;32m     21\u001b[0m \u001b[0;34m\u001b[0m\u001b[0m\n",
      "\u001b[0;31mNameError\u001b[0m: name 'misogynistic_term_counts' is not defined"
     ]
    }
   ],
   "source": [
    "# palavras em calão mais comuns\n",
    "\n",
    "swear_words = list(dicionario[\"term\"])\n",
    "\n",
    "def increase_word_count(dictionary, word):\n",
    "    dictionary[word] = (dictionary.get(word) or 0) + 1\n",
    "\n",
    "swear_term_counts = {}\n",
    "\n",
    "normal_swears = dataset[\"swears\"]\n",
    "\n",
    "all_swears_list = [token for token_list in normal_swears for token in token_list]\n",
    "\n",
    "for word in all_swears_list:\n",
    "    increase_word_count(swear_term_counts, word)\n",
    "\n",
    "swear_term_counts = pd.DataFrame.from_dict(swear_term_counts, orient=\"index\")\n",
    "swear_general_count = swear_term_counts.reset_index()\n",
    "miso_general_count = misogynistic_term_counts.reset_index()\n",
    "swear_general_count = swear_general_count.merge(miso_general_count, how=\"outer\", on=\"index\")\n",
    "\n",
    "swear_general_count.rename(columns={'index':'Palavra',\"0_x\": \"Calão\", \"0_y\": \"Calão misógino\" }, inplace=True)\n",
    "swear_general_count.to_csv(\"contagem_calão_todo.csv\")"
   ]
  },
  {
   "cell_type": "code",
   "execution_count": 43,
   "metadata": {},
   "outputs": [
    {
     "output_type": "error",
     "ename": "NameError",
     "evalue": "name 'swear_term_counts' is not defined",
     "traceback": [
      "\u001b[0;31m---------------------------------------------------------------------------\u001b[0m",
      "\u001b[0;31mNameError\u001b[0m                                 Traceback (most recent call last)",
      "\u001b[0;32m<ipython-input-43-3d7f4962d810>\u001b[0m in \u001b[0;36m<module>\u001b[0;34m\u001b[0m\n\u001b[0;32m----> 1\u001b[0;31m \u001b[0mswear_general_count\u001b[0m \u001b[0;34m=\u001b[0m \u001b[0mswear_term_counts\u001b[0m\u001b[0;34m.\u001b[0m\u001b[0mreset_index\u001b[0m\u001b[0;34m(\u001b[0m\u001b[0;34m)\u001b[0m\u001b[0;34m\u001b[0m\u001b[0;34m\u001b[0m\u001b[0m\n\u001b[0m\u001b[1;32m      2\u001b[0m \u001b[0mmiso_general_count\u001b[0m \u001b[0;34m=\u001b[0m \u001b[0mmisogynistic_term_counts\u001b[0m\u001b[0;34m.\u001b[0m\u001b[0mreset_index\u001b[0m\u001b[0;34m(\u001b[0m\u001b[0;34m)\u001b[0m\u001b[0;34m\u001b[0m\u001b[0;34m\u001b[0m\u001b[0m\n\u001b[1;32m      3\u001b[0m \u001b[0mswear_general_count\u001b[0m \u001b[0;34m=\u001b[0m \u001b[0mswear_general_count\u001b[0m\u001b[0;34m.\u001b[0m\u001b[0mmerge\u001b[0m\u001b[0;34m(\u001b[0m\u001b[0mmiso_general_count\u001b[0m\u001b[0;34m,\u001b[0m \u001b[0mhow\u001b[0m\u001b[0;34m=\u001b[0m\u001b[0;34m\"outer\"\u001b[0m\u001b[0;34m,\u001b[0m \u001b[0mon\u001b[0m\u001b[0;34m=\u001b[0m\u001b[0;34m\"index\"\u001b[0m\u001b[0;34m)\u001b[0m\u001b[0;34m\u001b[0m\u001b[0;34m\u001b[0m\u001b[0m\n\u001b[1;32m      4\u001b[0m \u001b[0;34m\u001b[0m\u001b[0m\n\u001b[1;32m      5\u001b[0m \u001b[0mswear_general_count\u001b[0m\u001b[0;34m.\u001b[0m\u001b[0mrename\u001b[0m\u001b[0;34m(\u001b[0m\u001b[0mcolumns\u001b[0m\u001b[0;34m=\u001b[0m\u001b[0;34m{\u001b[0m\u001b[0;34m'index'\u001b[0m\u001b[0;34m:\u001b[0m\u001b[0;34m'Palavra'\u001b[0m\u001b[0;34m,\u001b[0m\u001b[0;34m\"0_x\"\u001b[0m\u001b[0;34m:\u001b[0m \u001b[0;34m\"Calão\"\u001b[0m\u001b[0;34m,\u001b[0m \u001b[0;34m\"0_y\"\u001b[0m\u001b[0;34m:\u001b[0m \u001b[0;34m\"Calão misógino\"\u001b[0m \u001b[0;34m}\u001b[0m\u001b[0;34m,\u001b[0m \u001b[0minplace\u001b[0m\u001b[0;34m=\u001b[0m\u001b[0;32mTrue\u001b[0m\u001b[0;34m)\u001b[0m\u001b[0;34m\u001b[0m\u001b[0;34m\u001b[0m\u001b[0m\n",
      "\u001b[0;31mNameError\u001b[0m: name 'swear_term_counts' is not defined"
     ]
    }
   ],
   "source": []
  }
 ]
}