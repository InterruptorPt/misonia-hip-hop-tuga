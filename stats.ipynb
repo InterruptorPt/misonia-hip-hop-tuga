{
 "metadata": {
  "language_info": {
   "codemirror_mode": {
    "name": "ipython",
    "version": 3
   },
   "file_extension": ".py",
   "mimetype": "text/x-python",
   "name": "python",
   "nbconvert_exporter": "python",
   "pygments_lexer": "ipython3",
   "version": "3.7.7-final"
  },
  "orig_nbformat": 2,
  "kernelspec": {
   "name": "python37764bitbaseconda317a320067de44d78632809e320a2671",
   "display_name": "Python 3.7.7 64-bit ('base': conda)"
  }
 },
 "nbformat": 4,
 "nbformat_minor": 2,
 "cells": [
  {
   "cell_type": "code",
   "execution_count": 49,
   "metadata": {},
   "outputs": [],
   "source": [
    "import pandas as pd\n",
    "import numpy as np\n",
    "import matplotlib.pyplot as plt\n",
    "import seaborn as sns\n",
    "import tqdm\n",
    "import re\n",
    "import scipy.stats as st\n",
    "import nltk\n",
    "from nltk.corpus import stopwords\n",
    "from nltk.tokenize import word_tokenize"
   ]
  },
  {
   "cell_type": "code",
   "execution_count": 50,
   "metadata": {},
   "outputs": [
    {
     "output_type": "execute_result",
     "data": {
      "text/plain": [
       "<bound method DataFrame.info of       Unnamed: 0 artist_name                  title                    album  \\\n",
       "0              0      Slow J               Às Vezes  The Art Of Slowing Down   \n",
       "1              1      Slow J               Serenata  The Art Of Slowing Down   \n",
       "2              2      Slow J                 Comida  The Art Of Slowing Down   \n",
       "3              3      Slow J             Cristalina       The Free Food Tape   \n",
       "4              4      Slow J               Vida Boa  The Art Of Slowing Down   \n",
       "...          ...         ...                    ...                      ...   \n",
       "2107          82       Bispo  Intro (Passo a Passo)  Passo a Passo [Mixtape]   \n",
       "2108          83       Bispo                 Saldos  Passo a Passo [Mixtape]   \n",
       "2109          84       Bispo                 Por Aí  Passo a Passo [Mixtape]   \n",
       "2110          85       Bispo        Preto No Branco  Passo a Passo [Mixtape]   \n",
       "2111          86       Bispo               Sem Rumo       Recomeço [Mixtape]   \n",
       "\n",
       "                                                 lyrics       date  \\\n",
       "0     Às vezes dói mas eu escondo\\nDesde que eu apre... 2017-03-17   \n",
       "1                                                   NaN 2016-05-15   \n",
       "2     Eu 'tou tão longe da verdade pura, dura\\nÀ pro... 2015-12-31   \n",
       "3                                                   NaN 2015-11-19   \n",
       "4     Não quero uma boa vida, eu quero uma vida boa\\... 2016-05-27   \n",
       "...                                                 ...        ...   \n",
       "2107                                                NaN 2013-08-23   \n",
       "2108                                                NaN 2013-08-23   \n",
       "2109  Então qual é ó desaparecido?\\nJá à bués que um... 2013-08-23   \n",
       "2110                                                NaN 2013-08-23   \n",
       "2111                                                NaN 2012-06-30   \n",
       "\n",
       "                                                    url  \n",
       "0             https://genius.com/Slow-j-as-vezes-lyrics  \n",
       "1             https://genius.com/Slow-j-serenata-lyrics  \n",
       "2               https://genius.com/Slow-j-comida-lyrics  \n",
       "3           https://genius.com/Slow-j-cristalina-lyrics  \n",
       "4             https://genius.com/Slow-j-vida-boa-lyrics  \n",
       "...                                                 ...  \n",
       "2107  https://genius.com/Bispo-intro-passo-a-passo-a...  \n",
       "2108             https://genius.com/Bispo-saldos-lyrics  \n",
       "2109             https://genius.com/Bispo-por-ai-lyrics  \n",
       "2110    https://genius.com/Bispo-preto-no-branco-lyrics  \n",
       "2111           https://genius.com/Bispo-sem-rumo-lyrics  \n",
       "\n",
       "[2112 rows x 7 columns]>"
      ]
     },
     "metadata": {},
     "execution_count": 50
    }
   ],
   "source": [
    "dataset = pd.read_csv(\"teste.csv\", parse_dates=[\"date\"])\n",
    "dataset.info"
   ]
  },
  {
   "cell_type": "code",
   "execution_count": 51,
   "metadata": {},
   "outputs": [
    {
     "output_type": "execute_result",
     "data": {
      "text/plain": [
       "artist_name       0\n",
       "title             0\n",
       "album             0\n",
       "lyrics         1068\n",
       "date            556\n",
       "url               0\n",
       "dtype: int64"
      ]
     },
     "metadata": {},
     "execution_count": 51
    }
   ],
   "source": [
    "dataset.drop('Unnamed: 0', axis = 1, inplace = True)\n",
    "dataset.isna().sum()"
   ]
  },
  {
   "cell_type": "code",
   "execution_count": null,
   "metadata": {},
   "outputs": [],
   "source": []
  },
  {
   "cell_type": "code",
   "execution_count": 52,
   "metadata": {},
   "outputs": [],
   "source": [
    "dataset['lyrics'] = dataset['lyrics'].fillna(value='')\n",
    "\n",
    "def remove_punct(s):\n",
    "    new_lyr = re.sub(r'[^\\w\\s]', '', s).lower()\n",
    "    new_lyr = re.sub(r'[\\n]', ' ', new_lyr).lower()\n",
    "    return new_lyr\n",
    "\n",
    "dataset.lyrics = dataset.lyrics.apply(remove_punct)"
   ]
  },
  {
   "cell_type": "code",
   "execution_count": 53,
   "metadata": {},
   "outputs": [],
   "source": [
    "#lyrics length\n",
    "dataset[\"lyrics_len\"] = [len(x) for x in dataset[\"lyrics\"]]"
   ]
  },
  {
   "cell_type": "code",
   "execution_count": 54,
   "metadata": {},
   "outputs": [],
   "source": [
    "# remover stopwords\n",
    "\n",
    "stopwords_pt = nltk.corpus.stopwords.words('portuguese')\n",
    "stopwords_pt.append(\"porque\")\n",
    "dataset['no_stopwords'] = dataset.apply(lambda x : ' '.join([word for word in x['lyrics'].split(' ') if word not in stopwords_pt]), axis = 1)"
   ]
  },
  {
   "cell_type": "code",
   "execution_count": 55,
   "metadata": {},
   "outputs": [
    {
     "output_type": "execute_result",
     "data": {
      "text/plain": [
       "     artist_name                  title                    album  \\\n",
       "0         Slow J               Às Vezes  The Art Of Slowing Down   \n",
       "1         Slow J               Serenata  The Art Of Slowing Down   \n",
       "2         Slow J                 Comida  The Art Of Slowing Down   \n",
       "3         Slow J             Cristalina       The Free Food Tape   \n",
       "4         Slow J               Vida Boa  The Art Of Slowing Down   \n",
       "...          ...                    ...                      ...   \n",
       "2107       Bispo  Intro (Passo a Passo)  Passo a Passo [Mixtape]   \n",
       "2108       Bispo                 Saldos  Passo a Passo [Mixtape]   \n",
       "2109       Bispo                 Por Aí  Passo a Passo [Mixtape]   \n",
       "2110       Bispo        Preto No Branco  Passo a Passo [Mixtape]   \n",
       "2111       Bispo               Sem Rumo       Recomeço [Mixtape]   \n",
       "\n",
       "                                                 lyrics       date  \\\n",
       "0     às vezes dói mas eu escondo desde que eu apren... 2017-03-17   \n",
       "1                                                       2016-05-15   \n",
       "2     eu tou tão longe da verdade pura dura à procur... 2015-12-31   \n",
       "3                                                       2015-11-19   \n",
       "4     não quero uma boa vida eu quero uma vida boa n... 2016-05-27   \n",
       "...                                                 ...        ...   \n",
       "2107                                                    2013-08-23   \n",
       "2108                                                    2013-08-23   \n",
       "2109  então qual é ó desaparecido já à bués que um g... 2013-08-23   \n",
       "2110                                                    2013-08-23   \n",
       "2111                                                    2012-06-30   \n",
       "\n",
       "                                                    url  lyrics_len  \\\n",
       "0             https://genius.com/Slow-j-as-vezes-lyrics        2129   \n",
       "1             https://genius.com/Slow-j-serenata-lyrics           0   \n",
       "2               https://genius.com/Slow-j-comida-lyrics        4487   \n",
       "3           https://genius.com/Slow-j-cristalina-lyrics           0   \n",
       "4             https://genius.com/Slow-j-vida-boa-lyrics        1732   \n",
       "...                                                 ...         ...   \n",
       "2107  https://genius.com/Bispo-intro-passo-a-passo-a...           0   \n",
       "2108             https://genius.com/Bispo-saldos-lyrics           0   \n",
       "2109             https://genius.com/Bispo-por-ai-lyrics        1849   \n",
       "2110    https://genius.com/Bispo-preto-no-branco-lyrics           0   \n",
       "2111           https://genius.com/Bispo-sem-rumo-lyrics           0   \n",
       "\n",
       "                                           no_stopwords  \\\n",
       "0     vezes dói escondo desde aprendi homens fortes ...   \n",
       "1                                                         \n",
       "2     tou tão longe verdade pura dura procura sanida...   \n",
       "3                                                         \n",
       "4     quero boa vida quero vida boa nada sina diz es...   \n",
       "...                                                 ...   \n",
       "2107                                                      \n",
       "2108                                                      \n",
       "2109  então ó desaparecido bués gajo via então é man...   \n",
       "2110                                                      \n",
       "2111                                                      \n",
       "\n",
       "                                                 tokens  \n",
       "0     [vezes, dói, escondo, desde, aprendi, homens, ...  \n",
       "1                                                    []  \n",
       "2     [tou, tão, longe, verdade, pura, dura, procura...  \n",
       "3                                                    []  \n",
       "4     [quero, boa, vida, quero, vida, boa, nada, sin...  \n",
       "...                                                 ...  \n",
       "2107                                                 []  \n",
       "2108                                                 []  \n",
       "2109  [então, ó, desaparecido, bués, gajo, via, entã...  \n",
       "2110                                                 []  \n",
       "2111                                                 []  \n",
       "\n",
       "[2112 rows x 9 columns]"
      ],
      "text/html": "<div>\n<style scoped>\n    .dataframe tbody tr th:only-of-type {\n        vertical-align: middle;\n    }\n\n    .dataframe tbody tr th {\n        vertical-align: top;\n    }\n\n    .dataframe thead th {\n        text-align: right;\n    }\n</style>\n<table border=\"1\" class=\"dataframe\">\n  <thead>\n    <tr style=\"text-align: right;\">\n      <th></th>\n      <th>artist_name</th>\n      <th>title</th>\n      <th>album</th>\n      <th>lyrics</th>\n      <th>date</th>\n      <th>url</th>\n      <th>lyrics_len</th>\n      <th>no_stopwords</th>\n      <th>tokens</th>\n    </tr>\n  </thead>\n  <tbody>\n    <tr>\n      <th>0</th>\n      <td>Slow J</td>\n      <td>Às Vezes</td>\n      <td>The Art Of Slowing Down</td>\n      <td>às vezes dói mas eu escondo desde que eu apren...</td>\n      <td>2017-03-17</td>\n      <td>https://genius.com/Slow-j-as-vezes-lyrics</td>\n      <td>2129</td>\n      <td>vezes dói escondo desde aprendi homens fortes ...</td>\n      <td>[vezes, dói, escondo, desde, aprendi, homens, ...</td>\n    </tr>\n    <tr>\n      <th>1</th>\n      <td>Slow J</td>\n      <td>Serenata</td>\n      <td>The Art Of Slowing Down</td>\n      <td></td>\n      <td>2016-05-15</td>\n      <td>https://genius.com/Slow-j-serenata-lyrics</td>\n      <td>0</td>\n      <td></td>\n      <td>[]</td>\n    </tr>\n    <tr>\n      <th>2</th>\n      <td>Slow J</td>\n      <td>Comida</td>\n      <td>The Art Of Slowing Down</td>\n      <td>eu tou tão longe da verdade pura dura à procur...</td>\n      <td>2015-12-31</td>\n      <td>https://genius.com/Slow-j-comida-lyrics</td>\n      <td>4487</td>\n      <td>tou tão longe verdade pura dura procura sanida...</td>\n      <td>[tou, tão, longe, verdade, pura, dura, procura...</td>\n    </tr>\n    <tr>\n      <th>3</th>\n      <td>Slow J</td>\n      <td>Cristalina</td>\n      <td>The Free Food Tape</td>\n      <td></td>\n      <td>2015-11-19</td>\n      <td>https://genius.com/Slow-j-cristalina-lyrics</td>\n      <td>0</td>\n      <td></td>\n      <td>[]</td>\n    </tr>\n    <tr>\n      <th>4</th>\n      <td>Slow J</td>\n      <td>Vida Boa</td>\n      <td>The Art Of Slowing Down</td>\n      <td>não quero uma boa vida eu quero uma vida boa n...</td>\n      <td>2016-05-27</td>\n      <td>https://genius.com/Slow-j-vida-boa-lyrics</td>\n      <td>1732</td>\n      <td>quero boa vida quero vida boa nada sina diz es...</td>\n      <td>[quero, boa, vida, quero, vida, boa, nada, sin...</td>\n    </tr>\n    <tr>\n      <th>...</th>\n      <td>...</td>\n      <td>...</td>\n      <td>...</td>\n      <td>...</td>\n      <td>...</td>\n      <td>...</td>\n      <td>...</td>\n      <td>...</td>\n      <td>...</td>\n    </tr>\n    <tr>\n      <th>2107</th>\n      <td>Bispo</td>\n      <td>Intro (Passo a Passo)</td>\n      <td>Passo a Passo [Mixtape]</td>\n      <td></td>\n      <td>2013-08-23</td>\n      <td>https://genius.com/Bispo-intro-passo-a-passo-a...</td>\n      <td>0</td>\n      <td></td>\n      <td>[]</td>\n    </tr>\n    <tr>\n      <th>2108</th>\n      <td>Bispo</td>\n      <td>Saldos</td>\n      <td>Passo a Passo [Mixtape]</td>\n      <td></td>\n      <td>2013-08-23</td>\n      <td>https://genius.com/Bispo-saldos-lyrics</td>\n      <td>0</td>\n      <td></td>\n      <td>[]</td>\n    </tr>\n    <tr>\n      <th>2109</th>\n      <td>Bispo</td>\n      <td>Por Aí</td>\n      <td>Passo a Passo [Mixtape]</td>\n      <td>então qual é ó desaparecido já à bués que um g...</td>\n      <td>2013-08-23</td>\n      <td>https://genius.com/Bispo-por-ai-lyrics</td>\n      <td>1849</td>\n      <td>então ó desaparecido bués gajo via então é man...</td>\n      <td>[então, ó, desaparecido, bués, gajo, via, entã...</td>\n    </tr>\n    <tr>\n      <th>2110</th>\n      <td>Bispo</td>\n      <td>Preto No Branco</td>\n      <td>Passo a Passo [Mixtape]</td>\n      <td></td>\n      <td>2013-08-23</td>\n      <td>https://genius.com/Bispo-preto-no-branco-lyrics</td>\n      <td>0</td>\n      <td></td>\n      <td>[]</td>\n    </tr>\n    <tr>\n      <th>2111</th>\n      <td>Bispo</td>\n      <td>Sem Rumo</td>\n      <td>Recomeço [Mixtape]</td>\n      <td></td>\n      <td>2012-06-30</td>\n      <td>https://genius.com/Bispo-sem-rumo-lyrics</td>\n      <td>0</td>\n      <td></td>\n      <td>[]</td>\n    </tr>\n  </tbody>\n</table>\n<p>2112 rows × 9 columns</p>\n</div>"
     },
     "metadata": {},
     "execution_count": 55
    }
   ],
   "source": [
    "dataset['tokens'] = dataset['no_stopwords'].apply(nltk.word_tokenize)\n",
    "dataset"
   ]
  },
  {
   "cell_type": "code",
   "execution_count": 56,
   "metadata": {},
   "outputs": [
    {
     "output_type": "execute_result",
     "data": {
      "text/plain": [
       "     Unnamed: 0              term  \\\n",
       "0             1    abafa-palhinha   \n",
       "1             4         abananado   \n",
       "2            11            à beça   \n",
       "3            13        abichanado   \n",
       "4            20  abono de família   \n",
       "..          ...               ...   \n",
       "715        6508             xarro   \n",
       "716        6511           xibungo   \n",
       "717        6512          xilindró   \n",
       "718        6518              xulo   \n",
       "719        6524             zuate   \n",
       "\n",
       "                                           description              level  \\\n",
       "0               &bullet; homossexual masculino passivo   calão carroceiro   \n",
       "1                    admirado, aturdido e sem palavras          coloquial   \n",
       "2                                 em grande quantidade          coloquial   \n",
       "3               &bullet; homossexual masculino passivo              calão   \n",
       "4                 órgão sexual masculino, pénis, pênis          coloquial   \n",
       "..                                                 ...                ...   \n",
       "715                                                NaN          coloquial   \n",
       "716             &bullet; homossexual masculino passivo   calão carroceiro   \n",
       "717                                             cadeia          coloquial   \n",
       "718                                              é um:   calão carroceiro   \n",
       "719  referente à região das nádegas ou ânus, freque...              calão   \n",
       "\n",
       "                                               synonym  scale  \n",
       "0     arrombado; paneleiro; larilas; lelé; bicha; b...      3  \n",
       "1     estupefacto; azuratado; aturdido; embasbacado...      1  \n",
       "2                                                  NaN      1  \n",
       "3     arrombado; paneleiro; larilas; lelé; bicha; b...      2  \n",
       "4                                                  NaN      1  \n",
       "..                                                 ...    ...  \n",
       "715                            cavalo; heroína; charro      1  \n",
       "716   arrombado; paneleiro; larilas; lelé; bicha; b...      3  \n",
       "717   pildra; choça; prisão; prisa; calabouço; masm...      1  \n",
       "718                                               none      3  \n",
       "719   bunda; alcofa; cu; peida; rabo; bilha; trasei...      2  \n",
       "\n",
       "[720 rows x 6 columns]"
      ],
      "text/html": "<div>\n<style scoped>\n    .dataframe tbody tr th:only-of-type {\n        vertical-align: middle;\n    }\n\n    .dataframe tbody tr th {\n        vertical-align: top;\n    }\n\n    .dataframe thead th {\n        text-align: right;\n    }\n</style>\n<table border=\"1\" class=\"dataframe\">\n  <thead>\n    <tr style=\"text-align: right;\">\n      <th></th>\n      <th>Unnamed: 0</th>\n      <th>term</th>\n      <th>description</th>\n      <th>level</th>\n      <th>synonym</th>\n      <th>scale</th>\n    </tr>\n  </thead>\n  <tbody>\n    <tr>\n      <th>0</th>\n      <td>1</td>\n      <td>abafa-palhinha</td>\n      <td>&amp;bullet; homossexual masculino passivo</td>\n      <td>calão carroceiro</td>\n      <td>arrombado; paneleiro; larilas; lelé; bicha; b...</td>\n      <td>3</td>\n    </tr>\n    <tr>\n      <th>1</th>\n      <td>4</td>\n      <td>abananado</td>\n      <td>admirado, aturdido e sem palavras</td>\n      <td>coloquial</td>\n      <td>estupefacto; azuratado; aturdido; embasbacado...</td>\n      <td>1</td>\n    </tr>\n    <tr>\n      <th>2</th>\n      <td>11</td>\n      <td>à beça</td>\n      <td>em grande quantidade</td>\n      <td>coloquial</td>\n      <td>NaN</td>\n      <td>1</td>\n    </tr>\n    <tr>\n      <th>3</th>\n      <td>13</td>\n      <td>abichanado</td>\n      <td>&amp;bullet; homossexual masculino passivo</td>\n      <td>calão</td>\n      <td>arrombado; paneleiro; larilas; lelé; bicha; b...</td>\n      <td>2</td>\n    </tr>\n    <tr>\n      <th>4</th>\n      <td>20</td>\n      <td>abono de família</td>\n      <td>órgão sexual masculino, pénis, pênis</td>\n      <td>coloquial</td>\n      <td>NaN</td>\n      <td>1</td>\n    </tr>\n    <tr>\n      <th>...</th>\n      <td>...</td>\n      <td>...</td>\n      <td>...</td>\n      <td>...</td>\n      <td>...</td>\n      <td>...</td>\n    </tr>\n    <tr>\n      <th>715</th>\n      <td>6508</td>\n      <td>xarro</td>\n      <td>NaN</td>\n      <td>coloquial</td>\n      <td>cavalo; heroína; charro</td>\n      <td>1</td>\n    </tr>\n    <tr>\n      <th>716</th>\n      <td>6511</td>\n      <td>xibungo</td>\n      <td>&amp;bullet; homossexual masculino passivo</td>\n      <td>calão carroceiro</td>\n      <td>arrombado; paneleiro; larilas; lelé; bicha; b...</td>\n      <td>3</td>\n    </tr>\n    <tr>\n      <th>717</th>\n      <td>6512</td>\n      <td>xilindró</td>\n      <td>cadeia</td>\n      <td>coloquial</td>\n      <td>pildra; choça; prisão; prisa; calabouço; masm...</td>\n      <td>1</td>\n    </tr>\n    <tr>\n      <th>718</th>\n      <td>6518</td>\n      <td>xulo</td>\n      <td>é um:</td>\n      <td>calão carroceiro</td>\n      <td>none</td>\n      <td>3</td>\n    </tr>\n    <tr>\n      <th>719</th>\n      <td>6524</td>\n      <td>zuate</td>\n      <td>referente à região das nádegas ou ânus, freque...</td>\n      <td>calão</td>\n      <td>bunda; alcofa; cu; peida; rabo; bilha; trasei...</td>\n      <td>2</td>\n    </tr>\n  </tbody>\n</table>\n<p>720 rows × 6 columns</p>\n</div>"
     },
     "metadata": {},
     "execution_count": 56
    }
   ],
   "source": [
    "dicionario = pd.read_csv(\"dicionario_limpo.csv\")\n",
    "dicionario"
   ]
  },
  {
   "cell_type": "code",
   "execution_count": 57,
   "metadata": {
    "tags": []
   },
   "outputs": [],
   "source": [
    "#finding matches for swear words\n",
    "\n",
    "lyrics_sets = dataset[\"tokens\"]\n",
    "swear_words = list(dicionario[\"term\"])\n",
    "scores = pd.Series(dicionario.scale.values,index=dicionario.term).to_dict()\n",
    "score_data = []\n",
    "swear_words_by_song = []\n",
    "\n",
    "for lyrics in lyrics_sets:\n",
    "  total_swear_score = 0\n",
    "  swear_words_in_lyrics = [token for token in lyrics if token in swear_words]\n",
    "\n",
    "  for swear in swear_words_in_lyrics:\n",
    "      total_swear_score += scores.get(swear)\n",
    "\n",
    "  swear_words_by_song.append(swear_words_in_lyrics)\n",
    "  score_data.append(total_swear_score)\n",
    "\n",
    "dataset[\"swears\"] = swear_words_by_song\n",
    "dataset[\"score\"] = score_data"
   ]
  },
  {
   "cell_type": "code",
   "execution_count": 58,
   "metadata": {},
   "outputs": [
    {
     "output_type": "execute_result",
     "data": {
      "text/plain": [
       "artist_name\n",
       "5-30                      4.181818\n",
       "9 Miller                  7.733333\n",
       "Agir                      2.258621\n",
       "Bispo                     4.609195\n",
       "Boss AC                   2.229885\n",
       "Carlão (PacMan)           1.514286\n",
       "Chico da Tina             5.269231\n",
       "Classe Crua               1.941176\n",
       "Conjunto Corona           2.181818\n",
       "Cálculo                   2.120000\n",
       "Da Weasel                 2.397260\n",
       "Dealema                   2.302632\n",
       "Dillaz                    3.776316\n",
       "Estraca                   2.310345\n",
       "Força Suprema             1.970588\n",
       "Fínix MG                  6.789474\n",
       "GROGNation                4.712329\n",
       "Gson                      0.666667\n",
       "Holly Hood                2.714286\n",
       "Jimmy P                   1.851351\n",
       "John Kander               0.056338\n",
       "Kappa Jotta               2.595238\n",
       "Keso                      3.613636\n",
       "LON3R JOHNY               1.405797\n",
       "Mike El Nite              4.593750\n",
       "NGA                       4.949153\n",
       "Papillon                  2.500000\n",
       "Phoenix RDC               4.919355\n",
       "Piruka                    1.779661\n",
       "Plutonio                  1.642857\n",
       "ProfJam                   4.646341\n",
       "ProfJam x benji price    11.250000\n",
       "Regula                    3.862500\n",
       "Sam The Kid               2.000000\n",
       "SippinPurpp               3.071429\n",
       "Sir Scratch (PRT)         1.200000\n",
       "Slow J                    1.621622\n",
       "Vado Más Ki Ás            4.750000\n",
       "Valas                     1.000000\n",
       "Valete                    3.487805\n",
       "Waze                      1.692308\n",
       "Wet Bed Gang              7.343750\n",
       "X-Tense                   7.000000\n",
       "Xeg                       2.885417\n",
       "Name: score, dtype: float64"
      ]
     },
     "metadata": {},
     "execution_count": 58
    }
   ],
   "source": [
    "mean_by_artist = dataset.groupby('artist_name')['score'].mean()\n",
    "mean_by_artist"
   ]
  },
  {
   "cell_type": "code",
   "execution_count": 59,
   "metadata": {},
   "outputs": [],
   "source": [
    "#filtering misogynistic terms\n",
    "\n",
    "lady_parts = dicionario[dicionario['description'].str.contains('órgão sexual feminino', na=False)]\n",
    "men_parts = dicionario[dicionario['description'].str.contains('órgão sexual masculino', na=False)]\n",
    "women_rude = dicionario[dicionario['synonym'].str.contains('prostituta', na=False)]\n",
    "oral_sex = dicionario[dicionario['description'].str.contains('sexo oral', na=False)]\n",
    "anal_sex = dicionario[dicionario['description'].str.contains('sexo anal', na=False)]\n",
    "semen = dicionario[dicionario['description'].str.contains('esperma', na=False)]\n",
    "\n"
   ]
  },
  {
   "cell_type": "code",
   "execution_count": 60,
   "metadata": {},
   "outputs": [
    {
     "output_type": "execute_result",
     "data": {
      "text/plain": [
       "    Unnamed: 0             term                   description  \\\n",
       "0          525           boceta         órgão sexual feminino   \n",
       "1          977             cona         órgão sexual feminino   \n",
       "2          978           conaça         órgão sexual feminino   \n",
       "3         1106            crica         órgão sexual feminino   \n",
       "4         1957      entrefolhos         órgão sexual feminino   \n",
       "..         ...              ...                           ...   \n",
       "75        2585    fazer um bico  &bullet; sexo oral masculino   \n",
       "76        2586    fazer um bobó  &bullet; sexo oral masculino   \n",
       "77        2589  fazer um broche  &bullet; sexo oral masculino   \n",
       "78        2631          felácio  &bullet; sexo oral masculino   \n",
       "79        3441           mamada  &bullet; sexo oral masculino   \n",
       "\n",
       "                              level  \\\n",
       "0                  calão carroceiro   \n",
       "1            calão muito carroceiro   \n",
       "2            calão muito carroceiro   \n",
       "3            calão muito carroceiro   \n",
       "4                             calão   \n",
       "..                              ...   \n",
       "75   calão estupidamente carroceiro   \n",
       "76           calão muito carroceiro   \n",
       "77   calão estupidamente carroceiro   \n",
       "78                            calão   \n",
       "79           calão muito carroceiro   \n",
       "\n",
       "                                              synonym  scale  \n",
       "0    cona; pipi; pito; pitaço; pirona; rata; vagin...      3  \n",
       "1    pipi; pito; pitaço; pirona; rata; vagina; nin...      4  \n",
       "2    cona; pipi; pito; pitaço; pirona; rata; vagin...      4  \n",
       "3    cona; pipi; pito; pitaço; pirona; rata; vagin...      4  \n",
       "4    cona; pipi; pito; pitaço; pirona; rata; vagin...      2  \n",
       "..                                                ...    ...  \n",
       "75   fazer um broche; fazer um bobó; mamada; chupa...      5  \n",
       "76   fazer um broche; mamada; chupa-me a pichota; ...      4  \n",
       "77   fazer um bobó; mamada; chupa-me a pichota; fa...      5  \n",
       "78   fazer um broche; fazer um bobó; mamada; chupa...      2  \n",
       "79   fazer um broche; fazer um bobó; chupa-me a pi...      4  \n",
       "\n",
       "[80 rows x 6 columns]"
      ],
      "text/html": "<div>\n<style scoped>\n    .dataframe tbody tr th:only-of-type {\n        vertical-align: middle;\n    }\n\n    .dataframe tbody tr th {\n        vertical-align: top;\n    }\n\n    .dataframe thead th {\n        text-align: right;\n    }\n</style>\n<table border=\"1\" class=\"dataframe\">\n  <thead>\n    <tr style=\"text-align: right;\">\n      <th></th>\n      <th>Unnamed: 0</th>\n      <th>term</th>\n      <th>description</th>\n      <th>level</th>\n      <th>synonym</th>\n      <th>scale</th>\n    </tr>\n  </thead>\n  <tbody>\n    <tr>\n      <th>0</th>\n      <td>525</td>\n      <td>boceta</td>\n      <td>órgão sexual feminino</td>\n      <td>calão carroceiro</td>\n      <td>cona; pipi; pito; pitaço; pirona; rata; vagin...</td>\n      <td>3</td>\n    </tr>\n    <tr>\n      <th>1</th>\n      <td>977</td>\n      <td>cona</td>\n      <td>órgão sexual feminino</td>\n      <td>calão muito carroceiro</td>\n      <td>pipi; pito; pitaço; pirona; rata; vagina; nin...</td>\n      <td>4</td>\n    </tr>\n    <tr>\n      <th>2</th>\n      <td>978</td>\n      <td>conaça</td>\n      <td>órgão sexual feminino</td>\n      <td>calão muito carroceiro</td>\n      <td>cona; pipi; pito; pitaço; pirona; rata; vagin...</td>\n      <td>4</td>\n    </tr>\n    <tr>\n      <th>3</th>\n      <td>1106</td>\n      <td>crica</td>\n      <td>órgão sexual feminino</td>\n      <td>calão muito carroceiro</td>\n      <td>cona; pipi; pito; pitaço; pirona; rata; vagin...</td>\n      <td>4</td>\n    </tr>\n    <tr>\n      <th>4</th>\n      <td>1957</td>\n      <td>entrefolhos</td>\n      <td>órgão sexual feminino</td>\n      <td>calão</td>\n      <td>cona; pipi; pito; pitaço; pirona; rata; vagin...</td>\n      <td>2</td>\n    </tr>\n    <tr>\n      <th>...</th>\n      <td>...</td>\n      <td>...</td>\n      <td>...</td>\n      <td>...</td>\n      <td>...</td>\n      <td>...</td>\n    </tr>\n    <tr>\n      <th>75</th>\n      <td>2585</td>\n      <td>fazer um bico</td>\n      <td>&amp;bullet; sexo oral masculino</td>\n      <td>calão estupidamente carroceiro</td>\n      <td>fazer um broche; fazer um bobó; mamada; chupa...</td>\n      <td>5</td>\n    </tr>\n    <tr>\n      <th>76</th>\n      <td>2586</td>\n      <td>fazer um bobó</td>\n      <td>&amp;bullet; sexo oral masculino</td>\n      <td>calão muito carroceiro</td>\n      <td>fazer um broche; mamada; chupa-me a pichota; ...</td>\n      <td>4</td>\n    </tr>\n    <tr>\n      <th>77</th>\n      <td>2589</td>\n      <td>fazer um broche</td>\n      <td>&amp;bullet; sexo oral masculino</td>\n      <td>calão estupidamente carroceiro</td>\n      <td>fazer um bobó; mamada; chupa-me a pichota; fa...</td>\n      <td>5</td>\n    </tr>\n    <tr>\n      <th>78</th>\n      <td>2631</td>\n      <td>felácio</td>\n      <td>&amp;bullet; sexo oral masculino</td>\n      <td>calão</td>\n      <td>fazer um broche; fazer um bobó; mamada; chupa...</td>\n      <td>2</td>\n    </tr>\n    <tr>\n      <th>79</th>\n      <td>3441</td>\n      <td>mamada</td>\n      <td>&amp;bullet; sexo oral masculino</td>\n      <td>calão muito carroceiro</td>\n      <td>fazer um broche; fazer um bobó; chupa-me a pi...</td>\n      <td>4</td>\n    </tr>\n  </tbody>\n</table>\n<p>80 rows × 6 columns</p>\n</div>"
     },
     "metadata": {},
     "execution_count": 60
    }
   ],
   "source": [
    "dicionario_misoginia = pd.concat([lady_parts, women_rude, men_parts, semen, oral_sex], ignore_index= True)\n",
    "dicionario_misoginia"
   ]
  },
  {
   "cell_type": "code",
   "execution_count": 61,
   "metadata": {},
   "outputs": [],
   "source": [
    "#dicionario[dicionario['description'].str.contains('insulto a árbitro', na=False)]"
   ]
  },
  {
   "cell_type": "code",
   "execution_count": 62,
   "metadata": {},
   "outputs": [],
   "source": [
    "lyrics_sets = dataset[\"tokens\"]\n",
    "misogynistic_words = list(dicionario_misoginia[\"term\"])\n",
    "\n",
    "misogyny_score = pd.Series(dicionario_misoginia.scale.values,index=dicionario_misoginia.term).to_dict()\n",
    "misogyny_score_data = []\n",
    "misogynistic_words_by_song = []\n",
    "\n",
    "for lyrics in lyrics_sets:\n",
    "  total_misogynistic_score = 0\n",
    "  misogynistic_words_in_lyrics = [token for token in lyrics if token in misogynistic_words]\n",
    "\n",
    "  for swear in misogynistic_words_in_lyrics:\n",
    "      total_misogynistic_score += misogyny_score.get(swear)\n",
    "\n",
    "  misogynistic_words_by_song.append(misogynistic_words_in_lyrics)\n",
    "  misogyny_score_data.append(total_misogynistic_score)\n",
    "\n",
    "dataset[\"misogynistic_swears\"] = misogynistic_words_by_song\n",
    "dataset[\"misogynistic_score\"] = misogyny_score_data"
   ]
  },
  {
   "cell_type": "code",
   "execution_count": 68,
   "metadata": {},
   "outputs": [
    {
     "output_type": "execute_result",
     "data": {
      "text/plain": [
       "artist_name\n",
       "5-30                     1.727273\n",
       "9 Miller                 2.333333\n",
       "Agir                     0.034483\n",
       "Bispo                    0.229885\n",
       "Boss AC                  0.655172\n",
       "Carlão (PacMan)          0.114286\n",
       "Chico da Tina            1.038462\n",
       "Classe Crua              0.352941\n",
       "Conjunto Corona          0.490909\n",
       "Cálculo                  0.120000\n",
       "Da Weasel                0.273973\n",
       "Dealema                  0.434211\n",
       "Dillaz                   0.631579\n",
       "Estraca                  0.379310\n",
       "Força Suprema            0.147059\n",
       "Fínix MG                 1.052632\n",
       "GROGNation               0.821918\n",
       "Gson                     0.000000\n",
       "Holly Hood               0.214286\n",
       "Jimmy P                  0.229730\n",
       "John Kander              0.000000\n",
       "Kappa Jotta              0.142857\n",
       "Keso                     0.363636\n",
       "LON3R JOHNY              0.000000\n",
       "Mike El Nite             0.687500\n",
       "NGA                      0.610169\n",
       "Papillon                 0.400000\n",
       "Phoenix RDC              1.137097\n",
       "Piruka                   0.067797\n",
       "Plutonio                 0.285714\n",
       "ProfJam                  1.487805\n",
       "ProfJam x benji price    1.166667\n",
       "Regula                   0.350000\n",
       "Sam The Kid              0.302752\n",
       "SippinPurpp              0.357143\n",
       "Sir Scratch (PRT)        0.000000\n",
       "Slow J                   0.054054\n",
       "Vado Más Ki Ás           0.625000\n",
       "Valas                    0.571429\n",
       "Valete                   0.829268\n",
       "Waze                     0.000000\n",
       "Wet Bed Gang             0.843750\n",
       "X-Tense                  1.418605\n",
       "Xeg                      0.427083\n",
       "Name: misogynistic_score, dtype: float64"
      ]
     },
     "metadata": {},
     "execution_count": 68
    }
   ],
   "source": [
    "#dataset.to_csv(\"teste_completo.csv\")\n",
    "mysogynistic_mean_by_artist = dataset.groupby('artist_name')['misogynistic_score'].mean()\n",
    "mysogynistic_mean_by_artist"
   ]
  },
  {
   "cell_type": "code",
   "execution_count": 64,
   "metadata": {},
   "outputs": [
    {
     "output_type": "execute_result",
     "data": {
      "text/plain": [
       "0.6240593489987758"
      ]
     },
     "metadata": {},
     "execution_count": 64
    }
   ],
   "source": [
    "# correlating misogyny with swearing\n",
    "dataset['score'].corr(dataset[\"misogynistic_score\"])"
   ]
  },
  {
   "cell_type": "code",
   "execution_count": 82,
   "metadata": {},
   "outputs": [
    {
     "output_type": "execute_result",
     "data": {
      "text/plain": [
       "             score  misogynistic_score\n",
       "count  2112.000000         2112.000000\n",
       "mean      3.196023            0.511837\n",
       "std       6.800704            2.722583\n",
       "min       0.000000            0.000000\n",
       "25%       0.000000            0.000000\n",
       "50%       0.000000            0.000000\n",
       "75%       3.000000            0.000000\n",
       "max      78.000000           66.000000"
      ],
      "text/html": "<div>\n<style scoped>\n    .dataframe tbody tr th:only-of-type {\n        vertical-align: middle;\n    }\n\n    .dataframe tbody tr th {\n        vertical-align: top;\n    }\n\n    .dataframe thead th {\n        text-align: right;\n    }\n</style>\n<table border=\"1\" class=\"dataframe\">\n  <thead>\n    <tr style=\"text-align: right;\">\n      <th></th>\n      <th>score</th>\n      <th>misogynistic_score</th>\n    </tr>\n  </thead>\n  <tbody>\n    <tr>\n      <th>count</th>\n      <td>2112.000000</td>\n      <td>2112.000000</td>\n    </tr>\n    <tr>\n      <th>mean</th>\n      <td>3.196023</td>\n      <td>0.511837</td>\n    </tr>\n    <tr>\n      <th>std</th>\n      <td>6.800704</td>\n      <td>2.722583</td>\n    </tr>\n    <tr>\n      <th>min</th>\n      <td>0.000000</td>\n      <td>0.000000</td>\n    </tr>\n    <tr>\n      <th>25%</th>\n      <td>0.000000</td>\n      <td>0.000000</td>\n    </tr>\n    <tr>\n      <th>50%</th>\n      <td>0.000000</td>\n      <td>0.000000</td>\n    </tr>\n    <tr>\n      <th>75%</th>\n      <td>3.000000</td>\n      <td>0.000000</td>\n    </tr>\n    <tr>\n      <th>max</th>\n      <td>78.000000</td>\n      <td>66.000000</td>\n    </tr>\n  </tbody>\n</table>\n</div>"
     },
     "metadata": {},
     "execution_count": 82
    }
   ],
   "source": [
    "#describing swearing and misogyny scores\n",
    "\n",
    "columns_of_interest = ['score', 'misogynistic_score']\n",
    "two_columns_of_data = dataset[columns_of_interest]\n",
    "two_columns_of_data.describe()"
   ]
  },
  {
   "cell_type": "code",
   "execution_count": 83,
   "metadata": {},
   "outputs": [
    {
     "output_type": "execute_result",
     "data": {
      "text/plain": [
       "                       pontuação média  pontuação mínima  pontuação máxima\n",
       "artist_name                                                               \n",
       "5-30                          1.727273                 0                12\n",
       "9 Miller                      2.333333                 0                12\n",
       "Agir                          0.034483                 0                 2\n",
       "Bispo                         0.229885                 0                 6\n",
       "Boss AC                       0.655172                 0                36\n",
       "Carlão (PacMan)               0.114286                 0                 2\n",
       "Chico da Tina                 1.038462                 0                15\n",
       "Classe Crua                   0.352941                 0                 3\n",
       "Conjunto Corona               0.490909                 0                15\n",
       "Cálculo                       0.120000                 0                 3\n",
       "Da Weasel                     0.273973                 0                13\n",
       "Dealema                       0.434211                 0                11\n",
       "Dillaz                        0.631579                 0                26\n",
       "Estraca                       0.379310                 0                 6\n",
       "Força Suprema                 0.147059                 0                 3\n",
       "Fínix MG                      1.052632                 0                 6\n",
       "GROGNation                    0.821918                 0                 9\n",
       "Gson                          0.000000                 0                 0\n",
       "Holly Hood                    0.214286                 0                 3\n",
       "Jimmy P                       0.229730                 0                 8\n",
       "John Kander                   0.000000                 0                 0\n",
       "Kappa Jotta                   0.142857                 0                 3\n",
       "Keso                          0.363636                 0                 6\n",
       "LON3R JOHNY                   0.000000                 0                 0\n",
       "Mike El Nite                  0.687500                 0                 8\n",
       "NGA                           0.610169                 0                10\n",
       "Papillon                      0.400000                 0                 4\n",
       "Phoenix RDC                   1.137097                 0                39\n",
       "Piruka                        0.067797                 0                 3\n",
       "Plutonio                      0.285714                 0                 9\n",
       "ProfJam                       1.487805                 0                66\n",
       "ProfJam x benji price         1.166667                 0                 7\n",
       "Regula                        0.350000                 0                10\n",
       "Sam The Kid                   0.302752                 0                 9\n",
       "SippinPurpp                   0.357143                 0                 5\n",
       "Sir Scratch (PRT)             0.000000                 0                 0\n",
       "Slow J                        0.054054                 0                 2\n",
       "Vado Más Ki Ás                0.625000                 0                 8\n",
       "Valas                         0.571429                 0                 8\n",
       "Valete                        0.829268                 0                22\n",
       "Waze                          0.000000                 0                 0\n",
       "Wet Bed Gang                  0.843750                 0                 7\n",
       "X-Tense                       1.418605                 0                46\n",
       "Xeg                           0.427083                 0                 9"
      ],
      "text/html": "<div>\n<style scoped>\n    .dataframe tbody tr th:only-of-type {\n        vertical-align: middle;\n    }\n\n    .dataframe tbody tr th {\n        vertical-align: top;\n    }\n\n    .dataframe thead th {\n        text-align: right;\n    }\n</style>\n<table border=\"1\" class=\"dataframe\">\n  <thead>\n    <tr style=\"text-align: right;\">\n      <th></th>\n      <th>pontuação média</th>\n      <th>pontuação mínima</th>\n      <th>pontuação máxima</th>\n    </tr>\n    <tr>\n      <th>artist_name</th>\n      <th></th>\n      <th></th>\n      <th></th>\n    </tr>\n  </thead>\n  <tbody>\n    <tr>\n      <th>5-30</th>\n      <td>1.727273</td>\n      <td>0</td>\n      <td>12</td>\n    </tr>\n    <tr>\n      <th>9 Miller</th>\n      <td>2.333333</td>\n      <td>0</td>\n      <td>12</td>\n    </tr>\n    <tr>\n      <th>Agir</th>\n      <td>0.034483</td>\n      <td>0</td>\n      <td>2</td>\n    </tr>\n    <tr>\n      <th>Bispo</th>\n      <td>0.229885</td>\n      <td>0</td>\n      <td>6</td>\n    </tr>\n    <tr>\n      <th>Boss AC</th>\n      <td>0.655172</td>\n      <td>0</td>\n      <td>36</td>\n    </tr>\n    <tr>\n      <th>Carlão (PacMan)</th>\n      <td>0.114286</td>\n      <td>0</td>\n      <td>2</td>\n    </tr>\n    <tr>\n      <th>Chico da Tina</th>\n      <td>1.038462</td>\n      <td>0</td>\n      <td>15</td>\n    </tr>\n    <tr>\n      <th>Classe Crua</th>\n      <td>0.352941</td>\n      <td>0</td>\n      <td>3</td>\n    </tr>\n    <tr>\n      <th>Conjunto Corona</th>\n      <td>0.490909</td>\n      <td>0</td>\n      <td>15</td>\n    </tr>\n    <tr>\n      <th>Cálculo</th>\n      <td>0.120000</td>\n      <td>0</td>\n      <td>3</td>\n    </tr>\n    <tr>\n      <th>Da Weasel</th>\n      <td>0.273973</td>\n      <td>0</td>\n      <td>13</td>\n    </tr>\n    <tr>\n      <th>Dealema</th>\n      <td>0.434211</td>\n      <td>0</td>\n      <td>11</td>\n    </tr>\n    <tr>\n      <th>Dillaz</th>\n      <td>0.631579</td>\n      <td>0</td>\n      <td>26</td>\n    </tr>\n    <tr>\n      <th>Estraca</th>\n      <td>0.379310</td>\n      <td>0</td>\n      <td>6</td>\n    </tr>\n    <tr>\n      <th>Força Suprema</th>\n      <td>0.147059</td>\n      <td>0</td>\n      <td>3</td>\n    </tr>\n    <tr>\n      <th>Fínix MG</th>\n      <td>1.052632</td>\n      <td>0</td>\n      <td>6</td>\n    </tr>\n    <tr>\n      <th>GROGNation</th>\n      <td>0.821918</td>\n      <td>0</td>\n      <td>9</td>\n    </tr>\n    <tr>\n      <th>Gson</th>\n      <td>0.000000</td>\n      <td>0</td>\n      <td>0</td>\n    </tr>\n    <tr>\n      <th>Holly Hood</th>\n      <td>0.214286</td>\n      <td>0</td>\n      <td>3</td>\n    </tr>\n    <tr>\n      <th>Jimmy P</th>\n      <td>0.229730</td>\n      <td>0</td>\n      <td>8</td>\n    </tr>\n    <tr>\n      <th>John Kander</th>\n      <td>0.000000</td>\n      <td>0</td>\n      <td>0</td>\n    </tr>\n    <tr>\n      <th>Kappa Jotta</th>\n      <td>0.142857</td>\n      <td>0</td>\n      <td>3</td>\n    </tr>\n    <tr>\n      <th>Keso</th>\n      <td>0.363636</td>\n      <td>0</td>\n      <td>6</td>\n    </tr>\n    <tr>\n      <th>LON3R JOHNY</th>\n      <td>0.000000</td>\n      <td>0</td>\n      <td>0</td>\n    </tr>\n    <tr>\n      <th>Mike El Nite</th>\n      <td>0.687500</td>\n      <td>0</td>\n      <td>8</td>\n    </tr>\n    <tr>\n      <th>NGA</th>\n      <td>0.610169</td>\n      <td>0</td>\n      <td>10</td>\n    </tr>\n    <tr>\n      <th>Papillon</th>\n      <td>0.400000</td>\n      <td>0</td>\n      <td>4</td>\n    </tr>\n    <tr>\n      <th>Phoenix RDC</th>\n      <td>1.137097</td>\n      <td>0</td>\n      <td>39</td>\n    </tr>\n    <tr>\n      <th>Piruka</th>\n      <td>0.067797</td>\n      <td>0</td>\n      <td>3</td>\n    </tr>\n    <tr>\n      <th>Plutonio</th>\n      <td>0.285714</td>\n      <td>0</td>\n      <td>9</td>\n    </tr>\n    <tr>\n      <th>ProfJam</th>\n      <td>1.487805</td>\n      <td>0</td>\n      <td>66</td>\n    </tr>\n    <tr>\n      <th>ProfJam x benji price</th>\n      <td>1.166667</td>\n      <td>0</td>\n      <td>7</td>\n    </tr>\n    <tr>\n      <th>Regula</th>\n      <td>0.350000</td>\n      <td>0</td>\n      <td>10</td>\n    </tr>\n    <tr>\n      <th>Sam The Kid</th>\n      <td>0.302752</td>\n      <td>0</td>\n      <td>9</td>\n    </tr>\n    <tr>\n      <th>SippinPurpp</th>\n      <td>0.357143</td>\n      <td>0</td>\n      <td>5</td>\n    </tr>\n    <tr>\n      <th>Sir Scratch (PRT)</th>\n      <td>0.000000</td>\n      <td>0</td>\n      <td>0</td>\n    </tr>\n    <tr>\n      <th>Slow J</th>\n      <td>0.054054</td>\n      <td>0</td>\n      <td>2</td>\n    </tr>\n    <tr>\n      <th>Vado Más Ki Ás</th>\n      <td>0.625000</td>\n      <td>0</td>\n      <td>8</td>\n    </tr>\n    <tr>\n      <th>Valas</th>\n      <td>0.571429</td>\n      <td>0</td>\n      <td>8</td>\n    </tr>\n    <tr>\n      <th>Valete</th>\n      <td>0.829268</td>\n      <td>0</td>\n      <td>22</td>\n    </tr>\n    <tr>\n      <th>Waze</th>\n      <td>0.000000</td>\n      <td>0</td>\n      <td>0</td>\n    </tr>\n    <tr>\n      <th>Wet Bed Gang</th>\n      <td>0.843750</td>\n      <td>0</td>\n      <td>7</td>\n    </tr>\n    <tr>\n      <th>X-Tense</th>\n      <td>1.418605</td>\n      <td>0</td>\n      <td>46</td>\n    </tr>\n    <tr>\n      <th>Xeg</th>\n      <td>0.427083</td>\n      <td>0</td>\n      <td>9</td>\n    </tr>\n  </tbody>\n</table>\n</div>"
     },
     "metadata": {},
     "execution_count": 83
    }
   ],
   "source": [
    "#describing misogyny per artist\n",
    "\n",
    "misogyny_score_chart = pd.DataFrame()\n",
    "\n",
    "misogyny_score_chart[\"pontuação média\"] = dataset.groupby([\"artist_name\"])[\"misogynistic_score\"].mean()\n",
    "misogyny_score_chart[\"pontuação mínima\"] = dataset.groupby([\"artist_name\"])[\"misogynistic_score\"].min()\n",
    "misogyny_score_chart[\"pontuação máxima\"] = dataset.groupby([\"artist_name\"])[\"misogynistic_score\"].max()\n",
    "#misogyny_score_chart.to_csv(\"misogyny_score_chart.csv\")\n",
    "misogyny_score_chart"
   ]
  },
  {
   "cell_type": "code",
   "execution_count": 65,
   "metadata": {},
   "outputs": [],
   "source": [
    "dataset.to_csv(\"dataset.csv\")"
   ]
  }
 ]
}