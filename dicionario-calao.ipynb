{
 "metadata": {
  "language_info": {
   "codemirror_mode": {
    "name": "ipython",
    "version": 3
   },
   "file_extension": ".py",
   "mimetype": "text/x-python",
   "name": "python",
   "nbconvert_exporter": "python",
   "pygments_lexer": "ipython3",
   "version": "3.7.7-final"
  },
  "orig_nbformat": 2,
  "kernelspec": {
   "name": "python37764bitbaseconda317a320067de44d78632809e320a2671",
   "display_name": "Python 3.7.7 64-bit ('base': conda)"
  }
 },
 "nbformat": 4,
 "nbformat_minor": 2,
 "cells": [
  {
   "cell_type": "code",
   "execution_count": 1,
   "metadata": {},
   "outputs": [],
   "source": [
    "import os\n",
    "import glob\n",
    "import pandas as pd\n",
    "import requests\n",
    "import re\n",
    "from bs4 import BeautifulSoup"
   ]
  },
  {
   "cell_type": "code",
   "execution_count": 2,
   "metadata": {},
   "outputs": [],
   "source": [
    "# curl https://natura.di.uminho.pt/~jj/pln/calao/dicionario.html > dicionario.html\n",
    "\n",
    "with open(\"dicionario.html\") as fp:\n",
    "    soup = BeautifulSoup(fp)\n"
   ]
  },
  {
   "cell_type": "code",
   "execution_count": 15,
   "metadata": {},
   "outputs": [
    {
     "output_type": "execute_result",
     "data": {
      "text/plain": [
       "                                                   0\n",
       "0  [\\n, [bater, normalmente usado como ameaça de ...\n",
       "1                                                 \\n"
      ],
      "text/html": "<div>\n<style scoped>\n    .dataframe tbody tr th:only-of-type {\n        vertical-align: middle;\n    }\n\n    .dataframe tbody tr th {\n        vertical-align: top;\n    }\n\n    .dataframe thead th {\n        text-align: right;\n    }\n</style>\n<table border=\"1\" class=\"dataframe\">\n  <thead>\n    <tr style=\"text-align: right;\">\n      <th></th>\n      <th>0</th>\n    </tr>\n  </thead>\n  <tbody>\n    <tr>\n      <th>0</th>\n      <td>[\\n, [bater, normalmente usado como ameaça de ...</td>\n    </tr>\n    <tr>\n      <th>1</th>\n      <td>\\n</td>\n    </tr>\n  </tbody>\n</table>\n</div>"
     },
     "metadata": {},
     "execution_count": 15
    }
   ],
   "source": [
    "terms = div.find(\"div\", attrs = {\"class\": \"inf\"})\n",
    "slang_df = pd.DataFrame(terms)\n",
    "slang_df"
   ]
  },
  {
   "cell_type": "code",
   "execution_count": 46,
   "metadata": {
    "tags": []
   },
   "outputs": [
    {
     "output_type": "execute_result",
     "data": {
      "text/plain": [
       "                      term                                        description  \\\n",
       "0   a altas horas da noite                               muito tarde na noite   \n",
       "0           abafa-palhinha             &bullet; homossexual masculino passivo   \n",
       "0                   abafar  esconder, esquecer, mudar de assunto, fazer co...   \n",
       "0                    abafo                                    festas, carinho   \n",
       "0                abananado                  admirado, aturdido e sem palavras   \n",
       "..                     ...                                                ...   \n",
       "0                    zombi       pessoa que, mesmo a pé, está sempre a dormir   \n",
       "0                    zuate  referente à região das nádegas ou ânus, freque...   \n",
       "0                     zuca                                              é um:   \n",
       "0          zumba que zumba                                               None   \n",
       "0                    zupar  bater, normalmente usado como ameaça de puniçã...   \n",
       "\n",
       "                level                                            synonym  \n",
       "0                none   noite alta; noite cerrada; lá para as quinhentas  \n",
       "0    calão carroceiro   arrombado; paneleiro; larilas; lelé; bicha; b...  \n",
       "0                none                                               none  \n",
       "0                none   cafuné; carícia; meiguice; quitute; quindim; ...  \n",
       "0           coloquial   estupefacto; azuratado; aturdido; embasbacado...  \n",
       "..                ...                                                ...  \n",
       "0                none                  dorminhoco; sonolento; cu de sono  \n",
       "0               calão   bunda; alcofa; cu; peida; rabo; bilha; trasei...  \n",
       "0                none                                            brazuca  \n",
       "0                none                                               none  \n",
       "0                none          chegar a roupa ao pêlo; dar com o chinelo  \n",
       "\n",
       "[6528 rows x 4 columns]"
      ],
      "text/html": "<div>\n<style scoped>\n    .dataframe tbody tr th:only-of-type {\n        vertical-align: middle;\n    }\n\n    .dataframe tbody tr th {\n        vertical-align: top;\n    }\n\n    .dataframe thead th {\n        text-align: right;\n    }\n</style>\n<table border=\"1\" class=\"dataframe\">\n  <thead>\n    <tr style=\"text-align: right;\">\n      <th></th>\n      <th>term</th>\n      <th>description</th>\n      <th>level</th>\n      <th>synonym</th>\n    </tr>\n  </thead>\n  <tbody>\n    <tr>\n      <th>0</th>\n      <td>a altas horas da noite</td>\n      <td>muito tarde na noite</td>\n      <td>none</td>\n      <td>noite alta; noite cerrada; lá para as quinhentas</td>\n    </tr>\n    <tr>\n      <th>0</th>\n      <td>abafa-palhinha</td>\n      <td>&amp;bullet; homossexual masculino passivo</td>\n      <td>calão carroceiro</td>\n      <td>arrombado; paneleiro; larilas; lelé; bicha; b...</td>\n    </tr>\n    <tr>\n      <th>0</th>\n      <td>abafar</td>\n      <td>esconder, esquecer, mudar de assunto, fazer co...</td>\n      <td>none</td>\n      <td>none</td>\n    </tr>\n    <tr>\n      <th>0</th>\n      <td>abafo</td>\n      <td>festas, carinho</td>\n      <td>none</td>\n      <td>cafuné; carícia; meiguice; quitute; quindim; ...</td>\n    </tr>\n    <tr>\n      <th>0</th>\n      <td>abananado</td>\n      <td>admirado, aturdido e sem palavras</td>\n      <td>coloquial</td>\n      <td>estupefacto; azuratado; aturdido; embasbacado...</td>\n    </tr>\n    <tr>\n      <th>...</th>\n      <td>...</td>\n      <td>...</td>\n      <td>...</td>\n      <td>...</td>\n    </tr>\n    <tr>\n      <th>0</th>\n      <td>zombi</td>\n      <td>pessoa que, mesmo a pé, está sempre a dormir</td>\n      <td>none</td>\n      <td>dorminhoco; sonolento; cu de sono</td>\n    </tr>\n    <tr>\n      <th>0</th>\n      <td>zuate</td>\n      <td>referente à região das nádegas ou ânus, freque...</td>\n      <td>calão</td>\n      <td>bunda; alcofa; cu; peida; rabo; bilha; trasei...</td>\n    </tr>\n    <tr>\n      <th>0</th>\n      <td>zuca</td>\n      <td>é um:</td>\n      <td>none</td>\n      <td>brazuca</td>\n    </tr>\n    <tr>\n      <th>0</th>\n      <td>zumba que zumba</td>\n      <td>None</td>\n      <td>none</td>\n      <td>none</td>\n    </tr>\n    <tr>\n      <th>0</th>\n      <td>zupar</td>\n      <td>bater, normalmente usado como ameaça de puniçã...</td>\n      <td>none</td>\n      <td>chegar a roupa ao pêlo; dar com o chinelo</td>\n    </tr>\n  </tbody>\n</table>\n<p>6528 rows × 4 columns</p>\n</div>"
     },
     "metadata": {},
     "execution_count": 46
    }
   ],
   "source": [
    "divs = soup.findAll(class_= 'entry')    \n",
    "\n",
    "dict_table = pd.DataFrame()\n",
    "\n",
    "for div in divs:\n",
    "    #term\n",
    "    entry_details = {}\n",
    "    term = div.find(\"div\", attrs = {\"class\": \"term\"}).string\n",
    "    entry_details[\"term\"] = [term]\n",
    "    \n",
    "    #description\n",
    "    description_key = div.find(\"div\", attrs = {\"class\": \"inf\"})\n",
    "    description = description_key and description_key.find(\"dt\")\n",
    "    entry_details[\"description\"] = [description and description.string]\n",
    "\n",
    "    def add_if_exists(element, column):\n",
    "        entry_details[column] = [\n",
    "            element.next_sibling.string if element is not None\n",
    "            else \"none\"] \n",
    "    \n",
    "    #levels\n",
    "    add_if_exists(div.find(\"dt\", string=\"level:\"), \"level\")\n",
    "\n",
    "    #synonyms\n",
    "    sinonyms_key = div.find(\"i\", string=\"sin.:\")\n",
    "    if sinonyms_key:\n",
    "        sinonyms_key = sinonyms_key.parent\n",
    "    add_if_exists(sinonyms_key, \"synonym\")\n",
    "    \n",
    "    entry_details = pd.DataFrame.from_dict(entry_details)\n",
    "    dict_table = pd.concat([dict_table, entry_details])\n",
    "\n",
    "dict_table"
   ]
  },
  {
   "cell_type": "code",
   "execution_count": null,
   "metadata": {},
   "outputs": [],
   "source": []
  }
 ]
}