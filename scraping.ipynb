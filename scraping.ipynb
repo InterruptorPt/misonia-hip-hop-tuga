{
 "metadata": {
  "language_info": {
   "codemirror_mode": {
    "name": "ipython",
    "version": 3
   },
   "file_extension": ".py",
   "mimetype": "text/x-python",
   "name": "python",
   "nbconvert_exporter": "python",
   "pygments_lexer": "ipython3",
   "version": "3.7.7-final"
  },
  "orig_nbformat": 2,
  "kernelspec": {
   "name": "python37764bitbaseconda317a320067de44d78632809e320a2671",
   "display_name": "Python 3.7.7 64-bit ('base': conda)"
  }
 },
 "nbformat": 4,
 "nbformat_minor": 2,
 "cells": [
  {
   "cell_type": "code",
   "execution_count": 1,
   "metadata": {},
   "outputs": [],
   "source": [
    "import pandas as pd\n",
    "import numpy as np\n",
    "from tqdm.notebook import tqdm\n",
    "from dotenv import load_dotenv\n",
    "import json\n",
    "import os\n",
    "import lyricsgenius as genius\n"
   ]
  },
  {
   "cell_type": "code",
   "execution_count": 2,
   "metadata": {},
   "outputs": [],
   "source": [
    "#artist_list = [\"ProfJam\",\"Mike El Nite\"]\n",
    "artist_list = [\"Valete\", \"Regula\"]\n"
   ]
  },
  {
   "cell_type": "code",
   "execution_count": 3,
   "metadata": {},
   "outputs": [],
   "source": [
    "load_dotenv()\n",
    "geniusCreds = os.environ.get(\"geniusCreds\")\n",
    "\n",
    "# \"(Acoustic)\", \"Rework\", \"(Live)\", \"(Demo)\", \"TBA\", \"FULL LENGTH\", \"Billboard\", \"BBC\", \"bootleg\", 'فارسی', \"Türkçe\", \"Aşk Şarkısı\", \"instrumental\"\n",
    "\n",
    "api = genius.Genius(geniusCreds, verbose =False, excluded_terms = [\"Remix\", \"edit\", \"feat\", \"Paassatempo\"], sleep_time=0.3, remove_section_headers = True, skip_non_songs = True)"
   ]
  },
  {
   "cell_type": "code",
   "execution_count": 4,
   "metadata": {},
   "outputs": [
    {
     "output_type": "display_data",
     "data": {
      "text/plain": "HBox(children=(HTML(value=''), FloatProgress(value=0.0, max=2.0), HTML(value='')))",
      "application/vnd.jupyter.widget-view+json": {
       "version_major": 2,
       "version_minor": 0,
       "model_id": "af01ee2bd7b341f684ea8fb34808b482"
      }
     },
     "metadata": {}
    },
    {
     "output_type": "stream",
     "name": "stdout",
     "text": [
      "Wrote `Lyrics_Valete.json`\n",
      "Valete json saved\n",
      "Wrote `Lyrics_Regula.json`\n",
      "Regula json saved\n",
      "\n"
     ]
    }
   ],
   "source": [
    "def crawler(lst):\n",
    "    for name in tqdm(lst):\n",
    "        try:\n",
    "            artist = api.search_artist(name, per_page=50)\n",
    "            artist.save_lyrics()\n",
    "            print(str(name) + \" json saved\")\n",
    "        except:\n",
    "            print(\"failed for\", name)\n",
    "            file = open(r\"not-working.txt\",\"a\")\n",
    "            file.write(name)\n",
    "            file.close()\n",
    "\n",
    "crawler(artist_list)"
   ]
  },
  {
   "source": [
    "## Construção do conjunto de dados"
   ],
   "cell_type": "markdown",
   "metadata": {}
  },
  {
   "cell_type": "code",
   "execution_count": 5,
   "metadata": {},
   "outputs": [],
   "source": [
    "#initailizing empty dataframe for concat each json info\n",
    "maindata = pd.DataFrame()    \n",
    "\n",
    "for filename in os.listdir():\n",
    "    if filename.endswith(\".json\"): \n",
    "        with open(filename) as json_data:\n",
    "           \n",
    "            data = json.load(json_data)\n",
    "            \n",
    "            #getting artist name and release date\n",
    "            songs = data.get(\"songs\")\n",
    "            songs_df = pd.DataFrame(songs)\n",
    "             \n",
    "            #getting artist name and release date\n",
    "            songs_df[\"artist_name\"] = data.get(\"name\")\n",
    "            songs_df['date'] = [i.get(\"release_date\") for i in songs]\n",
    "\n",
    "            #getting album name\n",
    "            album_lst = [i.get(\"album\") for i in songs]\n",
    "            songs_df[\"album\"] = [i.get(\"name\") if i else \"---\" for i in album_lst]\n",
    "\n",
    "\n",
    "            maindata = pd.concat([maindata, songs_df])\n",
    "              \n",
    "maindata = maindata[['artist_name', 'title', 'album', 'lyrics', 'date', 'url']]\n",
    "     \n",
    "maindata.to_csv(\"teste.csv\")"
   ]
  }
 ]
}