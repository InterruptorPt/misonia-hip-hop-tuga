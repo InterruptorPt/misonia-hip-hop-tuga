{
 "metadata": {
  "language_info": {
   "codemirror_mode": {
    "name": "ipython",
    "version": 3
   },
   "file_extension": ".py",
   "mimetype": "text/x-python",
   "name": "python",
   "nbconvert_exporter": "python",
   "pygments_lexer": "ipython3",
   "version": "3.7.7-final"
  },
  "orig_nbformat": 2,
  "kernelspec": {
   "name": "python37764bitbaseconda317a320067de44d78632809e320a2671",
   "display_name": "Python 3.7.7 64-bit ('base': conda)"
  }
 },
 "nbformat": 4,
 "nbformat_minor": 2,
 "cells": [
  {
   "cell_type": "code",
   "execution_count": 20,
   "metadata": {},
   "outputs": [],
   "source": [
    "import os\n",
    "import glob\n",
    "import pandas as pd\n",
    "import requests\n",
    "import re\n",
    "from bs4 import BeautifulSoup"
   ]
  },
  {
   "cell_type": "code",
   "execution_count": 21,
   "metadata": {},
   "outputs": [],
   "source": [
    "# curl https://natura.di.uminho.pt/~jj/pln/calao/dicionario.html > dicionario.html\n",
    "\n",
    "with open(\"dicionario.html\") as fp:\n",
    "    soup = BeautifulSoup(fp)\n"
   ]
  },
  {
   "cell_type": "code",
   "execution_count": 22,
   "metadata": {
    "tags": []
   },
   "outputs": [
    {
     "output_type": "execute_result",
     "data": {
      "text/plain": [
       "                      term                                        description  \\\n",
       "0   a altas horas da noite                               muito tarde na noite   \n",
       "0           abafa-palhinha             &bullet; homossexual masculino passivo   \n",
       "0                   abafar  esconder, esquecer, mudar de assunto, fazer co...   \n",
       "0                    abafo                                    festas, carinho   \n",
       "0                abananado                  admirado, aturdido e sem palavras   \n",
       "..                     ...                                                ...   \n",
       "0                    zombi       pessoa que, mesmo a pé, está sempre a dormir   \n",
       "0                    zuate  referente à região das nádegas ou ânus, freque...   \n",
       "0                     zuca                                              é um:   \n",
       "0          zumba que zumba                                               None   \n",
       "0                    zupar  bater, normalmente usado como ameaça de puniçã...   \n",
       "\n",
       "                level                                            synonym  \n",
       "0                none   noite alta; noite cerrada; lá para as quinhentas  \n",
       "0    calão carroceiro   arrombado; paneleiro; larilas; lelé; bicha; b...  \n",
       "0                none                                               none  \n",
       "0                none   cafuné; carícia; meiguice; quitute; quindim; ...  \n",
       "0           coloquial   estupefacto; azuratado; aturdido; embasbacado...  \n",
       "..                ...                                                ...  \n",
       "0                none                  dorminhoco; sonolento; cu de sono  \n",
       "0               calão   bunda; alcofa; cu; peida; rabo; bilha; trasei...  \n",
       "0                none                                            brazuca  \n",
       "0                none                                               none  \n",
       "0                none          chegar a roupa ao pêlo; dar com o chinelo  \n",
       "\n",
       "[6528 rows x 4 columns]"
      ],
      "text/html": "<div>\n<style scoped>\n    .dataframe tbody tr th:only-of-type {\n        vertical-align: middle;\n    }\n\n    .dataframe tbody tr th {\n        vertical-align: top;\n    }\n\n    .dataframe thead th {\n        text-align: right;\n    }\n</style>\n<table border=\"1\" class=\"dataframe\">\n  <thead>\n    <tr style=\"text-align: right;\">\n      <th></th>\n      <th>term</th>\n      <th>description</th>\n      <th>level</th>\n      <th>synonym</th>\n    </tr>\n  </thead>\n  <tbody>\n    <tr>\n      <th>0</th>\n      <td>a altas horas da noite</td>\n      <td>muito tarde na noite</td>\n      <td>none</td>\n      <td>noite alta; noite cerrada; lá para as quinhentas</td>\n    </tr>\n    <tr>\n      <th>0</th>\n      <td>abafa-palhinha</td>\n      <td>&amp;bullet; homossexual masculino passivo</td>\n      <td>calão carroceiro</td>\n      <td>arrombado; paneleiro; larilas; lelé; bicha; b...</td>\n    </tr>\n    <tr>\n      <th>0</th>\n      <td>abafar</td>\n      <td>esconder, esquecer, mudar de assunto, fazer co...</td>\n      <td>none</td>\n      <td>none</td>\n    </tr>\n    <tr>\n      <th>0</th>\n      <td>abafo</td>\n      <td>festas, carinho</td>\n      <td>none</td>\n      <td>cafuné; carícia; meiguice; quitute; quindim; ...</td>\n    </tr>\n    <tr>\n      <th>0</th>\n      <td>abananado</td>\n      <td>admirado, aturdido e sem palavras</td>\n      <td>coloquial</td>\n      <td>estupefacto; azuratado; aturdido; embasbacado...</td>\n    </tr>\n    <tr>\n      <th>...</th>\n      <td>...</td>\n      <td>...</td>\n      <td>...</td>\n      <td>...</td>\n    </tr>\n    <tr>\n      <th>0</th>\n      <td>zombi</td>\n      <td>pessoa que, mesmo a pé, está sempre a dormir</td>\n      <td>none</td>\n      <td>dorminhoco; sonolento; cu de sono</td>\n    </tr>\n    <tr>\n      <th>0</th>\n      <td>zuate</td>\n      <td>referente à região das nádegas ou ânus, freque...</td>\n      <td>calão</td>\n      <td>bunda; alcofa; cu; peida; rabo; bilha; trasei...</td>\n    </tr>\n    <tr>\n      <th>0</th>\n      <td>zuca</td>\n      <td>é um:</td>\n      <td>none</td>\n      <td>brazuca</td>\n    </tr>\n    <tr>\n      <th>0</th>\n      <td>zumba que zumba</td>\n      <td>None</td>\n      <td>none</td>\n      <td>none</td>\n    </tr>\n    <tr>\n      <th>0</th>\n      <td>zupar</td>\n      <td>bater, normalmente usado como ameaça de puniçã...</td>\n      <td>none</td>\n      <td>chegar a roupa ao pêlo; dar com o chinelo</td>\n    </tr>\n  </tbody>\n</table>\n<p>6528 rows × 4 columns</p>\n</div>"
     },
     "metadata": {},
     "execution_count": 22
    }
   ],
   "source": [
    "entries = soup.findAll(class_= 'entry')    \n",
    "\n",
    "dict_table = pd.DataFrame()\n",
    "\n",
    "for entry in entries:\n",
    "    #term\n",
    "    entry_details = {}\n",
    "    term = entry.find(\"div\", attrs = {\"class\": \"term\"}).string\n",
    "    entry_details[\"term\"] = [term]\n",
    "    \n",
    "    #description\n",
    "    information = entry.find(\"div\", attrs = {\"class\": \"inf\"})\n",
    "    if information is not None:\n",
    "        description = information.find(\"dt\")\n",
    "        entry_details[\"description\"] = [description and description.string]\n",
    "\n",
    "        def add_if_exists(element, column):\n",
    "            entry_details[column] = [\n",
    "                element.find_next_sibling().string if element is not None\n",
    "                else \"none\"] \n",
    "        \n",
    "        #levels\n",
    "        add_if_exists(information.find(\"dt\", string=\"level:\"), \"level\")\n",
    "\n",
    "        #synonyms\n",
    "        sinonyms_key = information.find(\"i\", string=\"sin.:\")\n",
    "        if sinonyms_key:\n",
    "            sinonyms_key = sinonyms_key.parent\n",
    "        add_if_exists(sinonyms_key, \"synonym\")\n",
    "    \n",
    "    entry_details = pd.DataFrame.from_dict(entry_details)\n",
    "    dict_table = pd.concat([dict_table, entry_details])\n",
    "\n",
    "dict_table"
   ]
  },
  {
   "cell_type": "code",
   "execution_count": 23,
   "metadata": {},
   "outputs": [
    {
     "output_type": "execute_result",
     "data": {
      "text/plain": [
       "array(['none', ' calão carroceiro', ' coloquial', ' calão', ' erudito',\n",
       "       ' arcaico', ' calão muito carroceiro',\n",
       "       ' calão estupidamente carroceiro', ' arcaico ( anos 80 )',\n",
       "       ' arcaico ( medieval )', ' arcaico ( séc. XX )', ' infantil',\n",
       "       ' arcaico ( anos 30 )', ' arcaico ( rural )',\n",
       "       ' arcaico ( anos 70 )', ' arcaico ( anos 60 )',\n",
       "       ' arcaico ( mas ainda bastante activo )',\n",
       "       ' arcaico ( mitologia grega )'], dtype=object)"
      ]
     },
     "metadata": {},
     "execution_count": 23
    }
   ],
   "source": [
    "pd.unique(dict_table.level)"
   ]
  },
  {
   "cell_type": "code",
   "execution_count": 24,
   "metadata": {},
   "outputs": [
    {
     "output_type": "execute_result",
     "data": {
      "text/plain": [
       "term           object\n",
       "description    object\n",
       "level          object\n",
       "synonym        object\n",
       "scale           int64\n",
       "dtype: object"
      ]
     },
     "metadata": {},
     "execution_count": 24
    }
   ],
   "source": [
    "level_dict = {' calão carroceiro':3, ' coloquial':1, ' calão':2, ' calão muito carroceiro':4,' calão estupidamente carroceiro':5}\n",
    "\n",
    "\n",
    "dict_table['scale'] = dict_table['level'].replace(level_dict)\n",
    "dict_table['scale'] = dict_table['scale'].replace(['none', ' erudito',\n",
    "       ' arcaico', ' arcaico ( anos 80 )',\n",
    "       ' arcaico ( medieval )', ' arcaico ( séc. XX )', ' infantil',\n",
    "       ' arcaico ( anos 30 )', ' arcaico ( rural )',\n",
    "       ' arcaico ( anos 70 )', ' arcaico ( anos 60 )',\n",
    "       ' arcaico ( mas ainda bastante activo )',\n",
    "       ' arcaico ( mitologia grega )'],0)\n",
    "\n",
    "dict_table.dtypes"
   ]
  },
  {
   "cell_type": "code",
   "execution_count": 25,
   "metadata": {},
   "outputs": [
    {
     "output_type": "execute_result",
     "data": {
      "text/plain": [
       "0    0\n",
       "0    3\n",
       "0    0\n",
       "0    0\n",
       "0    1\n",
       "    ..\n",
       "0    0\n",
       "0    2\n",
       "0    0\n",
       "0    0\n",
       "0    0\n",
       "Name: scale, Length: 6528, dtype: int64"
      ]
     },
     "metadata": {},
     "execution_count": 25
    }
   ],
   "source": [
    "dict_table['scale'].astype(int)"
   ]
  },
  {
   "cell_type": "code",
   "execution_count": 26,
   "metadata": {},
   "outputs": [
    {
     "output_type": "execute_result",
     "data": {
      "text/plain": [
       "                        term  \\\n",
       "0     a altas horas da noite   \n",
       "1             abafa-palhinha   \n",
       "2                     abafar   \n",
       "3                      abafo   \n",
       "4                  abananado   \n",
       "...                      ...   \n",
       "6523                   zombi   \n",
       "6524                   zuate   \n",
       "6525                    zuca   \n",
       "6526         zumba que zumba   \n",
       "6527                   zupar   \n",
       "\n",
       "                                            description              level  \\\n",
       "0                                  muito tarde na noite               none   \n",
       "1                &bullet; homossexual masculino passivo   calão carroceiro   \n",
       "2     esconder, esquecer, mudar de assunto, fazer co...               none   \n",
       "3                                       festas, carinho               none   \n",
       "4                     admirado, aturdido e sem palavras          coloquial   \n",
       "...                                                 ...                ...   \n",
       "6523       pessoa que, mesmo a pé, está sempre a dormir               none   \n",
       "6524  referente à região das nádegas ou ânus, freque...              calão   \n",
       "6525                                              é um:               none   \n",
       "6526                                               None               none   \n",
       "6527  bater, normalmente usado como ameaça de puniçã...               none   \n",
       "\n",
       "                                                synonym  scale  \n",
       "0      noite alta; noite cerrada; lá para as quinhentas      0  \n",
       "1      arrombado; paneleiro; larilas; lelé; bicha; b...      3  \n",
       "2                                                  none      0  \n",
       "3      cafuné; carícia; meiguice; quitute; quindim; ...      0  \n",
       "4      estupefacto; azuratado; aturdido; embasbacado...      1  \n",
       "...                                                 ...    ...  \n",
       "6523                  dorminhoco; sonolento; cu de sono      0  \n",
       "6524   bunda; alcofa; cu; peida; rabo; bilha; trasei...      2  \n",
       "6525                                            brazuca      0  \n",
       "6526                                               none      0  \n",
       "6527          chegar a roupa ao pêlo; dar com o chinelo      0  \n",
       "\n",
       "[6528 rows x 5 columns]"
      ],
      "text/html": "<div>\n<style scoped>\n    .dataframe tbody tr th:only-of-type {\n        vertical-align: middle;\n    }\n\n    .dataframe tbody tr th {\n        vertical-align: top;\n    }\n\n    .dataframe thead th {\n        text-align: right;\n    }\n</style>\n<table border=\"1\" class=\"dataframe\">\n  <thead>\n    <tr style=\"text-align: right;\">\n      <th></th>\n      <th>term</th>\n      <th>description</th>\n      <th>level</th>\n      <th>synonym</th>\n      <th>scale</th>\n    </tr>\n  </thead>\n  <tbody>\n    <tr>\n      <th>0</th>\n      <td>a altas horas da noite</td>\n      <td>muito tarde na noite</td>\n      <td>none</td>\n      <td>noite alta; noite cerrada; lá para as quinhentas</td>\n      <td>0</td>\n    </tr>\n    <tr>\n      <th>1</th>\n      <td>abafa-palhinha</td>\n      <td>&amp;bullet; homossexual masculino passivo</td>\n      <td>calão carroceiro</td>\n      <td>arrombado; paneleiro; larilas; lelé; bicha; b...</td>\n      <td>3</td>\n    </tr>\n    <tr>\n      <th>2</th>\n      <td>abafar</td>\n      <td>esconder, esquecer, mudar de assunto, fazer co...</td>\n      <td>none</td>\n      <td>none</td>\n      <td>0</td>\n    </tr>\n    <tr>\n      <th>3</th>\n      <td>abafo</td>\n      <td>festas, carinho</td>\n      <td>none</td>\n      <td>cafuné; carícia; meiguice; quitute; quindim; ...</td>\n      <td>0</td>\n    </tr>\n    <tr>\n      <th>4</th>\n      <td>abananado</td>\n      <td>admirado, aturdido e sem palavras</td>\n      <td>coloquial</td>\n      <td>estupefacto; azuratado; aturdido; embasbacado...</td>\n      <td>1</td>\n    </tr>\n    <tr>\n      <th>...</th>\n      <td>...</td>\n      <td>...</td>\n      <td>...</td>\n      <td>...</td>\n      <td>...</td>\n    </tr>\n    <tr>\n      <th>6523</th>\n      <td>zombi</td>\n      <td>pessoa que, mesmo a pé, está sempre a dormir</td>\n      <td>none</td>\n      <td>dorminhoco; sonolento; cu de sono</td>\n      <td>0</td>\n    </tr>\n    <tr>\n      <th>6524</th>\n      <td>zuate</td>\n      <td>referente à região das nádegas ou ânus, freque...</td>\n      <td>calão</td>\n      <td>bunda; alcofa; cu; peida; rabo; bilha; trasei...</td>\n      <td>2</td>\n    </tr>\n    <tr>\n      <th>6525</th>\n      <td>zuca</td>\n      <td>é um:</td>\n      <td>none</td>\n      <td>brazuca</td>\n      <td>0</td>\n    </tr>\n    <tr>\n      <th>6526</th>\n      <td>zumba que zumba</td>\n      <td>None</td>\n      <td>none</td>\n      <td>none</td>\n      <td>0</td>\n    </tr>\n    <tr>\n      <th>6527</th>\n      <td>zupar</td>\n      <td>bater, normalmente usado como ameaça de puniçã...</td>\n      <td>none</td>\n      <td>chegar a roupa ao pêlo; dar com o chinelo</td>\n      <td>0</td>\n    </tr>\n  </tbody>\n</table>\n<p>6528 rows × 5 columns</p>\n</div>"
     },
     "metadata": {},
     "execution_count": 26
    }
   ],
   "source": [
    "dict_table.reset_index(drop=True, inplace=True)\n",
    "dict_table"
   ]
  },
  {
   "cell_type": "code",
   "execution_count": 27,
   "metadata": {},
   "outputs": [
    {
     "output_type": "execute_result",
     "data": {
      "text/plain": [
       "                  term                                        description  \\\n",
       "1       abafa-palhinha             &bullet; homossexual masculino passivo   \n",
       "4            abananado                  admirado, aturdido e sem palavras   \n",
       "11              à beça                               em grande quantidade   \n",
       "13          abichanado             &bullet; homossexual masculino passivo   \n",
       "20    abono de família               órgão sexual masculino, pénis, pênis   \n",
       "...                ...                                                ...   \n",
       "6508             xarro                                               None   \n",
       "6511           xibungo             &bullet; homossexual masculino passivo   \n",
       "6512          xilindró                                             cadeia   \n",
       "6518              xulo                                              é um:   \n",
       "6524             zuate  referente à região das nádegas ou ânus, freque...   \n",
       "\n",
       "                  level                                            synonym  \\\n",
       "1      calão carroceiro   arrombado; paneleiro; larilas; lelé; bicha; b...   \n",
       "4             coloquial   estupefacto; azuratado; aturdido; embasbacado...   \n",
       "11            coloquial                                               None   \n",
       "13                calão   arrombado; paneleiro; larilas; lelé; bicha; b...   \n",
       "20            coloquial                                               None   \n",
       "...                 ...                                                ...   \n",
       "6508          coloquial                            cavalo; heroína; charro   \n",
       "6511   calão carroceiro   arrombado; paneleiro; larilas; lelé; bicha; b...   \n",
       "6512          coloquial   pildra; choça; prisão; prisa; calabouço; masm...   \n",
       "6518   calão carroceiro                                               none   \n",
       "6524              calão   bunda; alcofa; cu; peida; rabo; bilha; trasei...   \n",
       "\n",
       "      scale  \n",
       "1         3  \n",
       "4         1  \n",
       "11        1  \n",
       "13        2  \n",
       "20        1  \n",
       "...     ...  \n",
       "6508      1  \n",
       "6511      3  \n",
       "6512      1  \n",
       "6518      3  \n",
       "6524      2  \n",
       "\n",
       "[720 rows x 5 columns]"
      ],
      "text/html": "<div>\n<style scoped>\n    .dataframe tbody tr th:only-of-type {\n        vertical-align: middle;\n    }\n\n    .dataframe tbody tr th {\n        vertical-align: top;\n    }\n\n    .dataframe thead th {\n        text-align: right;\n    }\n</style>\n<table border=\"1\" class=\"dataframe\">\n  <thead>\n    <tr style=\"text-align: right;\">\n      <th></th>\n      <th>term</th>\n      <th>description</th>\n      <th>level</th>\n      <th>synonym</th>\n      <th>scale</th>\n    </tr>\n  </thead>\n  <tbody>\n    <tr>\n      <th>1</th>\n      <td>abafa-palhinha</td>\n      <td>&amp;bullet; homossexual masculino passivo</td>\n      <td>calão carroceiro</td>\n      <td>arrombado; paneleiro; larilas; lelé; bicha; b...</td>\n      <td>3</td>\n    </tr>\n    <tr>\n      <th>4</th>\n      <td>abananado</td>\n      <td>admirado, aturdido e sem palavras</td>\n      <td>coloquial</td>\n      <td>estupefacto; azuratado; aturdido; embasbacado...</td>\n      <td>1</td>\n    </tr>\n    <tr>\n      <th>11</th>\n      <td>à beça</td>\n      <td>em grande quantidade</td>\n      <td>coloquial</td>\n      <td>None</td>\n      <td>1</td>\n    </tr>\n    <tr>\n      <th>13</th>\n      <td>abichanado</td>\n      <td>&amp;bullet; homossexual masculino passivo</td>\n      <td>calão</td>\n      <td>arrombado; paneleiro; larilas; lelé; bicha; b...</td>\n      <td>2</td>\n    </tr>\n    <tr>\n      <th>20</th>\n      <td>abono de família</td>\n      <td>órgão sexual masculino, pénis, pênis</td>\n      <td>coloquial</td>\n      <td>None</td>\n      <td>1</td>\n    </tr>\n    <tr>\n      <th>...</th>\n      <td>...</td>\n      <td>...</td>\n      <td>...</td>\n      <td>...</td>\n      <td>...</td>\n    </tr>\n    <tr>\n      <th>6508</th>\n      <td>xarro</td>\n      <td>None</td>\n      <td>coloquial</td>\n      <td>cavalo; heroína; charro</td>\n      <td>1</td>\n    </tr>\n    <tr>\n      <th>6511</th>\n      <td>xibungo</td>\n      <td>&amp;bullet; homossexual masculino passivo</td>\n      <td>calão carroceiro</td>\n      <td>arrombado; paneleiro; larilas; lelé; bicha; b...</td>\n      <td>3</td>\n    </tr>\n    <tr>\n      <th>6512</th>\n      <td>xilindró</td>\n      <td>cadeia</td>\n      <td>coloquial</td>\n      <td>pildra; choça; prisão; prisa; calabouço; masm...</td>\n      <td>1</td>\n    </tr>\n    <tr>\n      <th>6518</th>\n      <td>xulo</td>\n      <td>é um:</td>\n      <td>calão carroceiro</td>\n      <td>none</td>\n      <td>3</td>\n    </tr>\n    <tr>\n      <th>6524</th>\n      <td>zuate</td>\n      <td>referente à região das nádegas ou ânus, freque...</td>\n      <td>calão</td>\n      <td>bunda; alcofa; cu; peida; rabo; bilha; trasei...</td>\n      <td>2</td>\n    </tr>\n  </tbody>\n</table>\n<p>720 rows × 5 columns</p>\n</div>"
     },
     "metadata": {},
     "execution_count": 27
    }
   ],
   "source": [
    "dict_table = dict_table[dict_table['scale'] > 0]\n",
    "dict_table "
   ]
  },
  {
   "cell_type": "code",
   "execution_count": 28,
   "metadata": {},
   "outputs": [],
   "source": [
    "dict_table.to_csv(\"dicionario_limpo.csv\", index=False, sep=\"|\")"
   ]
  }
 ]
}